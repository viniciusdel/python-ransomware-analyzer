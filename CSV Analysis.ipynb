{
 "cells": [
  {
   "cell_type": "code",
   "execution_count": null,
   "metadata": {},
   "outputs": [],
   "source": [
    "#Data\n",
    "import pandas as pd\n",
    "import seaborn as sns\n",
    "#from tqdm import tqdm\n",
    "\n",
    "#Metrics\n",
    "from sklearn.model_selection import train_test_split\n",
    "from sklearn.model_selection import cross_val_score\n",
    "from sklearn.model_selection import StratifiedKFold\n",
    "from sklearn.metrics import classification_report\n",
    "from sklearn.metrics import confusion_matrix\n",
    "from sklearn.metrics import accuracy_score\n",
    "\n",
    "#Models\n",
    "from sklearn.linear_model import LogisticRegression\n",
    "from sklearn.tree import DecisionTreeClassifier\n",
    "from sklearn.neighbors import KNeighborsClassifier\n",
    "from sklearn.discriminant_analysis import LinearDiscriminantAnalysis\n",
    "from sklearn.svm import SVC\n",
    "from sklearn.ensemble import RandomForestClassifier\n",
    "from sklearn.neural_network import MLPClassifier\n",
    "\n",
    "sns.set()"
   ]
  },
  {
   "cell_type": "code",
   "execution_count": null,
   "metadata": {},
   "outputs": [],
   "source": [
    "#import dataframes\n",
    "df1 = pd.read_csv('ransom_csv.csv')\n",
    "df2 = pd.read_csv('benign_csv.csv')\n",
    "\n",
    "#label the dataframes\n",
    "df1['label'] = 'Ransomware'\n",
    "df2['label'] = 'Benign'\n",
    "\n",
    "#drop extra first column\n",
    "df1 = df1.drop(df1.columns[0], axis=1)\n",
    "df2 = df2.drop(df2.columns[0], axis=1)\n",
    "\n",
    "#remove the name column (string)\n",
    "df1 = df1.drop('Name', axis=1)\n",
    "df2 = df2.drop('Name', axis=1)\n",
    "\n",
    "#join the dataframes into 1 dataframe (df3)\n",
    "frames = [df1, df2]\n",
    "df3 = pd.concat(frames)\n",
    "\n",
    "#shuffle!\n",
    "df3 = df3.sample(frac=1)\n",
    "df1 = df1.sample(frac=1)\n",
    "df2 = df2.sample(frac=1)"
   ]
  },
  {
   "cell_type": "code",
   "execution_count": null,
   "metadata": {},
   "outputs": [],
   "source": [
    "#Visualize data\n",
    "df3.head()\n",
    "#df2.describe()"
   ]
  },
  {
   "cell_type": "code",
   "execution_count": null,
   "metadata": {},
   "outputs": [],
   "source": [
    "#Define Validation method\n",
    "#Train and validation set split\n",
    "from sklearn.model_selection import train_test_split\n",
    "\n",
    "array = df3.values\n",
    "\n",
    "#All of the non-label columns\n",
    "X = array[:, 0:-1]\n",
    "\n",
    "#label column\n",
    "y = array[:, -1]\n",
    "\n",
    "#Obtain the train/validation datasets on a 80/20 split\n",
    "#TODO same w/ tenfold cross val\n",
    "# compare results\n",
    "X_train, X_validation, Y_train, Y_validation = train_test_split(X, y, test_size=0.20, random_state=12)"
   ]
  },
  {
   "cell_type": "code",
   "execution_count": null,
   "metadata": {},
   "outputs": [],
   "source": [
    "from sklearn.ensemble import VotingClassifier\n",
    "\n",
    "#Spot Check Algorithms\n",
    "models = []\n",
    "models.append(('LR', LogisticRegression(solver='liblinear', multi_class='ovr')))\n",
    "models.append(('LDA', LinearDiscriminantAnalysis()))\n",
    "models.append(('KNN', KNeighborsClassifier()))\n",
    "models.append(('CART', DecisionTreeClassifier()))\n",
    "models.append(('SVM', SVC(gamma='auto')))\n",
    "models.append(('RF', RandomForestClassifier()))\n",
    "models.append(('CNN', MLPClassifier(solver='lbfgs', alpha=1e-5, hidden_layer_sizes=(5, 2), random_state=16, max_iter = 1000)))\n",
    "\n",
    "# evaluate each model in turn\n",
    "results = []\n",
    "names = []\n",
    "for name, model in models:\n",
    "\tkfold = StratifiedKFold(n_splits=10, random_state=1, shuffle=True)\n",
    "\tcv_results = cross_val_score(model, X_train, Y_train, cv=kfold, scoring='accuracy')\n",
    "\tresults.append(cv_results)\n",
    "\tnames.append(name)\n",
    "\tprint('%s: %f (%f)' % (name, cv_results.mean(), cv_results.std()))"
   ]
  },
  {
   "cell_type": "code",
   "execution_count": null,
   "metadata": {},
   "outputs": [],
   "source": [
    "# Make predictions on validation dataset\n",
    "model = MLPClassifier(solver='lbfgs', alpha=1e-5, hidden_layer_sizes=(5, 2), random_state=16, max_iter = 1000)\n",
    "model.fit(X_train, Y_train)\n",
    "predictions = model.predict(X_validation)"
   ]
  },
  {
   "cell_type": "code",
   "execution_count": null,
   "metadata": {},
   "outputs": [],
   "source": [
    "# Evaluate predictions\n",
    "print(accuracy_score(Y_validation, predictions))\n",
    "print(confusion_matrix(Y_validation, predictions))\n",
    "print(classification_report(Y_validation, predictions))"
   ]
  },
  {
   "cell_type": "code",
   "execution_count": null,
   "metadata": {},
   "outputs": [],
   "source": [
    "clf1 = LogisticRegression(random_state=1)\n",
    "clf2 = RandomForestClassifier(n_estimators=50, random_state=1)\n",
    "clf3 = SVC(gamma='auto')\n",
    "\n",
    "eclf = VotingClassifier(estimators=[('lr', clf1), ('rf', clf2), ('SVM', clf3)],\n",
    "                        voting='hard')\n",
    "\n",
    "for clf, label in zip(\n",
    "    [clf1, clf2, clf3, eclf],\n",
    "    ['Logistic Regression', 'Random Forest', 'SVM', 'Ensemble']):\n",
    "    scores = cross_val_score(clf, X, y, scoring='accuracy', cv=5)\n",
    "    print(\"Accuracy: %0.2f (+/- %0.2f) [%s]\" %\n",
    "          (scores.mean(), scores.std(), label))"
   ]
  },
  {
   "cell_type": "code",
   "execution_count": 21,
   "metadata": {},
   "outputs": [
    {
     "name": "stdout",
     "output_type": "stream",
     "text": [
      "0.9801084990958409\n",
      "[[197   2]\n",
      " [  9 345]]\n",
      "              precision    recall  f1-score   support\n",
      "\n",
      "      Benign       0.96      0.99      0.97       199\n",
      "  Ransomware       0.99      0.97      0.98       354\n",
      "\n",
      "    accuracy                           0.98       553\n",
      "   macro avg       0.98      0.98      0.98       553\n",
      "weighted avg       0.98      0.98      0.98       553\n",
      "\n",
      "Accuracy: 0.98 (+/- 0.01) [Logistic Regression]\n",
      "Accuracy: 0.99 (+/- 0.01) [Random Forest]\n",
      "Accuracy: 0.99 (+/- 0.00) [Dec. Tree]\n"
     ]
    },
    {
     "name": "stderr",
     "output_type": "stream",
     "text": [
      "C:\\Users\\Vin\\AppData\\Local\\Packages\\PythonSoftwareFoundation.Python.3.7_qbz5n2kfra8p0\\LocalCache\\local-packages\\Python37\\site-packages\\sklearn\\neural_network\\_multilayer_perceptron.py:549: ConvergenceWarning: lbfgs failed to converge (status=2):\n",
      "ABNORMAL_TERMINATION_IN_LNSRCH.\n",
      "\n",
      "Increase the number of iterations (max_iter) or scale the data as shown in:\n",
      "    https://scikit-learn.org/stable/modules/preprocessing.html\n",
      "  self.n_iter_ = _check_optimize_result(\"lbfgs\", opt_res, self.max_iter)\n"
     ]
    },
    {
     "name": "stdout",
     "output_type": "stream",
     "text": [
      "Accuracy: 0.98 (+/- 0.01) [CNN]\n"
     ]
    },
    {
     "name": "stderr",
     "output_type": "stream",
     "text": [
      "C:\\Users\\Vin\\AppData\\Local\\Packages\\PythonSoftwareFoundation.Python.3.7_qbz5n2kfra8p0\\LocalCache\\local-packages\\Python37\\site-packages\\sklearn\\neural_network\\_multilayer_perceptron.py:549: ConvergenceWarning: lbfgs failed to converge (status=2):\n",
      "ABNORMAL_TERMINATION_IN_LNSRCH.\n",
      "\n",
      "Increase the number of iterations (max_iter) or scale the data as shown in:\n",
      "    https://scikit-learn.org/stable/modules/preprocessing.html\n",
      "  self.n_iter_ = _check_optimize_result(\"lbfgs\", opt_res, self.max_iter)\n"
     ]
    },
    {
     "name": "stdout",
     "output_type": "stream",
     "text": [
      "Accuracy: 0.98 (+/- 0.01) [Ensamble]\n"
     ]
    }
   ],
   "source": [
    "clf1 = LogisticRegression(random_state=16, max_iter= 1200)\n",
    "clf2 = RandomForestClassifier(n_estimators=50, random_state=12)\n",
    "clf3 = DecisionTreeClassifier()\n",
    "clf4 = MLPClassifier(solver='lbfgs', alpha=1e-5, hidden_layer_sizes=(5, 2), random_state=16, max_iter = 100000)\n",
    "\n",
    "eclf = VotingClassifier(estimators=[('lr', clf1), ('rf', clf2), ('dt', clf3), ('cnn', clf4)],\n",
    "                        voting='hard')\n",
    "\n",
    "# Make predictions on validation dataset\n",
    "model = eclf\n",
    "model.fit(X_train, Y_train)\n",
    "predictions = model.predict(X_validation)\n",
    "\n",
    "# Evaluate predictions\n",
    "print(accuracy_score(Y_validation, predictions))\n",
    "print(confusion_matrix(Y_validation, predictions))\n",
    "print(classification_report(Y_validation, predictions))\n",
    "\n",
    "for clf, label in zip(\n",
    "    [clf1, clf2, clf3, clf4, eclf],\n",
    "    ['Logistic Regression', 'Random Forest', 'Dec. Tree', 'CNN', 'Ensamble']):\n",
    "    scores = cross_val_score(clf, X, y, scoring='accuracy', cv=5)\n",
    "    print(\"Accuracy: %0.2f (+/- %0.2f) [%s]\" %\n",
    "          (scores.mean(), scores.std(), label))"
   ]
  },
  {
   "cell_type": "markdown",
   "metadata": {},
   "source": [
    "#TODO\n",
    "\n",
    "Confusion Matrix\n",
    "Accuracy\n",
    "Precision/Recall\n",
    "Macro/W. Avegare\n",
    "\n",
    "Add barchart comparisons of features\n",
    "Feature Engineering / Selection"
   ]
  }
 ],
 "metadata": {
  "interpreter": {
   "hash": "320ac9d7d90cb04b1d605a796df630f2fa27669b38d4922559081428401cacbd"
  },
  "kernelspec": {
   "display_name": "Python 3.7.9 64-bit (windows store)",
   "language": "python",
   "name": "python3"
  },
  "language_info": {
   "codemirror_mode": {
    "name": "ipython",
    "version": 3
   },
   "file_extension": ".py",
   "mimetype": "text/x-python",
   "name": "python",
   "nbconvert_exporter": "python",
   "pygments_lexer": "ipython3",
   "version": "3.7.9"
  },
  "orig_nbformat": 4
 },
 "nbformat": 4,
 "nbformat_minor": 2
}
