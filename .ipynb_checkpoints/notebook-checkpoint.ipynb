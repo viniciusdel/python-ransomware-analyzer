{
 "cells": [
  {
   "cell_type": "code",
   "execution_count": 7,
   "metadata": {},
   "outputs": [],
   "source": [
    "from os import walk\n",
    "import pandas as pd"
   ]
  },
  {
   "cell_type": "code",
   "execution_count": 13,
   "metadata": {},
   "outputs": [],
   "source": [
    "methods_to_find = []\n",
    "found_lines = []\n",
    "\n",
    "#read file using pandas\n",
    "df = pd.read_csv('functions.csv')\n",
    "\n",
    "methods_to_find = df.functions\n",
    "\n",
    "#print(methods_to_find)"
   ]
  },
  {
   "cell_type": "code",
   "execution_count": 14,
   "metadata": {},
   "outputs": [],
   "source": [
    "def findFunctionsInDir(dir, list):\n",
    "    #for each directory, and files\n",
    "    for dirpath, dirnames, files in walk(dir):\n",
    "        print(f'Found directory: {dirpath}')\n",
    "        for file_name in files:\n",
    "\n",
    "            #if it is a smali file\n",
    "            if('.smali' in file_name):\n",
    "                \n",
    "                #print file name\n",
    "                print(file_name)\n",
    "\n",
    "                #open file and print line number and contents\n",
    "                with open(dirpath + \"\\\\\" + file_name) as myFile:\n",
    "                    for num, line in enumerate(myFile, 1):\n",
    "                        for i in methods_to_find:\n",
    "                            if(i in line and 'invoke' in line):\n",
    "                                #print the harmful line\n",
    "                                print(num, \": \", line)\n",
    "                                found_lines.append(line)"
   ]
  },
  {
   "cell_type": "code",
   "execution_count": 15,
   "metadata": {},
   "outputs": [
    {
     "name": "stdout",
     "output_type": "stream",
     "text": [
      "Found directory: C:\\Users\\vinic\\Desktop\\apktool\\simp\\smali\n",
      "Found directory: C:\\Users\\vinic\\Desktop\\apktool\\simp\\smali\\adrt\n",
      "ADRTLogCatReader.smali\n",
      "ADRTSender.smali\n",
      "Found directory: C:\\Users\\vinic\\Desktop\\apktool\\simp\\smali\\com\n",
      "Found directory: C:\\Users\\vinic\\Desktop\\apktool\\simp\\smali\\com\\jianshang\n",
      "Found directory: C:\\Users\\vinic\\Desktop\\apktool\\simp\\smali\\com\\jianshang\\locl\n",
      "a.smali\n",
      "141 :      invoke-direct {v4, v3}, Ljava/io/FileInputStream;-><init>(Ljava/io/File;)V\n",
      "\n",
      "149 :      invoke-virtual {v4, v5}, Ljava/io/FileInputStream;->read([B)I\n",
      "\n",
      "186 :      invoke-virtual {v4}, Ljava/io/FileInputStream;->close()V\n",
      "\n",
      "251 :      invoke-virtual {v3}, Ljava/io/FileInputStream;->close()V\n",
      "\n",
      "322 :      invoke-virtual {v4}, Ljava/io/FileInputStream;->close()V\n",
      "\n",
      "466 :      invoke-direct {v0, p1}, Ljava/io/FileInputStream;-><init>(Ljava/io/File;)V\n",
      "\n",
      "534 :      invoke-virtual {p0}, Lcom/jianshang/locl/a;->getFilesDir()Ljava/io/File;\n",
      "\n",
      "665 :      invoke-static {v0}, Lcom/jianshang/locl/a;->readPhoneNumber(Ljava/lang/String;)Ljava/lang/String;\n",
      "\n",
      "680 :      invoke-virtual {p0, v0, v4}, Lcom/jianshang/locl/a;->getSharedPreferences(Ljava/lang/String;I)Landroid/content/SharedPreferences;\n",
      "\n",
      "b$100000000.smali\n",
      "b.smali\n",
      "213 :      invoke-virtual {p0, v0, v1}, Lcom/jianshang/locl/b;->getSharedPreferences(Ljava/lang/String;I)Landroid/content/SharedPreferences;\n",
      "\n",
      "BuildConfig.smali\n",
      "c.smali\n",
      "R$attr.smali\n",
      "R$drawable.smali\n",
      "R$id.smali\n",
      "R$layout.smali\n",
      "R$string.smali\n",
      "R$style.smali\n",
      "R.smali\n"
     ]
    }
   ],
   "source": [
    "directory = \"C:\\\\Users\\\\vinic\\\\Desktop\\\\apktool\\\\simp\\\\smali\"\n",
    "\n",
    "findFunctionsInDir(directory, 0)"
   ]
  },
  {
   "cell_type": "code",
   "execution_count": 11,
   "metadata": {},
   "outputs": [
    {
     "name": "stdout",
     "output_type": "stream",
     "text": [
      "\n"
     ]
    }
   ],
   "source": [
    "print('\\n'.join(found_lines))"
   ]
  },
  {
   "cell_type": "code",
   "execution_count": null,
   "metadata": {},
   "outputs": [],
   "source": []
  }
 ],
 "metadata": {
  "kernelspec": {
   "display_name": "Python 3",
   "language": "python",
   "name": "python3"
  },
  "language_info": {
   "codemirror_mode": {
    "name": "ipython",
    "version": 3
   },
   "file_extension": ".py",
   "mimetype": "text/x-python",
   "name": "python",
   "nbconvert_exporter": "python",
   "pygments_lexer": "ipython3",
   "version": "3.8.8"
  }
 },
 "nbformat": 4,
 "nbformat_minor": 2
}
