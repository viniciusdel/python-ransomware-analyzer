{
 "cells": [
  {
   "cell_type": "markdown",
   "metadata": {},
   "source": [
    "## Smali & Manifest File Analysis\n",
    "\n",
    "This notebook will try to analyze a directory and its SMALI and MANIFEST files. The analysis will find and print sensitive methods and packages used by the program. "
   ]
  },
  {
   "cell_type": "code",
   "execution_count": 1,
   "metadata": {},
   "outputs": [],
   "source": [
    "from os import walk\n",
    "import pandas as pd"
   ]
  },
  {
   "cell_type": "markdown",
   "metadata": {},
   "source": [
    "## Initially, we declare the lists, and read csvs into the dataframe."
   ]
  },
  {
   "cell_type": "code",
   "execution_count": 2,
   "metadata": {},
   "outputs": [],
   "source": [
    "methods_to_find = []\n",
    "perms_to_find = []\n",
    "found_perms = []\n",
    "found_lines = []\n",
    "\n",
    "#read file using pandas\n",
    "df = pd.read_csv('functions.csv', engine='python')\n",
    "methods_to_find = df.functions\n",
    "df = pd.read_csv('perms.csv', engine='python')\n",
    "perms_to_find   = df.perms"
   ]
  },
  {
   "cell_type": "code",
   "execution_count": 3,
   "metadata": {},
   "outputs": [],
   "source": [
    "#perms_to_find.iloc[-1]  LAST ELEMENT\n",
    "frame = [perms_to_find, methods_to_find]\n",
    "mergedfind = pd.concat(frame)\n",
    "df = pd.DataFrame(columns=mergedfind)\n",
    "df.to_csv(path_or_buf=\"analysis.csv\")"
   ]
  },
  {
   "cell_type": "code",
   "execution_count": 32,
   "metadata": {},
   "outputs": [
    {
     "data": {
      "text/html": [
       "<div>\n",
       "<style scoped>\n",
       "    .dataframe tbody tr th:only-of-type {\n",
       "        vertical-align: middle;\n",
       "    }\n",
       "\n",
       "    .dataframe tbody tr th {\n",
       "        vertical-align: top;\n",
       "    }\n",
       "\n",
       "    .dataframe thead th {\n",
       "        text-align: right;\n",
       "    }\n",
       "</style>\n",
       "<table border=\"1\" class=\"dataframe\">\n",
       "  <thead>\n",
       "    <tr style=\"text-align: right;\">\n",
       "      <th></th>\n",
       "      <th>READ_CALENDAR</th>\n",
       "      <th>WRITE_CALENDAR</th>\n",
       "      <th>CAMERA</th>\n",
       "      <th>READ_CONTACTS</th>\n",
       "      <th>WRITE_CONTACTS</th>\n",
       "      <th>GET_ACCOUNTS</th>\n",
       "      <th>ACCESS_FINE_LOCATION</th>\n",
       "      <th>ACCESS_COARSE_LOCATION</th>\n",
       "      <th>RECORD_AUDIO</th>\n",
       "      <th>READ_PHONE_STATE</th>\n",
       "      <th>...</th>\n",
       "      <th>getExternalCacheDir</th>\n",
       "      <th>shareIntent</th>\n",
       "      <th>readPhoneNumber</th>\n",
       "      <th>FileInputStream</th>\n",
       "      <th>getSharedPreferences</th>\n",
       "      <th>telephony</th>\n",
       "      <th>getMessageBody</th>\n",
       "      <th>getDisplayOriginatingAddress</th>\n",
       "      <th>wallpaper</th>\n",
       "      <th>crypto</th>\n",
       "    </tr>\n",
       "  </thead>\n",
       "  <tbody>\n",
       "    <tr>\n",
       "      <th>0</th>\n",
       "      <td>0</td>\n",
       "      <td>0</td>\n",
       "      <td>0</td>\n",
       "      <td>0</td>\n",
       "      <td>0</td>\n",
       "      <td>0</td>\n",
       "      <td>0</td>\n",
       "      <td>0</td>\n",
       "      <td>0</td>\n",
       "      <td>0</td>\n",
       "      <td>...</td>\n",
       "      <td>0</td>\n",
       "      <td>0</td>\n",
       "      <td>0</td>\n",
       "      <td>0</td>\n",
       "      <td>0</td>\n",
       "      <td>0</td>\n",
       "      <td>0</td>\n",
       "      <td>0</td>\n",
       "      <td>0</td>\n",
       "      <td>0</td>\n",
       "    </tr>\n",
       "  </tbody>\n",
       "</table>\n",
       "<p>1 rows × 61 columns</p>\n",
       "</div>"
      ],
      "text/plain": [
       "  READ_CALENDAR WRITE_CALENDAR CAMERA READ_CONTACTS WRITE_CONTACTS  \\\n",
       "0             0              0      0             0              0   \n",
       "\n",
       "  GET_ACCOUNTS ACCESS_FINE_LOCATION ACCESS_COARSE_LOCATION RECORD_AUDIO  \\\n",
       "0            0                    0                      0            0   \n",
       "\n",
       "  READ_PHONE_STATE  ... getExternalCacheDir shareIntent readPhoneNumber  \\\n",
       "0                0  ...                   0           0               0   \n",
       "\n",
       "  FileInputStream getSharedPreferences telephony getMessageBody  \\\n",
       "0               0                    0         0              0   \n",
       "\n",
       "  getDisplayOriginatingAddress wallpaper crypto  \n",
       "0                            0         0      0  \n",
       "\n",
       "[1 rows x 61 columns]"
      ]
     },
     "execution_count": 32,
     "metadata": {},
     "output_type": "execute_result"
    }
   ],
   "source": [
    "#list to be appended\n",
    "newRow = [0] * mergedfind.size\n",
    "\n",
    "df"
   ]
  },
  {
   "cell_type": "code",
   "execution_count": 39,
   "metadata": {},
   "outputs": [],
   "source": [
    "def findFunctionsInDir(dir, list=0, verbose = True):\n",
    "    #for each directory, and files\n",
    "    for dirpath, dirnames, files in walk(dir):\n",
    "\n",
    "        #skip the res folder, too many subfolders, slows.\n",
    "        if('res' in dirpath): continue\n",
    "\n",
    "        if(verbose == True): print(f'Found directory: {dirpath}')\n",
    "        for file_name in files:\n",
    "\n",
    "            #if it is a smali file\n",
    "            if('.smali' in file_name):\n",
    "                \n",
    "                #print file name\n",
    "                if(verbose == True): print(file_name)\n",
    "\n",
    "                #open file and print line number and contents\n",
    "                with open(dirpath + \"\\\\\" + file_name) as myFile:\n",
    "                    for num, line in enumerate(myFile, 1):\n",
    "                        for i in methods_to_find:\n",
    "                            if(i in line and 'invoke' in line):\n",
    "                                #print the harmful line\n",
    "\n",
    "                                #df[methods_to_find.index(i)] = 1\n",
    "                                #df.iloc[0, methods_to_find.index(i)] = 1\n",
    "                                #initialize a whole row with 0s.\n",
    "\n",
    "                                if(line.strip() not in found_lines):\n",
    "                                    if(verbose == True): print(num, \": \", line)\n",
    "                                    found_lines.append(line.strip())\n",
    "\n",
    "            #if it is a manifest file\n",
    "            if('.xml' in file_name and 'anifest' in file_name):\n",
    "                \n",
    "                #print file name\n",
    "                if(verbose == True): print(file_name)\n",
    "\n",
    "                #open file and print line number and contents\n",
    "                #I had to use latin encoding here or it would simply not work.\n",
    "                with open(dirpath + \"\\\\\" + file_name, encoding=\"latin-1\") as myFile:\n",
    "                    for num, line in enumerate(myFile, 1):\n",
    "                        for i in perms_to_find:\n",
    "                            if(i in line and ('<uses-permission android:name=' in line)\n",
    "                                         or  ('<action android:name=\"android.app.action') in line):\n",
    "                                \n",
    "                                #problem line right here\n",
    "                                #newRow[perms_to_find.index(i)] = 1\n",
    "                                df.iloc[0, perms_to_find.index(i)] = 1\n",
    "                                \n",
    "                                #print the harmful line\n",
    "                                if(line.strip() not in found_perms):\n",
    "                                    if(verbose == True): print(num, \": \", line)\n",
    "                                    found_perms.append(line.strip())"
   ]
  },
  {
   "cell_type": "markdown",
   "metadata": {},
   "source": [
    "# ITS WORKING!"
   ]
  },
  {
   "cell_type": "code",
   "execution_count": 29,
   "metadata": {},
   "outputs": [
    {
     "name": "stderr",
     "output_type": "stream",
     "text": [
      "C:\\Users\\Vin\\AppData\\Local\\Packages\\PythonSoftwareFoundation.Python.3.7_qbz5n2kfra8p0\\LocalCache\\local-packages\\Python37\\site-packages\\pandas\\core\\indexing.py:723: SettingWithCopyWarning: \n",
      "A value is trying to be set on a copy of a slice from a DataFrame\n",
      "\n",
      "See the caveats in the documentation: https://pandas.pydata.org/pandas-docs/stable/user_guide/indexing.html#returning-a-view-versus-a-copy\n",
      "  iloc._setitem_with_indexer(indexer, value, self.name)\n"
     ]
    }
   ],
   "source": [
    "#list to be appended\n",
    "#newList = [0] * mergedfind.size\n",
    "\n",
    "#append list\n",
    "df.loc[len(df.index)] = newRow\n",
    "\n",
    "#clear dataframe\n",
    "#df = df.iloc[0:0]\n",
    "\n",
    "#check if empty\n",
    "#df.empty"
   ]
  },
  {
   "cell_type": "code",
   "execution_count": 40,
   "metadata": {},
   "outputs": [
    {
     "data": {
      "text/plain": [
       "'READ_CALENDAR'"
      ]
     },
     "execution_count": 40,
     "metadata": {},
     "output_type": "execute_result"
    }
   ],
   "source": [
    "perms_to_find.iloc[0]\n",
    "#whyy"
   ]
  },
  {
   "cell_type": "code",
   "execution_count": 42,
   "metadata": {
    "tags": []
   },
   "outputs": [
    {
     "name": "stdout",
     "output_type": "stream",
     "text": [
      "Found directory: C:\\Users\\Vin\\Desktop\\apktool\\Sample1-WannaLocker\\sample1\n",
      "AndroidManifest.xml\n"
     ]
    },
    {
     "ename": "TypeError",
     "evalue": "'RangeIndex' object is not callable",
     "output_type": "error",
     "traceback": [
      "\u001b[1;31m---------------------------------------------------------------------------\u001b[0m",
      "\u001b[1;31mTypeError\u001b[0m                                 Traceback (most recent call last)",
      "\u001b[1;32m~\\AppData\\Local\\Temp/ipykernel_8084/3877391193.py\u001b[0m in \u001b[0;36m<module>\u001b[1;34m\u001b[0m\n\u001b[0;32m      2\u001b[0m \u001b[0mdirectory\u001b[0m \u001b[1;33m=\u001b[0m \u001b[1;34m\"C:\\\\Users\\\\Vin\\\\Desktop\\\\apktool\\\\Sample1-WannaLocker\\\\sample1\"\u001b[0m\u001b[1;33m\u001b[0m\u001b[1;33m\u001b[0m\u001b[0m\n\u001b[0;32m      3\u001b[0m \u001b[1;33m\u001b[0m\u001b[0m\n\u001b[1;32m----> 4\u001b[1;33m \u001b[0mfindFunctionsInDir\u001b[0m\u001b[1;33m(\u001b[0m\u001b[0mdir\u001b[0m\u001b[1;33m=\u001b[0m\u001b[0mdirectory\u001b[0m\u001b[1;33m,\u001b[0m \u001b[0mverbose\u001b[0m\u001b[1;33m=\u001b[0m\u001b[1;32mTrue\u001b[0m\u001b[1;33m)\u001b[0m\u001b[1;33m\u001b[0m\u001b[1;33m\u001b[0m\u001b[0m\n\u001b[0m",
      "\u001b[1;32m~\\AppData\\Local\\Temp/ipykernel_8084/709392286.py\u001b[0m in \u001b[0;36mfindFunctionsInDir\u001b[1;34m(dir, list, verbose)\u001b[0m\n\u001b[0;32m     46\u001b[0m                                 \u001b[1;31m#problem line right here\u001b[0m\u001b[1;33m\u001b[0m\u001b[1;33m\u001b[0m\u001b[1;33m\u001b[0m\u001b[0m\n\u001b[0;32m     47\u001b[0m                                 \u001b[1;31m#newRow[perms_to_find.index(i)] = 1\u001b[0m\u001b[1;33m\u001b[0m\u001b[1;33m\u001b[0m\u001b[1;33m\u001b[0m\u001b[0m\n\u001b[1;32m---> 48\u001b[1;33m                                 \u001b[0mdf\u001b[0m\u001b[1;33m.\u001b[0m\u001b[0miloc\u001b[0m\u001b[1;33m[\u001b[0m\u001b[1;36m0\u001b[0m\u001b[1;33m,\u001b[0m \u001b[0mperms_to_find\u001b[0m\u001b[1;33m.\u001b[0m\u001b[0mindex\u001b[0m\u001b[1;33m(\u001b[0m\u001b[0mi\u001b[0m\u001b[1;33m)\u001b[0m\u001b[1;33m]\u001b[0m \u001b[1;33m=\u001b[0m \u001b[1;36m1\u001b[0m\u001b[1;33m\u001b[0m\u001b[1;33m\u001b[0m\u001b[0m\n\u001b[0m\u001b[0;32m     49\u001b[0m \u001b[1;33m\u001b[0m\u001b[0m\n\u001b[0;32m     50\u001b[0m                                 \u001b[1;31m#print the harmful line\u001b[0m\u001b[1;33m\u001b[0m\u001b[1;33m\u001b[0m\u001b[1;33m\u001b[0m\u001b[0m\n",
      "\u001b[1;31mTypeError\u001b[0m: 'RangeIndex' object is not callable"
     ]
    }
   ],
   "source": [
    "#directory = \"C:\\\\Users\\\\vinic\\\\Desktop\\\\apktool\\\\simp\"\\\n",
    "directory = \"C:\\\\Users\\\\Vin\\\\Desktop\\\\apktool\\\\Sample1-WannaLocker\\\\sample1\"\n",
    "\n",
    "findFunctionsInDir(dir=directory, verbose=True)"
   ]
  },
  {
   "cell_type": "code",
   "execution_count": 31,
   "metadata": {
    "tags": []
   },
   "outputs": [
    {
     "data": {
      "text/html": [
       "<div>\n",
       "<style scoped>\n",
       "    .dataframe tbody tr th:only-of-type {\n",
       "        vertical-align: middle;\n",
       "    }\n",
       "\n",
       "    .dataframe tbody tr th {\n",
       "        vertical-align: top;\n",
       "    }\n",
       "\n",
       "    .dataframe thead th {\n",
       "        text-align: right;\n",
       "    }\n",
       "</style>\n",
       "<table border=\"1\" class=\"dataframe\">\n",
       "  <thead>\n",
       "    <tr style=\"text-align: right;\">\n",
       "      <th></th>\n",
       "      <th>READ_CALENDAR</th>\n",
       "      <th>WRITE_CALENDAR</th>\n",
       "      <th>CAMERA</th>\n",
       "      <th>READ_CONTACTS</th>\n",
       "      <th>WRITE_CONTACTS</th>\n",
       "      <th>GET_ACCOUNTS</th>\n",
       "      <th>ACCESS_FINE_LOCATION</th>\n",
       "      <th>ACCESS_COARSE_LOCATION</th>\n",
       "      <th>RECORD_AUDIO</th>\n",
       "      <th>READ_PHONE_STATE</th>\n",
       "      <th>...</th>\n",
       "      <th>getExternalCacheDir</th>\n",
       "      <th>shareIntent</th>\n",
       "      <th>readPhoneNumber</th>\n",
       "      <th>FileInputStream</th>\n",
       "      <th>getSharedPreferences</th>\n",
       "      <th>telephony</th>\n",
       "      <th>getMessageBody</th>\n",
       "      <th>getDisplayOriginatingAddress</th>\n",
       "      <th>wallpaper</th>\n",
       "      <th>crypto</th>\n",
       "    </tr>\n",
       "  </thead>\n",
       "  <tbody>\n",
       "    <tr>\n",
       "      <th>0</th>\n",
       "      <td>0</td>\n",
       "      <td>0</td>\n",
       "      <td>0</td>\n",
       "      <td>0</td>\n",
       "      <td>0</td>\n",
       "      <td>0</td>\n",
       "      <td>0</td>\n",
       "      <td>0</td>\n",
       "      <td>0</td>\n",
       "      <td>0</td>\n",
       "      <td>...</td>\n",
       "      <td>0</td>\n",
       "      <td>0</td>\n",
       "      <td>0</td>\n",
       "      <td>0</td>\n",
       "      <td>0</td>\n",
       "      <td>0</td>\n",
       "      <td>0</td>\n",
       "      <td>0</td>\n",
       "      <td>0</td>\n",
       "      <td>0</td>\n",
       "    </tr>\n",
       "  </tbody>\n",
       "</table>\n",
       "<p>1 rows × 61 columns</p>\n",
       "</div>"
      ],
      "text/plain": [
       "  READ_CALENDAR WRITE_CALENDAR CAMERA READ_CONTACTS WRITE_CONTACTS  \\\n",
       "0             0              0      0             0              0   \n",
       "\n",
       "  GET_ACCOUNTS ACCESS_FINE_LOCATION ACCESS_COARSE_LOCATION RECORD_AUDIO  \\\n",
       "0            0                    0                      0            0   \n",
       "\n",
       "  READ_PHONE_STATE  ... getExternalCacheDir shareIntent readPhoneNumber  \\\n",
       "0                0  ...                   0           0               0   \n",
       "\n",
       "  FileInputStream getSharedPreferences telephony getMessageBody  \\\n",
       "0               0                    0         0              0   \n",
       "\n",
       "  getDisplayOriginatingAddress wallpaper crypto  \n",
       "0                            0         0      0  \n",
       "\n",
       "[1 rows x 61 columns]"
      ]
     },
     "execution_count": 31,
     "metadata": {},
     "output_type": "execute_result"
    }
   ],
   "source": [
    "#pretty print the found lines\n",
    "#print('\\n'.join(found_lines))\n",
    "df"
   ]
  },
  {
   "cell_type": "code",
   "execution_count": 7,
   "metadata": {},
   "outputs": [
    {
     "name": "stdout",
     "output_type": "stream",
     "text": [
      "<uses-permission android:name=\"android.permission.SET_WALLPAPER\"/>\n",
      "<uses-permission android:name=\"android.permission.READ_PHONE_STATE\"/>\n",
      "<uses-permission android:name=\"android.permission.GET_TASKS\"/>\n",
      "<uses-permission android:name=\"android.permission.WRITE_EXTERNAL_STORAGE\"/>\n",
      "<uses-permission android:name=\"android.permission.MOUNT_UNMOUNT_FILESYSTEMS\"/>\n",
      "<uses-permission android:name=\"android.permission.READ_EXTERNAL_STORAGE\"/>\n"
     ]
    }
   ],
   "source": [
    "#pretty print found permissions and actions\n",
    "print('\\n'.join(found_perms))"
   ]
  },
  {
   "cell_type": "code",
   "execution_count": null,
   "metadata": {},
   "outputs": [],
   "source": [
    "#TODO: split 2 search functionalities\n",
    "#TODO: Add a function counter\n",
    "#TODO: add a GUI\n",
    "#TODO: add a way to select path\n",
    "#TODO: Increase the search list\n",
    "#TODO: Print results in a better way\n",
    "#TODO: output to a file. (csv)"
   ]
  }
 ],
 "metadata": {
  "interpreter": {
   "hash": "320ac9d7d90cb04b1d605a796df630f2fa27669b38d4922559081428401cacbd"
  },
  "kernelspec": {
   "display_name": "Python 3.7.9 64-bit (windows store)",
   "name": "python3"
  },
  "language_info": {
   "codemirror_mode": {
    "name": "ipython",
    "version": 3
   },
   "file_extension": ".py",
   "mimetype": "text/x-python",
   "name": "python",
   "nbconvert_exporter": "python",
   "pygments_lexer": "ipython3",
   "version": "3.7.9"
  }
 },
 "nbformat": 4,
 "nbformat_minor": 2
}
