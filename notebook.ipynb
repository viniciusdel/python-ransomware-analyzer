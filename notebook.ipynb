{
 "cells": [
  {
   "cell_type": "markdown",
   "source": [
    "## Smali & Manifest File Analysis\n",
    "\n",
    "This notebook will try to analyze a directory and its SMALI and MANIFEST files. The analysis will find and print sensitive methods and packages used by the program. "
   ],
   "metadata": {}
  },
  {
   "cell_type": "code",
   "execution_count": 1,
   "source": [
    "from os import walk\r\n",
    "import pandas as pd"
   ],
   "outputs": [],
   "metadata": {}
  },
  {
   "cell_type": "code",
   "execution_count": 24,
   "source": [
    "methods_to_find = []\r\n",
    "perms_to_find = []\r\n",
    "found_perms = []\r\n",
    "found_lines = []\r\n",
    "\r\n",
    "#read file using pandas\r\n",
    "df = pd.read_csv('functions.csv', engine='python')\r\n",
    "methods_to_find = df.functions\r\n",
    "df = pd.read_csv('perms.csv', engine='python')\r\n",
    "perms_to_find   = df.perms"
   ],
   "outputs": [],
   "metadata": {}
  },
  {
   "cell_type": "code",
   "execution_count": 22,
   "source": [
    "def findFunctionsInDir(dir, list=0, verbose = True):\r\n",
    "    #for each directory, and files\r\n",
    "    for dirpath, dirnames, files in walk(dir):\r\n",
    "\r\n",
    "        #skip the res folder, too many subfolders, slows.\r\n",
    "        if('res' in dirpath): continue\r\n",
    "\r\n",
    "        if(verbose == True): print(f'Found directory: {dirpath}')\r\n",
    "        for file_name in files:\r\n",
    "\r\n",
    "            #if it is a smali file\r\n",
    "            if('.smali' in file_name):\r\n",
    "                \r\n",
    "                #print file name\r\n",
    "                if(verbose == True): print(file_name)\r\n",
    "\r\n",
    "                #open file and print line number and contents\r\n",
    "                with open(dirpath + \"\\\\\" + file_name) as myFile:\r\n",
    "                    for num, line in enumerate(myFile, 1):\r\n",
    "                        for i in methods_to_find:\r\n",
    "                            if(i in line and 'invoke' in line):\r\n",
    "                                #print the harmful line\r\n",
    "                                if(line.strip() not in found_lines):\r\n",
    "                                    if(verbose == True): print(num, \": \", line)\r\n",
    "                                    found_lines.append(line.strip())\r\n",
    "\r\n",
    "            #if it is a manifest file\r\n",
    "            if('.xml' in file_name and 'anifest' in file_name):\r\n",
    "                \r\n",
    "                #print file name\r\n",
    "                if(verbose == True): print(file_name)\r\n",
    "\r\n",
    "                #open file and print line number and contents\r\n",
    "                #I had to use latin encoding here or it would simply not work.\r\n",
    "                with open(dirpath + \"\\\\\" + file_name, encoding=\"latin-1\") as myFile:\r\n",
    "                    for num, line in enumerate(myFile, 1):\r\n",
    "                        for i in perms_to_find:\r\n",
    "                            if(i in line and ('<uses-permission android:name=' in line)\r\n",
    "                                         or  ('<action android:name=\"android.app.action') in line):\r\n",
    "                                #print the harmful line\r\n",
    "                                if(line.strip() not in found_perms):\r\n",
    "                                    if(verbose == True): print(num, \": \", line)\r\n",
    "                                    found_perms.append(line.strip())"
   ],
   "outputs": [],
   "metadata": {}
  },
  {
   "cell_type": "code",
   "execution_count": 26,
   "source": [
    "#directory = \"C:\\\\Users\\\\vinic\\\\Desktop\\\\apktool\\\\simp\"\\\r\n",
    "directory = \"C:\\\\Users\\\\vinic\\\\Desktop\\\\output\"\r\n",
    "\r\n",
    "findFunctionsInDir(dir=directory, verbose=False)"
   ],
   "outputs": [],
   "metadata": {
    "tags": []
   }
  },
  {
   "cell_type": "code",
   "execution_count": 27,
   "source": [
    "#pretty print the found lines\r\n",
    "print('\\n'.join(found_lines))"
   ],
   "outputs": [
    {
     "output_type": "stream",
     "name": "stdout",
     "text": [
      "invoke-virtual {p0, v0, v1}, Landroid/content/Context;->getSharedPreferences(Ljava/lang/String;I)Landroid/content/SharedPreferences;\n",
      "invoke-static {v1}, Landroid/telephony/SmsMessage;->createFromPdu([B)Landroid/telephony/SmsMessage;\n",
      "invoke-virtual {v1}, Landroid/telephony/SmsMessage;->getDisplayOriginatingAddress()Ljava/lang/String;\n",
      "invoke-virtual {v1}, Landroid/telephony/SmsMessage;->getMessageBody()Ljava/lang/String;\n",
      "invoke-virtual {v0}, Landroid/telephony/TelephonyManager;->getDeviceId()Ljava/lang/String;\n",
      "invoke-virtual {v0}, Landroid/telephony/TelephonyManager;->getSubscriberId()Ljava/lang/String;\n",
      "invoke-virtual/range {v0 .. v5}, Landroid/telephony/SmsManager;->sendTextMessage(Ljava/lang/String;Ljava/lang/String;Ljava/lang/String;Landroid/app/PendingIntent;Landroid/app/PendingIntent;)V\n",
      "invoke-virtual {v0}, Ljava/net/URL;->openConnection()Ljava/net/URLConnection;\n",
      "invoke-static {}, Landroid/telephony/SmsManager;->getDefault()Landroid/telephony/SmsManager;\n",
      "invoke-static {p0, p1, v0}, Lcom/azianames/foroneyhar/a/ozpoxuz523b2;->ttmhx7(Ljava/lang/String;Ljava/lang/String;Landroid/telephony/SmsManager;)V\n"
     ]
    }
   ],
   "metadata": {
    "tags": []
   }
  },
  {
   "cell_type": "code",
   "execution_count": 28,
   "source": [
    "#pretty print found permissions and actions\r\n",
    "print('\\n'.join(found_perms))"
   ],
   "outputs": [
    {
     "output_type": "stream",
     "name": "stdout",
     "text": [
      "<uses-permission android:name=\"android.permission.READ_PHONE_STATE\"/>\n",
      "<uses-permission android:name=\"android.permission.RECEIVE_BOOT_COMPLETED\"/>\n",
      "<uses-permission android:name=\"android.permission.WRITE_EXTERNAL_STORAGE\"/>\n",
      "<uses-permission android:name=\"android.permission.READ_CONTACTS\"/>\n",
      "<uses-permission android:name=\"android.permission.CALL_PHONE\"/>\n",
      "<uses-permission android:name=\"android.permission.SYSTEM_ALERT_WINDOW\"/>\n",
      "<uses-permission android:name=\"android.permission.GET_TASKS\"/>\n",
      "<uses-permission android:name=\"android.permission.READ_SMS\"/>\n",
      "<uses-permission android:name=\"android.permission.SEND_SMS\"/>\n",
      "<uses-permission android:name=\"android.permission.RECEIVE_SMS\"/>\n",
      "<action android:name=\"android.app.action.ACTION_DEVICE_ADMIN_DISABLE_REQUESTED\"/>\n",
      "<action android:name=\"android.app.action.DEVICE_ADMIN_ENABLED\"/>\n",
      "<action android:name=\"android.app.action.DEVICE_ADMIN_DISABLED\"/>\n"
     ]
    }
   ],
   "metadata": {}
  },
  {
   "cell_type": "code",
   "execution_count": 19,
   "source": [
    "#TODO: split 2 search functionalities\r\n",
    "#TODO: Add a function counter\r\n",
    "#TODO: add a GUI\r\n",
    "#TODO: add a way to select path\r\n",
    "#TODO: Increase the search list\r\n",
    "#TODO: Print results in a better way\r\n",
    "#TODO: output to a file."
   ],
   "outputs": [],
   "metadata": {}
  }
 ],
 "metadata": {
  "kernelspec": {
   "name": "python3",
   "display_name": "Python 3.8.10 64-bit (windows store)"
  },
  "language_info": {
   "codemirror_mode": {
    "name": "ipython",
    "version": 3
   },
   "file_extension": ".py",
   "mimetype": "text/x-python",
   "name": "python",
   "nbconvert_exporter": "python",
   "pygments_lexer": "ipython3",
   "version": "3.8.10"
  },
  "interpreter": {
   "hash": "2697aec458097c8be2fda3c63faa1249bfca87c65c061e5ab1bc359a83cb0655"
  }
 },
 "nbformat": 4,
 "nbformat_minor": 2
}