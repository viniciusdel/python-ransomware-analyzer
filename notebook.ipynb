{
 "cells": [
  {
   "cell_type": "markdown",
   "source": [
    "## Smali & Manifest File Analysis\n",
    "\n",
    "This notebook will try to analyze a directory and its SMALI and MANIFEST files. The analysis will find and print sensitive methods and packages used by the program. "
   ],
   "metadata": {}
  },
  {
   "cell_type": "code",
   "execution_count": 2,
   "source": [
    "from os import walk\r\n",
    "import pandas as pd"
   ],
   "outputs": [],
   "metadata": {}
  },
  {
   "cell_type": "markdown",
   "source": [
    "## Initially, we declare the lists, and read csvs into the dataframe."
   ],
   "metadata": {}
  },
  {
   "cell_type": "code",
   "execution_count": 70,
   "source": [
    "methods_to_find = []\r\n",
    "perms_to_find = []\r\n",
    "found_perms = []\r\n",
    "found_lines = []\r\n",
    "\r\n",
    "#read file using pandas\r\n",
    "df = pd.read_csv('functions.csv', engine='python')\r\n",
    "methods_to_find = df.functions\r\n",
    "df = pd.read_csv('perms.csv', engine='python')\r\n",
    "perms_to_find   = df.perms\r\n"
   ],
   "outputs": [],
   "metadata": {}
  },
  {
   "cell_type": "code",
   "execution_count": 71,
   "source": [
    "#perms_to_find.iloc[-1]  LAST ELEMENT\r\n",
    "frame = [perms_to_find, methods_to_find]\r\n",
    "mergedfind = pd.concat(frame)\r\n",
    "df = pd.DataFrame(columns=mergedfind)\r\n",
    "df.to_csv(path_or_buf=\"analysis.csv\")"
   ],
   "outputs": [],
   "metadata": {}
  },
  {
   "cell_type": "code",
   "execution_count": null,
   "source": [
    "#list to be appended\r\n",
    "newRow = [0] * mergedfind.size"
   ],
   "outputs": [],
   "metadata": {}
  },
  {
   "cell_type": "code",
   "execution_count": 5,
   "source": [
    "def findFunctionsInDir(dir, list=0, verbose = True):\r\n",
    "    #for each directory, and files\r\n",
    "    for dirpath, dirnames, files in walk(dir):\r\n",
    "\r\n",
    "        #skip the res folder, too many subfolders, slows.\r\n",
    "        if('res' in dirpath): continue\r\n",
    "\r\n",
    "        if(verbose == True): print(f'Found directory: {dirpath}')\r\n",
    "        for file_name in files:\r\n",
    "\r\n",
    "            #if it is a smali file\r\n",
    "            if('.smali' in file_name):\r\n",
    "                \r\n",
    "                #print file name\r\n",
    "                if(verbose == True): print(file_name)\r\n",
    "\r\n",
    "                #open file and print line number and contents\r\n",
    "                with open(dirpath + \"\\\\\" + file_name) as myFile:\r\n",
    "                    for num, line in enumerate(myFile, 1):\r\n",
    "                        for i in methods_to_find:\r\n",
    "                            if(i in line and 'invoke' in line):\r\n",
    "                                #print the harmful line\r\n",
    "\r\n",
    "                                #df[methods_to_find.index(i)] = 1\r\n",
    "\r\n",
    "                                if(line.strip() not in found_lines):\r\n",
    "                                    if(verbose == True): print(num, \": \", line)\r\n",
    "                                    found_lines.append(line.strip())\r\n",
    "\r\n",
    "            #if it is a manifest file\r\n",
    "            if('.xml' in file_name and 'anifest' in file_name):\r\n",
    "                \r\n",
    "                #print file name\r\n",
    "                if(verbose == True): print(file_name)\r\n",
    "\r\n",
    "                #open file and print line number and contents\r\n",
    "                #I had to use latin encoding here or it would simply not work.\r\n",
    "                with open(dirpath + \"\\\\\" + file_name, encoding=\"latin-1\") as myFile:\r\n",
    "                    for num, line in enumerate(myFile, 1):\r\n",
    "                        for i in perms_to_find:\r\n",
    "                            if(i in line and ('<uses-permission android:name=' in line)\r\n",
    "                                         or  ('<action android:name=\"android.app.action') in line):\r\n",
    "                                #print the harmful line\r\n",
    "                                if(line.strip() not in found_perms):\r\n",
    "                                    if(verbose == True): print(num, \": \", line)\r\n",
    "                                    found_perms.append(line.strip())"
   ],
   "outputs": [],
   "metadata": {}
  },
  {
   "cell_type": "markdown",
   "source": [
    "# ITS WORKING!"
   ],
   "metadata": {}
  },
  {
   "cell_type": "code",
   "execution_count": 73,
   "source": [
    "#list to be appended\r\n",
    "#newList = [0] * mergedfind.size\r\n",
    "\r\n",
    "#append list\r\n",
    "#df.loc[len(df.index)] = newList\r\n",
    "\r\n",
    "#clear dataframe\r\n",
    "#df = df.iloc[0:0]\r\n",
    "\r\n",
    "#check if empty\r\n",
    "#df.empty"
   ],
   "outputs": [],
   "metadata": {}
  },
  {
   "cell_type": "code",
   "execution_count": 26,
   "source": [
    "#directory = \"C:\\\\Users\\\\vinic\\\\Desktop\\\\apktool\\\\simp\"\\\r\n",
    "directory = \"C:\\\\Users\\\\Vin\\\\Desktop\\\\apktool\\\\Sample1-WannaLocker\\\\sample1\"\r\n",
    "\r\n",
    "findFunctionsInDir(dir=directory, verbose=False)"
   ],
   "outputs": [
    {
     "output_type": "error",
     "ename": "TypeError",
     "evalue": "'RangeIndex' object is not callable",
     "traceback": [
      "\u001b[1;31m---------------------------------------------------------------------------\u001b[0m",
      "\u001b[1;31mTypeError\u001b[0m                                 Traceback (most recent call last)",
      "\u001b[1;32m~\\AppData\\Local\\Temp/ipykernel_7848/3613329845.py\u001b[0m in \u001b[0;36m<module>\u001b[1;34m\u001b[0m\n\u001b[0;32m      2\u001b[0m \u001b[0mdirectory\u001b[0m \u001b[1;33m=\u001b[0m \u001b[1;34m\"C:\\\\Users\\\\Vin\\\\Desktop\\\\apktool\\\\Sample1-WannaLocker\\\\sample1\"\u001b[0m\u001b[1;33m\u001b[0m\u001b[1;33m\u001b[0m\u001b[0m\n\u001b[0;32m      3\u001b[0m \u001b[1;33m\u001b[0m\u001b[0m\n\u001b[1;32m----> 4\u001b[1;33m \u001b[0mfindFunctionsInDir\u001b[0m\u001b[1;33m(\u001b[0m\u001b[0mdir\u001b[0m\u001b[1;33m=\u001b[0m\u001b[0mdirectory\u001b[0m\u001b[1;33m,\u001b[0m \u001b[0mverbose\u001b[0m\u001b[1;33m=\u001b[0m\u001b[1;32mFalse\u001b[0m\u001b[1;33m)\u001b[0m\u001b[1;33m\u001b[0m\u001b[1;33m\u001b[0m\u001b[0m\n\u001b[0m",
      "\u001b[1;32m~\\AppData\\Local\\Temp/ipykernel_7848/3952348251.py\u001b[0m in \u001b[0;36mfindFunctionsInDir\u001b[1;34m(dir, list, verbose)\u001b[0m\n\u001b[0;32m     22\u001b[0m                                 \u001b[1;31m#print the harmful line\u001b[0m\u001b[1;33m\u001b[0m\u001b[1;33m\u001b[0m\u001b[1;33m\u001b[0m\u001b[0m\n\u001b[0;32m     23\u001b[0m \u001b[1;33m\u001b[0m\u001b[0m\n\u001b[1;32m---> 24\u001b[1;33m                                 \u001b[0mdf\u001b[0m\u001b[1;33m[\u001b[0m\u001b[0mmethods_to_find\u001b[0m\u001b[1;33m.\u001b[0m\u001b[0mindex\u001b[0m\u001b[1;33m(\u001b[0m\u001b[0mi\u001b[0m\u001b[1;33m)\u001b[0m\u001b[1;33m]\u001b[0m \u001b[1;33m=\u001b[0m \u001b[1;36m1\u001b[0m\u001b[1;33m\u001b[0m\u001b[1;33m\u001b[0m\u001b[0m\n\u001b[0m\u001b[0;32m     25\u001b[0m \u001b[1;33m\u001b[0m\u001b[0m\n\u001b[0;32m     26\u001b[0m                                 \u001b[1;32mif\u001b[0m\u001b[1;33m(\u001b[0m\u001b[0mline\u001b[0m\u001b[1;33m.\u001b[0m\u001b[0mstrip\u001b[0m\u001b[1;33m(\u001b[0m\u001b[1;33m)\u001b[0m \u001b[1;32mnot\u001b[0m \u001b[1;32min\u001b[0m \u001b[0mfound_lines\u001b[0m\u001b[1;33m)\u001b[0m\u001b[1;33m:\u001b[0m\u001b[1;33m\u001b[0m\u001b[1;33m\u001b[0m\u001b[0m\n",
      "\u001b[1;31mTypeError\u001b[0m: 'RangeIndex' object is not callable"
     ]
    }
   ],
   "metadata": {
    "tags": []
   }
  },
  {
   "cell_type": "code",
   "execution_count": 6,
   "source": [
    "#pretty print the found lines\r\n",
    "#print('\\n'.join(found_lines))"
   ],
   "outputs": [
    {
     "output_type": "stream",
     "name": "stdout",
     "text": [
      "invoke-static {v3}, Landroid/support/v4/content/ContextCompatKitKat;->getExternalCacheDirs(Landroid/content/Context;)[Ljava/io/File;\n",
      "invoke-static {v3}, Landroid/support/v4/content/ContextCompatFroyo;->getExternalCacheDir(Landroid/content/Context;)Ljava/io/File;\n",
      "invoke-static {v4, v5}, Landroid/support/v4/content/ContextCompatKitKat;->getExternalFilesDirs(Landroid/content/Context;Ljava/lang/String;)[Ljava/io/File;\n",
      "invoke-static {v4, v5}, Landroid/support/v4/content/ContextCompatFroyo;->getExternalFilesDir(Landroid/content/Context;Ljava/lang/String;)Ljava/io/File;\n",
      "invoke-virtual {v1}, Landroid/content/Context;->getExternalCacheDir()Ljava/io/File;\n",
      "invoke-virtual {v2, v3}, Landroid/content/Context;->getExternalFilesDir(Ljava/lang/String;)Ljava/io/File;\n",
      "invoke-virtual {v1}, Landroid/content/Context;->getExternalCacheDirs()[Ljava/io/File;\n",
      "invoke-virtual {v2, v3}, Landroid/content/Context;->getExternalFilesDirs(Ljava/lang/String;)[Ljava/io/File;\n",
      "invoke-virtual {v10}, Landroid/content/Context;->getFilesDir()Ljava/io/File;\n",
      "invoke-virtual {v10}, Landroid/content/Context;->getCacheDir()Ljava/io/File;\n",
      "invoke-virtual {v1}, Landroid/support/v4/hardware/fingerprint/FingerprintManagerCompatApi23$CryptoObject;->getCipher()Ljavax/crypto/Cipher;\n",
      "invoke-virtual {v3}, Landroid/support/v4/hardware/fingerprint/FingerprintManagerCompatApi23$CryptoObject;->getCipher()Ljavax/crypto/Cipher;\n",
      "invoke-direct {v2, v3}, Landroid/support/v4/hardware/fingerprint/FingerprintManagerCompat$CryptoObject;-><init>(Ljavax/crypto/Cipher;)V\n",
      "invoke-virtual {v1}, Landroid/support/v4/hardware/fingerprint/FingerprintManagerCompatApi23$CryptoObject;->getMac()Ljavax/crypto/Mac;\n",
      "invoke-virtual {v3}, Landroid/support/v4/hardware/fingerprint/FingerprintManagerCompatApi23$CryptoObject;->getMac()Ljavax/crypto/Mac;\n",
      "invoke-direct {v2, v3}, Landroid/support/v4/hardware/fingerprint/FingerprintManagerCompat$CryptoObject;-><init>(Ljavax/crypto/Mac;)V\n",
      "invoke-virtual {v1}, Landroid/support/v4/hardware/fingerprint/FingerprintManagerCompat$CryptoObject;->getCipher()Ljavax/crypto/Cipher;\n",
      "invoke-virtual {v3}, Landroid/support/v4/hardware/fingerprint/FingerprintManagerCompat$CryptoObject;->getCipher()Ljavax/crypto/Cipher;\n",
      "invoke-direct {v2, v3}, Landroid/support/v4/hardware/fingerprint/FingerprintManagerCompatApi23$CryptoObject;-><init>(Ljavax/crypto/Cipher;)V\n",
      "invoke-virtual {v1}, Landroid/support/v4/hardware/fingerprint/FingerprintManagerCompat$CryptoObject;->getMac()Ljavax/crypto/Mac;\n",
      "invoke-virtual {v3}, Landroid/support/v4/hardware/fingerprint/FingerprintManagerCompat$CryptoObject;->getMac()Ljavax/crypto/Mac;\n",
      "invoke-direct {v2, v3}, Landroid/support/v4/hardware/fingerprint/FingerprintManagerCompatApi23$CryptoObject;-><init>(Ljavax/crypto/Mac;)V\n",
      "invoke-virtual {v1}, Landroid/hardware/fingerprint/FingerprintManager$CryptoObject;->getCipher()Ljavax/crypto/Cipher;\n",
      "invoke-virtual {v3}, Landroid/hardware/fingerprint/FingerprintManager$CryptoObject;->getCipher()Ljavax/crypto/Cipher;\n",
      "invoke-virtual {v1}, Landroid/hardware/fingerprint/FingerprintManager$CryptoObject;->getMac()Ljavax/crypto/Mac;\n",
      "invoke-virtual {v3}, Landroid/hardware/fingerprint/FingerprintManager$CryptoObject;->getMac()Ljavax/crypto/Mac;\n",
      "invoke-direct {v2, v3}, Landroid/hardware/fingerprint/FingerprintManager$CryptoObject;-><init>(Ljavax/crypto/Cipher;)V\n",
      "invoke-direct {v2, v3}, Landroid/hardware/fingerprint/FingerprintManager$CryptoObject;-><init>(Ljavax/crypto/Mac;)V\n",
      "invoke-direct {v2, v3}, Ljava/io/FileInputStream;-><init>(Ljava/io/File;)V\n",
      "invoke-virtual {v8}, Landroid/support/v4/util/AtomicFile;->openRead()Ljava/io/FileInputStream;\n",
      "invoke-virtual {v8}, Ljava/io/FileInputStream;->available()I\n",
      "invoke-virtual {v8, v9, v10, v11}, Ljava/io/FileInputStream;->read([BII)I\n",
      "invoke-virtual {v8}, Ljava/io/FileInputStream;->close()V\n",
      "invoke-virtual {v13, v14}, Landroid/content/Context;->openFileInput(Ljava/lang/String;)Ljava/io/FileInputStream;\n",
      "invoke-virtual {v13}, Ljava/io/FileInputStream;->close()V\n",
      "invoke-virtual {v6, v7, v8}, Lcom/android/tencent/zdevs/bah/MainActivity;->getSharedPreferences(Ljava/lang/String;I)Landroid/content/SharedPreferences;\n",
      "invoke-virtual {v7, v8, v9}, Lcom/android/tencent/zdevs/bah/MainActivity;->getSharedPreferences(Ljava/lang/String;I)Landroid/content/SharedPreferences;\n",
      "invoke-virtual {v5, v6, v7}, Lcom/android/tencent/zdevs/bah/MainActivity;->getSharedPreferences(Ljava/lang/String;I)Landroid/content/SharedPreferences;\n",
      "invoke-virtual {v6, v7, v8}, Landroid/support/v4/app/FragmentActivity;->getSharedPreferences(Ljava/lang/String;I)Landroid/content/SharedPreferences;\n",
      "invoke-virtual/range {v19 .. v21}, Landroid/support/v4/app/FragmentActivity;->getSharedPreferences(Ljava/lang/String;I)Landroid/content/SharedPreferences;\n",
      "invoke-virtual/range {v19 .. v19}, Ljava/net/URL;->openConnection()Ljava/net/URLConnection;\n",
      "invoke-virtual {v6, v7, v8}, Landroid/content/Context;->getSharedPreferences(Ljava/lang/String;I)Landroid/content/SharedPreferences;\n",
      "invoke-direct/range {v22 .. v23}, Ljava/io/FileInputStream;-><init>(Ljava/io/File;)V\n",
      "invoke-static/range {v21 .. v22}, Lcom/android/tencent/zdevs/bah/sss;->initAESCipher(Ljava/lang/String;I)Ljavax/crypto/Cipher;\n",
      "invoke-direct/range {v22 .. v24}, Ljavax/crypto/CipherOutputStream;-><init>(Ljava/io/OutputStream;Ljavax/crypto/Cipher;)V\n",
      "invoke-virtual/range {v21 .. v22}, Ljava/io/FileInputStream;->read([B)I\n",
      "invoke-virtual/range {v21 .. v21}, Ljavax/crypto/CipherOutputStream;->close()V\n",
      "invoke-virtual/range {v21 .. v21}, Ljava/io/FileInputStream;->close()V\n",
      "invoke-virtual/range {v21 .. v24}, Ljavax/crypto/CipherOutputStream;->write([BII)V\n",
      "invoke-direct/range {v21 .. v22}, Ljava/io/FileInputStream;-><init>(Ljava/io/File;)V\n",
      "invoke-static/range {v20 .. v21}, Lcom/android/tencent/zdevs/bah/sss;->initAESCipher(Ljava/lang/String;I)Ljavax/crypto/Cipher;\n",
      "invoke-direct/range {v21 .. v23}, Ljavax/crypto/CipherInputStream;-><init>(Ljava/io/InputStream;Ljavax/crypto/Cipher;)V\n",
      "invoke-virtual/range {v20 .. v21}, Ljavax/crypto/CipherInputStream;->read([B)I\n",
      "invoke-virtual/range {v20 .. v20}, Ljavax/crypto/CipherInputStream;->close()V\n",
      "invoke-virtual/range {v20 .. v20}, Ljava/io/FileInputStream;->close()V\n",
      "invoke-direct {v8, v9}, Ljavax/crypto/spec/IvParameterSpec;-><init>([B)V\n",
      "invoke-direct {v8, v9, v10}, Ljavax/crypto/spec/SecretKeySpec;-><init>([BLjava/lang/String;)V\n",
      "invoke-static {v7}, Ljavax/crypto/Cipher;->getInstance(Ljava/lang/String;)Ljavax/crypto/Cipher;\n",
      "invoke-virtual {v7, v8, v9, v10}, Ljavax/crypto/Cipher;->init(ILjava/security/Key;Ljava/security/spec/AlgorithmParameterSpec;)V\n",
      "invoke-virtual {v7}, Ljavax/crypto/NoSuchPaddingException;->printStackTrace()V\n"
     ]
    }
   ],
   "metadata": {
    "tags": []
   }
  },
  {
   "cell_type": "code",
   "execution_count": 7,
   "source": [
    "#pretty print found permissions and actions\r\n",
    "print('\\n'.join(found_perms))"
   ],
   "outputs": [
    {
     "output_type": "stream",
     "name": "stdout",
     "text": [
      "<uses-permission android:name=\"android.permission.SET_WALLPAPER\"/>\n",
      "<uses-permission android:name=\"android.permission.READ_PHONE_STATE\"/>\n",
      "<uses-permission android:name=\"android.permission.GET_TASKS\"/>\n",
      "<uses-permission android:name=\"android.permission.WRITE_EXTERNAL_STORAGE\"/>\n",
      "<uses-permission android:name=\"android.permission.MOUNT_UNMOUNT_FILESYSTEMS\"/>\n",
      "<uses-permission android:name=\"android.permission.READ_EXTERNAL_STORAGE\"/>\n"
     ]
    }
   ],
   "metadata": {}
  },
  {
   "cell_type": "code",
   "execution_count": null,
   "source": [
    "#TODO: split 2 search functionalities\r\n",
    "#TODO: Add a function counter\r\n",
    "#TODO: add a GUI\r\n",
    "#TODO: add a way to select path\r\n",
    "#TODO: Increase the search list\r\n",
    "#TODO: Print results in a better way\r\n",
    "#TODO: output to a file. (csv)"
   ],
   "outputs": [],
   "metadata": {}
  }
 ],
 "metadata": {
  "kernelspec": {
   "name": "python3",
   "display_name": "Python 3.7.9 64-bit (windows store)"
  },
  "language_info": {
   "codemirror_mode": {
    "name": "ipython",
    "version": 3
   },
   "file_extension": ".py",
   "mimetype": "text/x-python",
   "name": "python",
   "nbconvert_exporter": "python",
   "pygments_lexer": "ipython3",
   "version": "3.7.9"
  },
  "interpreter": {
   "hash": "320ac9d7d90cb04b1d605a796df630f2fa27669b38d4922559081428401cacbd"
  }
 },
 "nbformat": 4,
 "nbformat_minor": 2
}