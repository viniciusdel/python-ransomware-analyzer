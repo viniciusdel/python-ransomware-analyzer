{
 "cells": [
  {
   "cell_type": "markdown",
   "metadata": {},
   "source": [
    "## Smali & Manifest File Analysis\n",
    "\n",
    "This notebook will try to analyze a directory and its SMALI and MANIFEST files. The analysis will find and print sensitive methods and packages used by the program. "
   ]
  },
  {
   "cell_type": "code",
   "execution_count": 13,
   "metadata": {},
   "outputs": [],
   "source": [
    "from os import walk\n",
    "import pandas as pd"
   ]
  },
  {
   "cell_type": "code",
   "execution_count": 14,
   "metadata": {},
   "outputs": [],
   "source": [
    "methods_to_find = []\n",
    "perms_to_find = []\n",
    "found_perms = []\n",
    "found_lines = []\n",
    "\n",
    "\n",
    "#read file using pandas\n",
    "df = pd.read_csv('functions.csv', engine='python')\n",
    "methods_to_find = df.functions\n",
    "df = pd.read_csv('perms.csv', engine='python')\n",
    "perms_to_find   = df.perms"
   ]
  },
  {
   "cell_type": "code",
   "execution_count": 15,
   "metadata": {},
   "outputs": [],
   "source": [
    "def findFunctionsInDir(dir, list=0, verbose = True):\n",
    "    #for each directory, and files\n",
    "    for dirpath, dirnames, files in walk(dir):\n",
    "\n",
    "        #skip the res folder, too many subfolders, slows.\n",
    "        if('res' in dirpath): continue\n",
    "\n",
    "        if(verbose == True): print(f'Found directory: {dirpath}')\n",
    "        for file_name in files:\n",
    "\n",
    "            #if it is a smali file\n",
    "            if('.smali' in file_name):\n",
    "                \n",
    "                #print file name\n",
    "                if(verbose == True): print(file_name)\n",
    "\n",
    "                #open file and print line number and contents\n",
    "                with open(dirpath + \"\\\\\" + file_name) as myFile:\n",
    "                    for num, line in enumerate(myFile, 1):\n",
    "                        for i in methods_to_find:\n",
    "                            if(i in line and 'invoke' in line):\n",
    "                                #print the harmful line\n",
    "                                if(line.strip() not in found_lines):\n",
    "                                    if(verbose == True): print(num, \": \", line)\n",
    "                                    found_lines.append(line.strip())\n",
    "\n",
    "            #if it is a manifest file\n",
    "            if('.xml' in file_name and 'anifest' in file_name):\n",
    "                \n",
    "                #print file name\n",
    "                if(verbose == True): print(file_name)\n",
    "\n",
    "                #open file and print line number and contents\n",
    "                #I had to use latin encoding here or it would simply not work.\n",
    "                with open(dirpath + \"\\\\\" + file_name, encoding=\"latin-1\") as myFile:\n",
    "                    for num, line in enumerate(myFile, 1):\n",
    "                        for i in perms_to_find:\n",
    "                            if(i in line and ('<uses-permission android:name=' in line)\n",
    "                                         or  ('<action android:name=\"android.app.action') in line):\n",
    "                                #print the harmful line\n",
    "                                if(line.strip() not in found_perms):\n",
    "                                    if(verbose == True): print(num, \": \", line)\n",
    "                                    found_perms.append(line.strip())"
   ]
  },
  {
   "cell_type": "code",
   "execution_count": 16,
   "metadata": {
    "tags": []
   },
   "outputs": [],
   "source": [
    "#directory = \"C:\\\\Users\\\\vinic\\\\Desktop\\\\apktool\\\\simp\"\\\n",
    "directory = \"C:\\\\Users\\\\vinic\\\\Desktop\\\\decoded apps\\\\wanna\"\n",
    "\n",
    "findFunctionsInDir(dir=directory, verbose=False)"
   ]
  },
  {
   "cell_type": "code",
   "execution_count": 17,
   "metadata": {
    "tags": []
   },
   "outputs": [
    {
     "output_type": "stream",
     "name": "stdout",
     "text": [
      "invoke-static {v3}, Landroid/support/v4/content/ContextCompatKitKat;->getExternalCacheDirs(Landroid/content/Context;)[Ljava/io/File;\ninvoke-static {v3}, Landroid/support/v4/content/ContextCompatFroyo;->getExternalCacheDir(Landroid/content/Context;)Ljava/io/File;\ninvoke-static {v4, v5}, Landroid/support/v4/content/ContextCompatKitKat;->getExternalFilesDirs(Landroid/content/Context;Ljava/lang/String;)[Ljava/io/File;\ninvoke-static {v4, v5}, Landroid/support/v4/content/ContextCompatFroyo;->getExternalFilesDir(Landroid/content/Context;Ljava/lang/String;)Ljava/io/File;\ninvoke-virtual {v1}, Landroid/content/Context;->getExternalCacheDir()Ljava/io/File;\ninvoke-virtual {v2, v3}, Landroid/content/Context;->getExternalFilesDir(Ljava/lang/String;)Ljava/io/File;\ninvoke-virtual {v1}, Landroid/content/Context;->getExternalCacheDirs()[Ljava/io/File;\ninvoke-virtual {v2, v3}, Landroid/content/Context;->getExternalFilesDirs(Ljava/lang/String;)[Ljava/io/File;\ninvoke-virtual {v10}, Landroid/content/Context;->getFilesDir()Ljava/io/File;\ninvoke-virtual {v10}, Landroid/content/Context;->getCacheDir()Ljava/io/File;\ninvoke-virtual {v1}, Landroid/support/v4/hardware/fingerprint/FingerprintManagerCompatApi23$CryptoObject;->getCipher()Ljavax/crypto/Cipher;\ninvoke-virtual {v3}, Landroid/support/v4/hardware/fingerprint/FingerprintManagerCompatApi23$CryptoObject;->getCipher()Ljavax/crypto/Cipher;\ninvoke-direct {v2, v3}, Landroid/support/v4/hardware/fingerprint/FingerprintManagerCompat$CryptoObject;-><init>(Ljavax/crypto/Cipher;)V\ninvoke-virtual {v1}, Landroid/support/v4/hardware/fingerprint/FingerprintManagerCompat$CryptoObject;->getCipher()Ljavax/crypto/Cipher;\ninvoke-virtual {v3}, Landroid/support/v4/hardware/fingerprint/FingerprintManagerCompat$CryptoObject;->getCipher()Ljavax/crypto/Cipher;\ninvoke-direct {v2, v3}, Landroid/support/v4/hardware/fingerprint/FingerprintManagerCompatApi23$CryptoObject;-><init>(Ljavax/crypto/Cipher;)V\ninvoke-virtual {v1}, Landroid/hardware/fingerprint/FingerprintManager$CryptoObject;->getCipher()Ljavax/crypto/Cipher;\ninvoke-virtual {v3}, Landroid/hardware/fingerprint/FingerprintManager$CryptoObject;->getCipher()Ljavax/crypto/Cipher;\ninvoke-direct {v2, v3}, Landroid/hardware/fingerprint/FingerprintManager$CryptoObject;-><init>(Ljavax/crypto/Cipher;)V\ninvoke-direct {v2, v3}, Ljava/io/FileInputStream;-><init>(Ljava/io/File;)V\ninvoke-virtual {v8}, Landroid/support/v4/util/AtomicFile;->openRead()Ljava/io/FileInputStream;\ninvoke-virtual {v8}, Ljava/io/FileInputStream;->available()I\ninvoke-virtual {v8, v9, v10, v11}, Ljava/io/FileInputStream;->read([BII)I\ninvoke-virtual {v8}, Ljava/io/FileInputStream;->close()V\ninvoke-virtual {v13, v14}, Landroid/content/Context;->openFileInput(Ljava/lang/String;)Ljava/io/FileInputStream;\ninvoke-virtual {v13}, Ljava/io/FileInputStream;->close()V\ninvoke-virtual {v6, v7, v8}, Lcom/android/tencent/zdevs/bah/MainActivity;->getSharedPreferences(Ljava/lang/String;I)Landroid/content/SharedPreferences;\ninvoke-virtual {v7, v8, v9}, Lcom/android/tencent/zdevs/bah/MainActivity;->getSharedPreferences(Ljava/lang/String;I)Landroid/content/SharedPreferences;\ninvoke-virtual {v5, v6, v7}, Lcom/android/tencent/zdevs/bah/MainActivity;->getSharedPreferences(Ljava/lang/String;I)Landroid/content/SharedPreferences;\ninvoke-virtual {v6, v7, v8}, Landroid/support/v4/app/FragmentActivity;->getSharedPreferences(Ljava/lang/String;I)Landroid/content/SharedPreferences;\ninvoke-virtual/range {v19 .. v21}, Landroid/support/v4/app/FragmentActivity;->getSharedPreferences(Ljava/lang/String;I)Landroid/content/SharedPreferences;\ninvoke-virtual/range {v19 .. v19}, Ljava/net/URL;->openConnection()Ljava/net/URLConnection;\ninvoke-virtual {v6, v7, v8}, Landroid/content/Context;->getSharedPreferences(Ljava/lang/String;I)Landroid/content/SharedPreferences;\ninvoke-direct/range {v22 .. v23}, Ljava/io/FileInputStream;-><init>(Ljava/io/File;)V\ninvoke-static/range {v21 .. v22}, Lcom/android/tencent/zdevs/bah/sss;->initAESCipher(Ljava/lang/String;I)Ljavax/crypto/Cipher;\ninvoke-direct/range {v22 .. v24}, Ljavax/crypto/CipherOutputStream;-><init>(Ljava/io/OutputStream;Ljavax/crypto/Cipher;)V\ninvoke-virtual/range {v21 .. v22}, Ljava/io/FileInputStream;->read([B)I\ninvoke-virtual/range {v21 .. v21}, Ljavax/crypto/CipherOutputStream;->close()V\ninvoke-virtual/range {v21 .. v21}, Ljava/io/FileInputStream;->close()V\ninvoke-virtual/range {v21 .. v24}, Ljavax/crypto/CipherOutputStream;->write([BII)V\ninvoke-direct/range {v21 .. v22}, Ljava/io/FileInputStream;-><init>(Ljava/io/File;)V\ninvoke-static/range {v20 .. v21}, Lcom/android/tencent/zdevs/bah/sss;->initAESCipher(Ljava/lang/String;I)Ljavax/crypto/Cipher;\ninvoke-direct/range {v21 .. v23}, Ljavax/crypto/CipherInputStream;-><init>(Ljava/io/InputStream;Ljavax/crypto/Cipher;)V\ninvoke-virtual/range {v20 .. v21}, Ljavax/crypto/CipherInputStream;->read([B)I\ninvoke-virtual/range {v20 .. v20}, Ljavax/crypto/CipherInputStream;->close()V\ninvoke-virtual/range {v20 .. v20}, Ljava/io/FileInputStream;->close()V\ninvoke-static {v7}, Ljavax/crypto/Cipher;->getInstance(Ljava/lang/String;)Ljavax/crypto/Cipher;\ninvoke-virtual {v7, v8, v9, v10}, Ljavax/crypto/Cipher;->init(ILjava/security/Key;Ljava/security/spec/AlgorithmParameterSpec;)V\n"
     ]
    }
   ],
   "source": [
    "#pretty print the found lines\n",
    "print('\\n'.join(found_lines))"
   ]
  },
  {
   "cell_type": "code",
   "execution_count": 18,
   "metadata": {},
   "outputs": [
    {
     "output_type": "stream",
     "name": "stdout",
     "text": [
      "<uses-permission android:name=\"android.permission.SET_WALLPAPER\"/>\n<uses-permission android:name=\"android.permission.READ_PHONE_STATE\"/>\n<uses-permission android:name=\"android.permission.WRITE_EXTERNAL_STORAGE\"/>\n<uses-permission android:name=\"android.permission.READ_EXTERNAL_STORAGE\"/>\n"
     ]
    }
   ],
   "source": [
    "#pretty print found permissions\n",
    "print('\\n'.join(found_perms))"
   ]
  },
  {
   "cell_type": "code",
   "execution_count": 19,
   "metadata": {},
   "outputs": [],
   "source": [
    "#TODO: split 2 search functionalities\n",
    "#TODO: Add a function counter\n",
    "#TODO: add a GUI\n",
    "#TODO: add a way to select path\n",
    "#TODO: Increase the search list\n",
    "#TODO: Print results in a better way\n",
    "#TODO: output to a file."
   ]
  }
 ],
 "metadata": {
  "kernelspec": {
   "name": "python3",
   "display_name": "Python 3.8.8 64-bit",
   "metadata": {
    "interpreter": {
     "hash": "3a892253abbbfe71f9f1a8f36cde64481ba865a7ee207fc547136da267cc8dc2"
    }
   }
  },
  "language_info": {
   "codemirror_mode": {
    "name": "ipython",
    "version": 3
   },
   "file_extension": ".py",
   "mimetype": "text/x-python",
   "name": "python",
   "nbconvert_exporter": "python",
   "pygments_lexer": "ipython3",
   "version": "3.8.8-final"
  }
 },
 "nbformat": 4,
 "nbformat_minor": 2
}