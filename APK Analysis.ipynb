{
 "cells": [
  {
   "cell_type": "markdown",
   "metadata": {},
   "source": [
    "#### Smali & Manifest File Analysis"
   ]
  },
  {
   "cell_type": "code",
   "execution_count": 1,
   "metadata": {},
   "outputs": [],
   "source": [
    "from os import walk\n",
    "import pandas as pd\n",
    "import os\n",
    "from tqdm import tqdm"
   ]
  },
  {
   "cell_type": "code",
   "execution_count": 2,
   "metadata": {},
   "outputs": [],
   "source": [
    "#   TODO Add loading bar to this lengthy function\n",
    "def decompileAll():\n",
    "\n",
    "    # 1: Traverse all APKs in the folder:\n",
    "    dir = 'C:\\\\Users\\\\Vin\\\\Desktop\\\\python-ransomware-analyzer\\\\benign'\n",
    "\n",
    "    for filename in tqdm(os.listdir(dir)):\n",
    "        if filename.endswith('.apk'):\n",
    "            #print(\"decompiling: \"+ filename)\n",
    "            \n",
    "            #set output directory (removing .apk from the end)\n",
    "            foldername = 'out_' + filename[:-4]\n",
    "            var1 = r'C:\\Users\\Vin\\Desktop\\python-ransomware-analyzer\\decompiled_benign\\\\' + foldername\n",
    "        \n",
    "            #set input apk\n",
    "            var2 = r'C:\\Users\\Vin\\Desktop\\python-ransomware-analyzer\\benign\\\\' + filename\n",
    "            \n",
    "            #convert python vars to batch vars\n",
    "            os.putenv(\"VAR1\", var1)\n",
    "            os.putenv(\"VAR2\", var2)\n",
    "\n",
    "            #call the run.bat for the apktool\n",
    "            os.system(\"run.bat\")\n",
    "    print(\"...Done!\")"
   ]
  },
  {
   "cell_type": "code",
   "execution_count": 3,
   "metadata": {},
   "outputs": [],
   "source": [
    "#   Create empty lists\n",
    "methods_to_find = []\n",
    "perms_to_find = []\n",
    "\n",
    "#   Read file using pandas\n",
    "df = pd.read_csv('functions.csv', engine='python')\n",
    "methods_to_find = df.functions\n",
    "\n",
    "df = pd.read_csv('perms.csv', engine='python')\n",
    "perms_to_find   = df.perms"
   ]
  },
  {
   "cell_type": "code",
   "execution_count": 4,
   "metadata": {},
   "outputs": [],
   "source": [
    "#   Create class object to be used in the lists.\n",
    "#   Object will contain the name of the feature and how many times it's been found\n",
    "class obj:\n",
    "    def __init__(self, name):\n",
    "        self.name = name\n",
    "        self.count = 0\n",
    "    def print(self):\n",
    "        print(self.name + \": \" + str(self.count))"
   ]
  },
  {
   "cell_type": "code",
   "execution_count": 5,
   "metadata": {},
   "outputs": [],
   "source": [
    "#   Initialize empty lists\n",
    "myList = []\n",
    "fakeList = []\n",
    "\n",
    "#   Fill lists with permissions and functions. \n",
    "#   The \"i\" refers to a term in the list, not index.\n",
    "for i in perms_to_find:\n",
    "    myList.append(obj(i))\n",
    "    fakeList.append(i)\n",
    "\n",
    "for i in methods_to_find:\n",
    "    myList.append(obj(i))\n",
    "    fakeList.append(i)\n",
    "\n",
    "#   Append the last item (name)\n",
    "myList.append('')\n",
    "fakeList.append('Name')\n",
    "\n",
    "#   Self print function for list\n",
    "def printList(list):\n",
    "    for i in range(len(list)):\n",
    "        try:\n",
    "            list[i].print()\n",
    "        except AttributeError:\n",
    "            print(list[i])"
   ]
  },
  {
   "cell_type": "code",
   "execution_count": 6,
   "metadata": {},
   "outputs": [],
   "source": [
    "#   Create empty dataframe\n",
    "df = pd.DataFrame(columns=fakeList)\n",
    "\n",
    "#   This clears the CSV if it exists\n",
    "df.to_csv('benign_csv.csv', mode='w', header=True)"
   ]
  },
  {
   "cell_type": "code",
   "execution_count": 7,
   "metadata": {},
   "outputs": [],
   "source": [
    "#   The analysis function\n",
    "def findFunctionsInDir(direct, list=0, verbose = True, filename = ''):\n",
    "\n",
    "    #for each directory, and files\n",
    "    for dirpath, dirnames, files in walk(direct):\n",
    "        \n",
    "        #fill the name field in the list\n",
    "        myList[fakeList.index('Name')] = filename\n",
    "\n",
    "        #skip the res folder, too many subfolders, slows down.\n",
    "        if('res' in dirpath): continue\n",
    "\n",
    "        if(verbose == True): print(f'Found directory: {dirpath}')\n",
    "        for file_name in files:\n",
    "            \n",
    "            #if it is a manifest file\n",
    "            if('.xml' in file_name and 'anifest' in file_name):\n",
    "                \n",
    "                #print file name\n",
    "                if(verbose == True): print(file_name)\n",
    "\n",
    "                #open file and print line number and contents\n",
    "                #I had to use latin encoding here or it would simply not work.\n",
    "                with open(dirpath + \"\\\\\" + file_name, encoding=\"latin-1\") as myFile:\n",
    "                    for num, line in enumerate(myFile, 1):\n",
    "                        for i in perms_to_find:\n",
    "                            if(i in line and ('<uses-permission android:name=' in line)\n",
    "                                         or  ('<action android:name=\"android.app.action') in line):\n",
    "                                \n",
    "                                #Set permission found to 1\n",
    "                                myList[fakeList.index(i)].count = 1\n",
    "\n",
    "            #if it is a smali file\n",
    "            if('.smali' in file_name):\n",
    "                \n",
    "                #print file name\n",
    "                if(verbose == True): print(file_name)\n",
    "\n",
    "                #open file and print line number and contents\n",
    "                with open(dirpath + \"\\\\\" + file_name) as myFile:\n",
    "                    for num, line in enumerate(myFile, 1):\n",
    "                        for i in methods_to_find:\n",
    "                            if(i in line and 'invoke' in line):\n",
    "\n",
    "                                #Increase counter for found item\n",
    "                                myList[fakeList.index(i)].count += 1"
   ]
  },
  {
   "cell_type": "code",
   "execution_count": 8,
   "metadata": {},
   "outputs": [],
   "source": [
    "#function saves to csv file\n",
    "def saveToFile(df):\n",
    "    df.to_csv('benign_csv.csv', mode='a', header=False)  "
   ]
  },
  {
   "cell_type": "code",
   "execution_count": 9,
   "metadata": {},
   "outputs": [],
   "source": [
    "def appendToDF(list, df):\n",
    "    #   Initialize empty list for the counts only.\n",
    "    listOfCount = []\n",
    "    \n",
    "    #   Fill such list (except if it's the last one [Name])\n",
    "    for i in range(len(list)):\n",
    "        if(i < len(list)-1):\n",
    "            listOfCount.append(list[i].count)\n",
    "        else:\n",
    "            listOfCount.append(list[i])\n",
    "\n",
    "    #   Append the list to the dataframe\n",
    "    df.loc[len(df.index)] = listOfCount"
   ]
  },
  {
   "cell_type": "code",
   "execution_count": 10,
   "metadata": {},
   "outputs": [],
   "source": [
    "#   for the passed directory, do: \n",
    "#   Call find function, append results of 'myList' to the df, save.\n",
    "def runAnalysis(filename, single_file):\n",
    "    \n",
    "    findFunctionsInDir(direct=filename, verbose=False, filename = single_file)\n",
    "    appendToDF(myList, df)\n",
    "\n",
    "    #TODO not sure why only this method works, but not backing up the list for efficiency.\n",
    "    myList.clear()\n",
    "    for k in perms_to_find:\n",
    "        myList.append(obj(k))\n",
    "\n",
    "    for k in methods_to_find:\n",
    "        myList.append(obj(k))\n",
    "        \n",
    "    myList.append('')"
   ]
  },
  {
   "cell_type": "code",
   "execution_count": 11,
   "metadata": {},
   "outputs": [],
   "source": [
    "#decompile all of the APKs in folder (hardcoded)\n",
    "# 741 free - before\n",
    "# 542 free - during\n",
    "# 494 free - after = 247GB\n",
    "#decompileAll()"
   ]
  },
  {
   "cell_type": "code",
   "execution_count": 12,
   "metadata": {},
   "outputs": [
    {
     "name": "stderr",
     "output_type": "stream",
     "text": [
      "  0%|          | 2/588 [00:59<4:19:16, 26.55s/it]"
     ]
    },
    {
     "name": "stdout",
     "output_type": "stream",
     "text": [
      "Unicode Error on file: com.banca.slot\n"
     ]
    },
    {
     "name": "stderr",
     "output_type": "stream",
     "text": [
      "  1%|          | 3/588 [01:15<3:35:16, 22.08s/it]"
     ]
    },
    {
     "name": "stdout",
     "output_type": "stream",
     "text": [
      "Unicode Error on file: com.bandagames.mpuzzle.gp\n"
     ]
    },
    {
     "name": "stderr",
     "output_type": "stream",
     "text": [
      "  2%|▏         | 9/588 [05:43<10:07:11, 62.92s/it]"
     ]
    },
    {
     "name": "stdout",
     "output_type": "stream",
     "text": [
      "File Not Found on file: com.bang.bangwithfriends\n"
     ]
    },
    {
     "name": "stderr",
     "output_type": "stream",
     "text": [
      "  2%|▏         | 10/588 [05:56<7:38:03, 47.55s/it]"
     ]
    },
    {
     "name": "stdout",
     "output_type": "stream",
     "text": [
      "Unicode Error on file: com.banggood.client\n"
     ]
    },
    {
     "name": "stderr",
     "output_type": "stream",
     "text": [
      "  2%|▏         | 13/588 [08:27<8:13:59, 51.55s/it]"
     ]
    },
    {
     "name": "stdout",
     "output_type": "stream",
     "text": [
      "File Not Found on file: com.baqala.android\n"
     ]
    },
    {
     "name": "stderr",
     "output_type": "stream",
     "text": [
      "  3%|▎         | 15/588 [10:02<7:45:40, 48.76s/it]"
     ]
    },
    {
     "name": "stdout",
     "output_type": "stream",
     "text": [
      "Unicode Error on file: com.barbaloong.frozenprincesscoloringshow\n"
     ]
    },
    {
     "name": "stderr",
     "output_type": "stream",
     "text": [
      "  4%|▍         | 25/588 [18:46<7:45:31, 49.61s/it] "
     ]
    },
    {
     "name": "stdout",
     "output_type": "stream",
     "text": [
      "Unicode Error on file: com.batteryacid.highwayrider\n"
     ]
    },
    {
     "name": "stderr",
     "output_type": "stream",
     "text": [
      "  6%|▌         | 36/588 [27:17<7:48:40, 50.94s/it]"
     ]
    },
    {
     "name": "stdout",
     "output_type": "stream",
     "text": [
      "Unicode Error on file: com.bbg.avidly.slots\n"
     ]
    },
    {
     "name": "stderr",
     "output_type": "stream",
     "text": [
      "  6%|▋         | 37/588 [27:59<7:23:32, 48.30s/it]"
     ]
    },
    {
     "name": "stdout",
     "output_type": "stream",
     "text": [
      "Unicode Error on file: com.bbg.miami.gangester.criminal.underworld\n"
     ]
    },
    {
     "name": "stderr",
     "output_type": "stream",
     "text": [
      "  6%|▋         | 38/588 [28:11<5:41:29, 37.25s/it]"
     ]
    },
    {
     "name": "stdout",
     "output_type": "stream",
     "text": [
      "Unicode Error on file: com.bbumgames.spadesroyale\n"
     ]
    },
    {
     "name": "stderr",
     "output_type": "stream",
     "text": [
      "  7%|▋         | 39/588 [28:31<4:54:21, 32.17s/it]"
     ]
    },
    {
     "name": "stdout",
     "output_type": "stream",
     "text": [
      "Unicode Error on file: com.bbwdating.largefriends\n"
     ]
    },
    {
     "name": "stderr",
     "output_type": "stream",
     "text": [
      "  7%|▋         | 43/588 [30:53<5:12:17, 34.38s/it]"
     ]
    },
    {
     "name": "stdout",
     "output_type": "stream",
     "text": [
      "Unicode Error on file: com.bdj.vortexDroid\n"
     ]
    },
    {
     "name": "stderr",
     "output_type": "stream",
     "text": [
      "  8%|▊         | 47/588 [34:30<7:26:45, 49.55s/it]"
     ]
    },
    {
     "name": "stdout",
     "output_type": "stream",
     "text": [
      "File Not Found on file: com.beachbody.bod\n"
     ]
    },
    {
     "name": "stderr",
     "output_type": "stream",
     "text": [
      "  8%|▊         | 49/588 [35:42<6:24:49, 42.84s/it]"
     ]
    },
    {
     "name": "stdout",
     "output_type": "stream",
     "text": [
      "File Not Found on file: com.beansprites.mainstreetpetsFREE\n"
     ]
    },
    {
     "name": "stderr",
     "output_type": "stream",
     "text": [
      "  9%|▊         | 50/588 [36:20<6:10:14, 41.29s/it]"
     ]
    },
    {
     "name": "stdout",
     "output_type": "stream",
     "text": [
      "File Not Found on file: com.beansprites.mypretendairportFREE\n"
     ]
    },
    {
     "name": "stderr",
     "output_type": "stream",
     "text": [
      "  9%|▊         | 51/588 [36:57<5:57:33, 39.95s/it]"
     ]
    },
    {
     "name": "stdout",
     "output_type": "stream",
     "text": [
      "File Not Found on file: com.beansprites.mypretendfairytaleFREE\n"
     ]
    },
    {
     "name": "stderr",
     "output_type": "stream",
     "text": [
      "  9%|▉         | 52/588 [37:33<5:47:00, 38.84s/it]"
     ]
    },
    {
     "name": "stdout",
     "output_type": "stream",
     "text": [
      "File Not Found on file: com.beansprites.mypretendhomenewFREE\n"
     ]
    },
    {
     "name": "stderr",
     "output_type": "stream",
     "text": [
      "  9%|▉         | 53/588 [38:09<5:40:07, 38.14s/it]"
     ]
    },
    {
     "name": "stdout",
     "output_type": "stream",
     "text": [
      "File Not Found on file: com.beansprites.mypretendhospital\n"
     ]
    },
    {
     "name": "stderr",
     "output_type": "stream",
     "text": [
      "  9%|▉         | 55/588 [39:20<5:26:37, 36.77s/it]"
     ]
    },
    {
     "name": "stdout",
     "output_type": "stream",
     "text": [
      "File Not Found on file: com.beansprites.mypretendmallFREE\n"
     ]
    },
    {
     "name": "stderr",
     "output_type": "stream",
     "text": [
      " 10%|▉         | 56/588 [39:58<5:29:12, 37.13s/it]"
     ]
    },
    {
     "name": "stdout",
     "output_type": "stream",
     "text": [
      "File Not Found on file: com.beansprites.mypretendmansionFREE\n"
     ]
    },
    {
     "name": "stderr",
     "output_type": "stream",
     "text": [
      " 10%|▉         | 57/588 [40:34<5:26:24, 36.88s/it]"
     ]
    },
    {
     "name": "stdout",
     "output_type": "stream",
     "text": [
      "File Not Found on file: com.beansprites.mypretendNYFREE\n"
     ]
    },
    {
     "name": "stderr",
     "output_type": "stream",
     "text": [
      " 10%|█         | 59/588 [41:42<5:14:13, 35.64s/it]"
     ]
    },
    {
     "name": "stdout",
     "output_type": "stream",
     "text": [
      "File Not Found on file: com.beansprites.mypretendwildwest\n"
     ]
    },
    {
     "name": "stderr",
     "output_type": "stream",
     "text": [
      " 10%|█         | 60/588 [42:17<5:11:57, 35.45s/it]"
     ]
    },
    {
     "name": "stdout",
     "output_type": "stream",
     "text": [
      "File Not Found on file: com.beansprites.pretendhalloweenFREE\n"
     ]
    },
    {
     "name": "stderr",
     "output_type": "stream",
     "text": [
      " 10%|█         | 61/588 [42:53<5:10:56, 35.40s/it]"
     ]
    },
    {
     "name": "stdout",
     "output_type": "stream",
     "text": [
      "File Not Found on file: com.beansprites.rainbowicecreampopsiclesFREE\n"
     ]
    },
    {
     "name": "stderr",
     "output_type": "stream",
     "text": [
      " 11%|█         | 66/588 [45:34<5:37:08, 38.75s/it]"
     ]
    },
    {
     "name": "stdout",
     "output_type": "stream",
     "text": [
      "Unicode Error on file: com.bearhugmedia.android_beautysalon2\n"
     ]
    },
    {
     "name": "stderr",
     "output_type": "stream",
     "text": [
      " 11%|█▏        | 67/588 [46:44<6:57:42, 48.10s/it]"
     ]
    },
    {
     "name": "stdout",
     "output_type": "stream",
     "text": [
      "Unicode Error on file: com.bearhugmedia.android_sportsday\n"
     ]
    },
    {
     "name": "stderr",
     "output_type": "stream",
     "text": [
      " 12%|█▏        | 68/588 [46:56<5:21:40, 37.12s/it]"
     ]
    },
    {
     "name": "stdout",
     "output_type": "stream",
     "text": [
      "Unicode Error on file: com.bearhugmedia.longhair_princess_wedding\n"
     ]
    },
    {
     "name": "stderr",
     "output_type": "stream",
     "text": [
      " 13%|█▎        | 77/588 [51:13<3:48:00, 26.77s/it]"
     ]
    },
    {
     "name": "stdout",
     "output_type": "stream",
     "text": [
      "Unicode Error on file: com.beemoov.eldarya\n"
     ]
    },
    {
     "name": "stderr",
     "output_type": "stream",
     "text": [
      " 14%|█▍        | 83/588 [54:58<4:47:01, 34.10s/it]"
     ]
    },
    {
     "name": "stdout",
     "output_type": "stream",
     "text": [
      "File Not Found on file: com.behance.behance\n"
     ]
    },
    {
     "name": "stderr",
     "output_type": "stream",
     "text": [
      " 14%|█▍        | 85/588 [57:11<7:26:27, 53.25s/it]"
     ]
    },
    {
     "name": "stdout",
     "output_type": "stream",
     "text": [
      "File Not Found on file: com.beint.pinngle\n"
     ]
    },
    {
     "name": "stderr",
     "output_type": "stream",
     "text": [
      " 15%|█▍        | 86/588 [58:27<8:21:15, 59.91s/it]"
     ]
    },
    {
     "name": "stdout",
     "output_type": "stream",
     "text": [
      "Unicode Error on file: com.beleashcomp.ktoreadom\n"
     ]
    },
    {
     "name": "stderr",
     "output_type": "stream",
     "text": [
      " 16%|█▌        | 93/588 [1:02:55<6:17:00, 45.70s/it]"
     ]
    },
    {
     "name": "stdout",
     "output_type": "stream",
     "text": [
      "Unicode Error on file: com.bentostudio.ballsvsblocks\n"
     ]
    },
    {
     "name": "stderr",
     "output_type": "stream",
     "text": [
      " 16%|█▋        | 96/588 [1:04:49<5:26:43, 39.84s/it]"
     ]
    },
    {
     "name": "stdout",
     "output_type": "stream",
     "text": [
      "Unicode Error on file: com.berminal.bermi\n"
     ]
    },
    {
     "name": "stderr",
     "output_type": "stream",
     "text": [
      " 16%|█▋        | 97/588 [1:05:00<4:17:30, 31.47s/it]"
     ]
    },
    {
     "name": "stdout",
     "output_type": "stream",
     "text": [
      "Unicode Error on file: com.berrybenka.android\n"
     ]
    },
    {
     "name": "stderr",
     "output_type": "stream",
     "text": [
      " 17%|█▋        | 100/588 [1:07:39<6:41:25, 49.36s/it]"
     ]
    },
    {
     "name": "stdout",
     "output_type": "stream",
     "text": [
      "Unicode Error on file: com.bestcoolfungames.antsmasher\n"
     ]
    },
    {
     "name": "stderr",
     "output_type": "stream",
     "text": [
      " 17%|█▋        | 101/588 [1:09:16<8:36:54, 63.68s/it]"
     ]
    },
    {
     "name": "stdout",
     "output_type": "stream",
     "text": [
      "Unicode Error on file: com.bestfriends.live.weather.app\n"
     ]
    },
    {
     "name": "stderr",
     "output_type": "stream",
     "text": [
      " 18%|█▊        | 104/588 [1:10:54<6:27:16, 48.01s/it]"
     ]
    },
    {
     "name": "stdout",
     "output_type": "stream",
     "text": [
      "File Not Found on file: com.bestheart.gemsjewels.junglepuzzlegame\n"
     ]
    },
    {
     "name": "stderr",
     "output_type": "stream",
     "text": [
      " 18%|█▊        | 106/588 [1:13:08<7:54:44, 59.10s/it]"
     ]
    },
    {
     "name": "stdout",
     "output_type": "stream",
     "text": [
      "Unicode Error on file: com.bestnine\n"
     ]
    },
    {
     "name": "stderr",
     "output_type": "stream",
     "text": [
      " 18%|█▊        | 107/588 [1:13:25<6:21:05, 47.54s/it]"
     ]
    },
    {
     "name": "stdout",
     "output_type": "stream",
     "text": [
      "Unicode Error on file: com.bestringtonesapps.freeringtonesforandroid\n"
     ]
    },
    {
     "name": "stderr",
     "output_type": "stream",
     "text": [
      " 19%|█▉        | 111/588 [1:16:40<5:22:17, 40.54s/it]"
     ]
    },
    {
     "name": "stdout",
     "output_type": "stream",
     "text": [
      "Unicode Error on file: com.bethsoft.theelderscrollslegends\n"
     ]
    },
    {
     "name": "stderr",
     "output_type": "stream",
     "text": [
      " 19%|█▉        | 114/588 [1:18:24<5:06:56, 38.85s/it]"
     ]
    },
    {
     "name": "stdout",
     "output_type": "stream",
     "text": [
      "Unicode Error on file: com.bettingtips.daily\n"
     ]
    },
    {
     "name": "stderr",
     "output_type": "stream",
     "text": [
      " 20%|█▉        | 115/588 [1:18:45<4:25:25, 33.67s/it]"
     ]
    },
    {
     "name": "stdout",
     "output_type": "stream",
     "text": [
      "File Not Found on file: com.beurer.connect.healthmanager\n"
     ]
    },
    {
     "name": "stderr",
     "output_type": "stream",
     "text": [
      " 22%|██▏       | 127/588 [1:28:15<6:13:39, 48.63s/it]"
     ]
    },
    {
     "name": "stdout",
     "output_type": "stream",
     "text": [
      "Unicode Error on file: com.bgs.bigramp\n"
     ]
    },
    {
     "name": "stderr",
     "output_type": "stream",
     "text": [
      " 23%|██▎       | 134/588 [1:33:22<4:43:47, 37.51s/it]"
     ]
    },
    {
     "name": "stdout",
     "output_type": "stream",
     "text": [
      "Unicode Error on file: com.bible.kids\n"
     ]
    },
    {
     "name": "stderr",
     "output_type": "stream",
     "text": [
      " 24%|██▍       | 144/588 [1:38:22<4:59:00, 40.41s/it]"
     ]
    },
    {
     "name": "stdout",
     "output_type": "stream",
     "text": [
      "File Not Found on file: com.bitel.selfcare\n"
     ]
    },
    {
     "name": "stderr",
     "output_type": "stream",
     "text": [
      " 25%|██▍       | 146/588 [1:39:17<3:58:36, 32.39s/it]"
     ]
    },
    {
     "name": "stdout",
     "output_type": "stream",
     "text": [
      "Unicode Error on file: com.bitmango.go.blockpuzzlestarfinder\n"
     ]
    },
    {
     "name": "stderr",
     "output_type": "stream",
     "text": [
      " 25%|██▌       | 147/588 [1:39:27<3:07:26, 25.50s/it]"
     ]
    },
    {
     "name": "stdout",
     "output_type": "stream",
     "text": [
      "Unicode Error on file: com.bitmango.go.blocktrianglepuzzletangram\n"
     ]
    },
    {
     "name": "stderr",
     "output_type": "stream",
     "text": [
      " 25%|██▌       | 148/588 [1:39:36<2:31:47, 20.70s/it]"
     ]
    },
    {
     "name": "stdout",
     "output_type": "stream",
     "text": [
      "Unicode Error on file: com.bitmango.go.bunnypopbubble\n"
     ]
    },
    {
     "name": "stderr",
     "output_type": "stream",
     "text": [
      " 26%|██▌       | 150/588 [1:39:46<1:37:11, 13.31s/it]"
     ]
    },
    {
     "name": "stdout",
     "output_type": "stream",
     "text": [
      "Unicode Error on file: com.bitmango.go.lollipopmatch3\n"
     ]
    },
    {
     "name": "stderr",
     "output_type": "stream",
     "text": [
      " 26%|██▌       | 151/588 [1:39:55<1:29:48, 12.33s/it]"
     ]
    },
    {
     "name": "stdout",
     "output_type": "stream",
     "text": [
      "Unicode Error on file: com.bitmango.go.stringart\n"
     ]
    },
    {
     "name": "stderr",
     "output_type": "stream",
     "text": [
      " 26%|██▌       | 153/588 [1:40:30<1:43:34, 14.29s/it]"
     ]
    },
    {
     "name": "stdout",
     "output_type": "stream",
     "text": [
      "Unicode Error on file: com.bitmango.go.wordcookies\n"
     ]
    },
    {
     "name": "stderr",
     "output_type": "stream",
     "text": [
      " 26%|██▌       | 154/588 [1:40:40<1:34:40, 13.09s/it]"
     ]
    },
    {
     "name": "stdout",
     "output_type": "stream",
     "text": [
      "Unicode Error on file: com.bitmango.rolltheballunrollme\n"
     ]
    },
    {
     "name": "stderr",
     "output_type": "stream",
     "text": [
      " 26%|██▋       | 155/588 [1:42:37<5:07:50, 42.66s/it]"
     ]
    },
    {
     "name": "stdout",
     "output_type": "stream",
     "text": [
      "File Not Found on file: com.bitrix24.android\n"
     ]
    },
    {
     "name": "stderr",
     "output_type": "stream",
     "text": [
      " 27%|██▋       | 156/588 [1:42:59<4:25:34, 36.89s/it]"
     ]
    },
    {
     "name": "stdout",
     "output_type": "stream",
     "text": [
      "Unicode Error on file: com.bitsmedia.android.muslimpro\n"
     ]
    },
    {
     "name": "stderr",
     "output_type": "stream",
     "text": [
      " 27%|██▋       | 158/588 [1:45:49<7:04:52, 59.29s/it]"
     ]
    },
    {
     "name": "stdout",
     "output_type": "stream",
     "text": [
      "File Not Found on file: com.bitstrips.imoji\n"
     ]
    },
    {
     "name": "stderr",
     "output_type": "stream",
     "text": [
      " 27%|██▋       | 159/588 [1:46:59<7:25:28, 62.30s/it]"
     ]
    },
    {
     "name": "stdout",
     "output_type": "stream",
     "text": [
      "Unicode Error on file: com.bittorrent.client\n"
     ]
    },
    {
     "name": "stderr",
     "output_type": "stream",
     "text": [
      " 29%|██▉       | 172/588 [1:58:24<6:44:12, 58.30s/it] "
     ]
    },
    {
     "name": "stdout",
     "output_type": "stream",
     "text": [
      "Unicode Error on file: com.blacklightsw.ludo\n"
     ]
    },
    {
     "name": "stderr",
     "output_type": "stream",
     "text": [
      " 30%|███       | 178/588 [2:01:11<3:31:36, 30.97s/it]"
     ]
    },
    {
     "name": "stdout",
     "output_type": "stream",
     "text": [
      "Unicode Error on file: com.blackwhitemeet\n"
     ]
    },
    {
     "name": "stderr",
     "output_type": "stream",
     "text": [
      " 30%|███       | 179/588 [2:01:45<3:38:05, 31.99s/it]"
     ]
    },
    {
     "name": "stdout",
     "output_type": "stream",
     "text": [
      "Unicode Error on file: com.blayzegames.iosfps\n"
     ]
    },
    {
     "name": "stderr",
     "output_type": "stream",
     "text": [
      " 31%|███       | 180/588 [2:02:20<3:44:27, 33.01s/it]"
     ]
    },
    {
     "name": "stdout",
     "output_type": "stream",
     "text": [
      "Unicode Error on file: com.blayzegames.newfps\n"
     ]
    },
    {
     "name": "stderr",
     "output_type": "stream",
     "text": [
      " 31%|███       | 181/588 [2:02:41<3:17:54, 29.18s/it]"
     ]
    },
    {
     "name": "stdout",
     "output_type": "stream",
     "text": [
      "File Not Found on file: com.bleacherreport.android.teamstream\n"
     ]
    },
    {
     "name": "stderr",
     "output_type": "stream",
     "text": [
      " 31%|███▏      | 184/588 [2:05:00<4:17:29, 38.24s/it]"
     ]
    },
    {
     "name": "stdout",
     "output_type": "stream",
     "text": [
      "File Not Found on file: com.blinkslabs.blinkist.android\n"
     ]
    },
    {
     "name": "stderr",
     "output_type": "stream",
     "text": [
      " 31%|███▏      | 185/588 [2:06:29<5:58:01, 53.30s/it]"
     ]
    },
    {
     "name": "stdout",
     "output_type": "stream",
     "text": [
      "File Not Found on file: com.blizzard.blizzcon\n"
     ]
    },
    {
     "name": "stderr",
     "output_type": "stream",
     "text": [
      " 32%|███▏      | 190/588 [2:09:46<4:30:56, 40.84s/it]"
     ]
    },
    {
     "name": "stdout",
     "output_type": "stream",
     "text": [
      "File Not Found on file: com.blogspot.euapps.marshmelloalonemusicpad\n"
     ]
    },
    {
     "name": "stderr",
     "output_type": "stream",
     "text": [
      " 34%|███▎      | 198/588 [2:14:38<4:11:45, 38.73s/it]"
     ]
    },
    {
     "name": "stdout",
     "output_type": "stream",
     "text": [
      "Unicode Error on file: com.blued.international\n"
     ]
    },
    {
     "name": "stderr",
     "output_type": "stream",
     "text": [
      " 35%|███▍      | 203/588 [2:17:37<3:40:45, 34.40s/it]"
     ]
    },
    {
     "name": "stdout",
     "output_type": "stream",
     "text": [
      "Unicode Error on file: com.bluestonesoft.soularkglobal\n"
     ]
    },
    {
     "name": "stderr",
     "output_type": "stream",
     "text": [
      " 35%|███▍      | 204/588 [2:18:19<3:53:13, 36.44s/it]"
     ]
    },
    {
     "name": "stdout",
     "output_type": "stream",
     "text": [
      "Unicode Error on file: com.bluewizard.f13puzzle\n"
     ]
    },
    {
     "name": "stderr",
     "output_type": "stream",
     "text": [
      " 36%|███▌      | 212/588 [2:23:20<2:55:09, 27.95s/it]"
     ]
    },
    {
     "name": "stdout",
     "output_type": "stream",
     "text": [
      "File Not Found on file: com.bocharov.xposed.fsbi\n"
     ]
    },
    {
     "name": "stderr",
     "output_type": "stream",
     "text": [
      " 37%|███▋      | 216/588 [2:26:24<4:52:03, 47.11s/it]"
     ]
    },
    {
     "name": "stdout",
     "output_type": "stream",
     "text": [
      "File Not Found on file: com.bodyfast\n"
     ]
    },
    {
     "name": "stderr",
     "output_type": "stream",
     "text": [
      " 38%|███▊      | 222/588 [2:32:03<7:05:34, 69.77s/it]"
     ]
    },
    {
     "name": "stdout",
     "output_type": "stream",
     "text": [
      "File Not Found on file: com.bongo.bioscope\n"
     ]
    },
    {
     "name": "stderr",
     "output_type": "stream",
     "text": [
      " 38%|███▊      | 223/588 [2:32:16<5:21:41, 52.88s/it]"
     ]
    },
    {
     "name": "stdout",
     "output_type": "stream",
     "text": [
      "Unicode Error on file: com.bongolight.pixelcoloring\n"
     ]
    },
    {
     "name": "stderr",
     "output_type": "stream",
     "text": [
      " 38%|███▊      | 226/588 [2:33:50<3:48:36, 37.89s/it]"
     ]
    },
    {
     "name": "stdout",
     "output_type": "stream",
     "text": [
      "Unicode Error on file: com.boo.boomoji\n"
     ]
    },
    {
     "name": "stderr",
     "output_type": "stream",
     "text": [
      " 39%|███▉      | 228/588 [2:35:00<3:26:58, 34.50s/it]"
     ]
    },
    {
     "name": "stdout",
     "output_type": "stream",
     "text": [
      "Unicode Error on file: com.booking\n"
     ]
    },
    {
     "name": "stderr",
     "output_type": "stream",
     "text": [
      " 39%|███▉      | 229/588 [2:35:39<3:34:35, 35.87s/it]"
     ]
    },
    {
     "name": "stdout",
     "output_type": "stream",
     "text": [
      "File Not Found on file: com.booking.hotelmanager\n"
     ]
    },
    {
     "name": "stderr",
     "output_type": "stream",
     "text": [
      " 39%|███▉      | 230/588 [2:37:10<5:11:45, 52.25s/it]"
     ]
    },
    {
     "name": "stdout",
     "output_type": "stream",
     "text": [
      "File Not Found on file: com.bookmark.money\n"
     ]
    },
    {
     "name": "stderr",
     "output_type": "stream",
     "text": [
      " 39%|███▉      | 232/588 [2:38:46<4:52:33, 49.31s/it]"
     ]
    },
    {
     "name": "stdout",
     "output_type": "stream",
     "text": [
      "Unicode Error on file: com.bookpalcomics.single.yandere\n"
     ]
    },
    {
     "name": "stderr",
     "output_type": "stream",
     "text": [
      " 40%|███▉      | 233/588 [2:39:38<4:55:34, 49.96s/it]"
     ]
    },
    {
     "name": "stdout",
     "output_type": "stream",
     "text": [
      "Unicode Error on file: com.boolit.thefinalpowerlevelwarrior\n"
     ]
    },
    {
     "name": "stderr",
     "output_type": "stream",
     "text": [
      " 40%|███▉      | 234/588 [2:39:48<3:45:28, 38.21s/it]"
     ]
    },
    {
     "name": "stdout",
     "output_type": "stream",
     "text": [
      "Unicode Error on file: com.boombitgames.BridgeLowpoly\n"
     ]
    },
    {
     "name": "stderr",
     "output_type": "stream",
     "text": [
      " 40%|███▉      | 235/588 [2:40:01<3:00:23, 30.66s/it]"
     ]
    },
    {
     "name": "stdout",
     "output_type": "stream",
     "text": [
      "Unicode Error on file: com.boombitgames.DrivingSchoolParking\n"
     ]
    },
    {
     "name": "stderr",
     "output_type": "stream",
     "text": [
      " 40%|████      | 236/588 [2:40:14<2:28:12, 25.26s/it]"
     ]
    },
    {
     "name": "stdout",
     "output_type": "stream",
     "text": [
      "Unicode Error on file: com.boomegg.nineke\n"
     ]
    },
    {
     "name": "stderr",
     "output_type": "stream",
     "text": [
      " 40%|████      | 238/588 [2:41:24<2:46:10, 28.49s/it]"
     ]
    },
    {
     "name": "stdout",
     "output_type": "stream",
     "text": [
      "Unicode Error on file: com.boomster.linegame\n"
     ]
    },
    {
     "name": "stderr",
     "output_type": "stream",
     "text": [
      " 43%|████▎     | 251/588 [2:52:36<4:28:35, 47.82s/it]"
     ]
    },
    {
     "name": "stdout",
     "output_type": "stream",
     "text": [
      "Unicode Error on file: com.Bow3.TheClaw\n"
     ]
    },
    {
     "name": "stderr",
     "output_type": "stream",
     "text": [
      " 43%|████▎     | 253/588 [2:54:17<4:27:01, 47.83s/it]"
     ]
    },
    {
     "name": "stdout",
     "output_type": "stream",
     "text": [
      "File Not Found on file: com.boxer.email\n"
     ]
    },
    {
     "name": "stderr",
     "output_type": "stream",
     "text": [
      " 43%|████▎     | 254/588 [2:54:27<3:23:57, 36.64s/it]"
     ]
    },
    {
     "name": "stdout",
     "output_type": "stream",
     "text": [
      "Unicode Error on file: com.boyaa.androidmarketar\n"
     ]
    },
    {
     "name": "stderr",
     "output_type": "stream",
     "text": [
      " 43%|████▎     | 255/588 [2:54:36<2:37:42, 28.42s/it]"
     ]
    },
    {
     "name": "stdout",
     "output_type": "stream",
     "text": [
      "Unicode Error on file: com.boyaa.androidmarkettaiyu\n"
     ]
    },
    {
     "name": "stderr",
     "output_type": "stream",
     "text": [
      " 44%|████▎     | 256/588 [2:56:27<4:52:58, 52.95s/it]"
     ]
    },
    {
     "name": "stdout",
     "output_type": "stream",
     "text": [
      "Unicode Error on file: com.bpmobile.iscanner.free\n"
     ]
    },
    {
     "name": "stderr",
     "output_type": "stream",
     "text": [
      " 44%|████▍     | 261/588 [3:01:32<5:34:54, 61.45s/it]"
     ]
    },
    {
     "name": "stdout",
     "output_type": "stream",
     "text": [
      "Unicode Error on file: com.brainbow.quixellogic\n"
     ]
    },
    {
     "name": "stderr",
     "output_type": "stream",
     "text": [
      " 46%|████▌     | 268/588 [3:07:25<4:55:34, 55.42s/it]"
     ]
    },
    {
     "name": "stdout",
     "output_type": "stream",
     "text": [
      "Unicode Error on file: com.braveknight.quiz02\n"
     ]
    },
    {
     "name": "stderr",
     "output_type": "stream",
     "text": [
      " 47%|████▋     | 276/588 [3:12:55<3:41:12, 42.54s/it]"
     ]
    },
    {
     "name": "stdout",
     "output_type": "stream",
     "text": [
      "Unicode Error on file: com.brilliantgamez.cruiser.taxi\n"
     ]
    },
    {
     "name": "stderr",
     "output_type": "stream",
     "text": [
      " 47%|████▋     | 279/588 [3:15:08<3:54:41, 45.57s/it]"
     ]
    },
    {
     "name": "stdout",
     "output_type": "stream",
     "text": [
      "File Not Found on file: com.brokenreality.bigcapitalist3.android\n"
     ]
    },
    {
     "name": "stderr",
     "output_type": "stream",
     "text": [
      " 48%|████▊     | 280/588 [3:16:10<4:18:57, 50.45s/it]"
     ]
    },
    {
     "name": "stdout",
     "output_type": "stream",
     "text": [
      "File Not Found on file: com.brokenreality.planemerger.android\n"
     ]
    },
    {
     "name": "stderr",
     "output_type": "stream",
     "text": [
      " 49%|████▉     | 290/588 [3:21:32<1:42:00, 20.54s/it]"
     ]
    },
    {
     "name": "stdout",
     "output_type": "stream",
     "text": [
      "Unicode Error on file: com.bskyb.sportnews.international\n"
     ]
    },
    {
     "name": "stderr",
     "output_type": "stream",
     "text": [
      " 50%|█████     | 296/588 [3:28:21<5:52:04, 72.34s/it]"
     ]
    },
    {
     "name": "stdout",
     "output_type": "stream",
     "text": [
      "File Not Found on file: com.bts.cheese.photo\n"
     ]
    },
    {
     "name": "stderr",
     "output_type": "stream",
     "text": [
      " 51%|█████     | 298/588 [3:29:34<4:26:15, 55.09s/it]"
     ]
    },
    {
     "name": "stdout",
     "output_type": "stream",
     "text": [
      "Unicode Error on file: com.bubadu.buildergame\n"
     ]
    },
    {
     "name": "stderr",
     "output_type": "stream",
     "text": [
      " 51%|█████     | 299/588 [3:30:33<4:31:30, 56.37s/it]"
     ]
    },
    {
     "name": "stdout",
     "output_type": "stream",
     "text": [
      "Unicode Error on file: com.bubadu.duddu\n"
     ]
    },
    {
     "name": "stderr",
     "output_type": "stream",
     "text": [
      " 51%|█████     | 300/588 [3:31:21<4:18:15, 53.81s/it]"
     ]
    },
    {
     "name": "stdout",
     "output_type": "stream",
     "text": [
      "Unicode Error on file: com.bubadu.supermarket2\n"
     ]
    },
    {
     "name": "stderr",
     "output_type": "stream",
     "text": [
      " 52%|█████▏    | 303/588 [3:34:35<4:40:47, 59.11s/it]"
     ]
    },
    {
     "name": "stdout",
     "output_type": "stream",
     "text": [
      "File Not Found on file: com.BuddyMattEnt.ChainReaction\n"
     ]
    },
    {
     "name": "stderr",
     "output_type": "stream",
     "text": [
      " 52%|█████▏    | 304/588 [3:35:11<4:06:33, 52.09s/it]"
     ]
    },
    {
     "name": "stdout",
     "output_type": "stream",
     "text": [
      "File Not Found on file: com.budgestudios.CaillouCheckUp\n"
     ]
    },
    {
     "name": "stderr",
     "output_type": "stream",
     "text": [
      " 52%|█████▏    | 305/588 [3:35:39<3:31:14, 44.79s/it]"
     ]
    },
    {
     "name": "stdout",
     "output_type": "stream",
     "text": [
      "Unicode Error on file: com.budgestudios.HelloKittyLunchBox\n"
     ]
    },
    {
     "name": "stderr",
     "output_type": "stream",
     "text": [
      " 52%|█████▏    | 307/588 [3:37:00<3:13:54, 41.41s/it]"
     ]
    },
    {
     "name": "stdout",
     "output_type": "stream",
     "text": [
      "Unicode Error on file: com.budgestudios.ThomasAndFriendsGoGoThomas\n"
     ]
    },
    {
     "name": "stderr",
     "output_type": "stream",
     "text": [
      " 53%|█████▎    | 313/588 [3:52:25<13:58:29, 182.94s/it]"
     ]
    },
    {
     "name": "stdout",
     "output_type": "stream",
     "text": [
      "File Not Found on file: com.bumble.app\n"
     ]
    },
    {
     "name": "stderr",
     "output_type": "stream",
     "text": [
      " 54%|█████▎    | 315/588 [3:54:20<9:07:46, 120.39s/it] "
     ]
    },
    {
     "name": "stdout",
     "output_type": "stream",
     "text": [
      "Unicode Error on file: com.bunny_scratch.fl\n"
     ]
    },
    {
     "name": "stderr",
     "output_type": "stream",
     "text": [
      " 54%|█████▎    | 316/588 [3:55:28<7:53:49, 104.52s/it]"
     ]
    },
    {
     "name": "stdout",
     "output_type": "stream",
     "text": [
      "Unicode Error on file: com.bunny_scratch.las_vegas\n"
     ]
    },
    {
     "name": "stderr",
     "output_type": "stream",
     "text": [
      " 54%|█████▍    | 317/588 [3:56:18<6:38:20, 88.19s/it] "
     ]
    },
    {
     "name": "stdout",
     "output_type": "stream",
     "text": [
      "Unicode Error on file: com.buntoo.car.racing.games\n"
     ]
    },
    {
     "name": "stderr",
     "output_type": "stream",
     "text": [
      " 55%|█████▍    | 323/588 [4:00:40<3:04:58, 41.88s/it]"
     ]
    },
    {
     "name": "stdout",
     "output_type": "stream",
     "text": [
      "File Not Found on file: com.bushiroad.en.bangdreamgbp\n"
     ]
    },
    {
     "name": "stderr",
     "output_type": "stream",
     "text": [
      " 58%|█████▊    | 340/588 [4:13:01<3:18:44, 48.08s/it]"
     ]
    },
    {
     "name": "stdout",
     "output_type": "stream",
     "text": [
      "Unicode Error on file: com.bykea.pk\n"
     ]
    },
    {
     "name": "stderr",
     "output_type": "stream",
     "text": [
      " 58%|█████▊    | 343/588 [4:14:42<2:51:22, 41.97s/it]"
     ]
    },
    {
     "name": "stdout",
     "output_type": "stream",
     "text": [
      "Unicode Error on file: com.byte3d.teenpatti\n"
     ]
    },
    {
     "name": "stderr",
     "output_type": "stream",
     "text": [
      " 61%|██████    | 358/588 [4:23:39<1:52:45, 29.42s/it]"
     ]
    },
    {
     "name": "stdout",
     "output_type": "stream",
     "text": [
      "Unicode Error on file: com.call.flash.ringtones\n"
     ]
    },
    {
     "name": "stderr",
     "output_type": "stream",
     "text": [
      " 61%|██████    | 359/588 [4:23:58<1:41:16, 26.54s/it]"
     ]
    },
    {
     "name": "stdout",
     "output_type": "stream",
     "text": [
      "Unicode Error on file: com.callapp.contacts\n"
     ]
    },
    {
     "name": "stderr",
     "output_type": "stream",
     "text": [
      " 61%|██████    | 360/588 [4:24:07<1:20:23, 21.16s/it]"
     ]
    },
    {
     "name": "stdout",
     "output_type": "stream",
     "text": [
      "Unicode Error on file: com.callbreak.game\n"
     ]
    },
    {
     "name": "stderr",
     "output_type": "stream",
     "text": [
      " 61%|██████▏   | 361/588 [4:24:12<1:02:06, 16.42s/it]"
     ]
    },
    {
     "name": "stdout",
     "output_type": "stream",
     "text": [
      "Unicode Error on file: com.callerscreen.color.phone.ringtone.flash\n"
     ]
    },
    {
     "name": "stderr",
     "output_type": "stream",
     "text": [
      " 62%|██████▏   | 364/588 [4:25:23<1:22:27, 22.09s/it]"
     ]
    },
    {
     "name": "stdout",
     "output_type": "stream",
     "text": [
      "Unicode Error on file: com.calm.android\n"
     ]
    },
    {
     "name": "stderr",
     "output_type": "stream",
     "text": [
      " 63%|██████▎   | 368/588 [4:28:46<2:01:08, 33.04s/it]"
     ]
    },
    {
     "name": "stdout",
     "output_type": "stream",
     "text": [
      "Unicode Error on file: com.camera.beautycam\n"
     ]
    },
    {
     "name": "stderr",
     "output_type": "stream",
     "text": [
      " 63%|██████▎   | 369/588 [4:30:11<2:56:55, 48.47s/it]"
     ]
    },
    {
     "name": "stdout",
     "output_type": "stream",
     "text": [
      "Unicode Error on file: com.camera.ligo\n"
     ]
    },
    {
     "name": "stderr",
     "output_type": "stream",
     "text": [
      " 64%|██████▍   | 376/588 [4:38:30<4:55:00, 83.49s/it]"
     ]
    },
    {
     "name": "stdout",
     "output_type": "stream",
     "text": [
      "File Not Found on file: com.campmobile.launcher\n"
     ]
    },
    {
     "name": "stderr",
     "output_type": "stream",
     "text": [
      " 65%|██████▍   | 380/588 [4:42:09<3:53:56, 67.48s/it]"
     ]
    },
    {
     "name": "stdout",
     "output_type": "stream",
     "text": [
      "File Not Found on file: com.canal.android.canal\n"
     ]
    },
    {
     "name": "stderr",
     "output_type": "stream",
     "text": [
      " 65%|██████▍   | 381/588 [4:43:11<3:46:36, 65.68s/it]"
     ]
    },
    {
     "name": "stdout",
     "output_type": "stream",
     "text": [
      "Unicode Error on file: com.candy.bomb.crush.free\n"
     ]
    },
    {
     "name": "stderr",
     "output_type": "stream",
     "text": [
      " 65%|██████▍   | 382/588 [4:44:15<3:44:01, 65.25s/it]"
     ]
    },
    {
     "name": "stdout",
     "output_type": "stream",
     "text": [
      "Unicode Error on file: com.candy.cookie.townstory.puzzle\n"
     ]
    },
    {
     "name": "stderr",
     "output_type": "stream",
     "text": [
      " 65%|██████▌   | 384/588 [4:45:52<3:16:23, 57.76s/it]"
     ]
    },
    {
     "name": "stdout",
     "output_type": "stream",
     "text": [
      "Unicode Error on file: com.candy.world.crush.jam.free\n"
     ]
    },
    {
     "name": "stderr",
     "output_type": "stream",
     "text": [
      " 65%|██████▌   | 385/588 [4:46:30<2:55:18, 51.81s/it]"
     ]
    },
    {
     "name": "stdout",
     "output_type": "stream",
     "text": [
      "Unicode Error on file: com.candycane.balloonprotect\n"
     ]
    },
    {
     "name": "stderr",
     "output_type": "stream",
     "text": [
      " 66%|██████▌   | 386/588 [4:47:34<3:06:53, 55.51s/it]"
     ]
    },
    {
     "name": "stdout",
     "output_type": "stream",
     "text": [
      "Unicode Error on file: com.candylegend.legend\n"
     ]
    },
    {
     "name": "stderr",
     "output_type": "stream",
     "text": [
      " 66%|██████▌   | 388/588 [4:48:52<2:42:44, 48.82s/it]"
     ]
    },
    {
     "name": "stdout",
     "output_type": "stream",
     "text": [
      "Unicode Error on file: com.candysmashmania.sweetcrush.free\n"
     ]
    },
    {
     "name": "stderr",
     "output_type": "stream",
     "text": [
      " 66%|██████▌   | 389/588 [4:49:08<2:08:24, 38.72s/it]"
     ]
    },
    {
     "name": "stdout",
     "output_type": "stream",
     "text": [
      "Unicode Error on file: com.chbreeze.jikbang4a\n"
     ]
    },
    {
     "name": "stderr",
     "output_type": "stream",
     "text": [
      " 67%|██████▋   | 393/588 [4:52:30<2:46:29, 51.23s/it]"
     ]
    },
    {
     "name": "stdout",
     "output_type": "stream",
     "text": [
      "Unicode Error on file: com.chelseafc.the5thstand\n"
     ]
    },
    {
     "name": "stderr",
     "output_type": "stream",
     "text": [
      " 67%|██████▋   | 394/588 [4:53:10<2:35:17, 48.03s/it]"
     ]
    },
    {
     "name": "stdout",
     "output_type": "stream",
     "text": [
      "File Not Found on file: com.Cheritz.MysticMessenger\n"
     ]
    },
    {
     "name": "stderr",
     "output_type": "stream",
     "text": [
      " 70%|███████   | 412/588 [5:07:51<1:42:30, 34.94s/it]"
     ]
    },
    {
     "name": "stdout",
     "output_type": "stream",
     "text": [
      "Unicode Error on file: com.chickfila.cfaflagship\n"
     ]
    },
    {
     "name": "stderr",
     "output_type": "stream",
     "text": [
      " 71%|███████   | 415/588 [5:09:57<1:37:40, 33.87s/it]"
     ]
    },
    {
     "name": "stdout",
     "output_type": "stream",
     "text": [
      "Unicode Error on file: com.chilindo\n"
     ]
    },
    {
     "name": "stderr",
     "output_type": "stream",
     "text": [
      " 71%|███████   | 417/588 [5:11:12<1:35:09, 33.39s/it]"
     ]
    },
    {
     "name": "stdout",
     "output_type": "stream",
     "text": [
      "Unicode Error on file: com.chillfleet.puzzle\n"
     ]
    },
    {
     "name": "stderr",
     "output_type": "stream",
     "text": [
      " 71%|███████▏  | 419/588 [5:12:43<1:54:00, 40.48s/it]"
     ]
    },
    {
     "name": "stdout",
     "output_type": "stream",
     "text": [
      "Unicode Error on file: com.chillingo.robberybob2.android.gplay\n"
     ]
    },
    {
     "name": "stderr",
     "output_type": "stream",
     "text": [
      " 71%|███████▏  | 420/588 [5:13:38<2:05:00, 44.64s/it]"
     ]
    },
    {
     "name": "stdout",
     "output_type": "stream",
     "text": [
      "Unicode Error on file: com.chillingo.robberybobfree.android.row\n"
     ]
    },
    {
     "name": "stderr",
     "output_type": "stream",
     "text": [
      " 72%|███████▏  | 423/588 [5:15:51<1:56:08, 42.23s/it]"
     ]
    },
    {
     "name": "stdout",
     "output_type": "stream",
     "text": [
      "Unicode Error on file: com.chipotle.ordering\n"
     ]
    },
    {
     "name": "stderr",
     "output_type": "stream",
     "text": [
      " 72%|███████▏  | 424/588 [5:16:39<2:00:33, 44.11s/it]"
     ]
    },
    {
     "name": "stdout",
     "output_type": "stream",
     "text": [
      "Unicode Error on file: com.chitty.fighting.robot\n"
     ]
    },
    {
     "name": "stderr",
     "output_type": "stream",
     "text": [
      " 72%|███████▏  | 425/588 [5:17:10<1:49:09, 40.18s/it]"
     ]
    },
    {
     "name": "stdout",
     "output_type": "stream",
     "text": [
      "File Not Found on file: com.chkdincuttingedge\n"
     ]
    },
    {
     "name": "stderr",
     "output_type": "stream",
     "text": [
      " 73%|███████▎  | 428/588 [5:20:36<2:28:08, 55.56s/it]"
     ]
    },
    {
     "name": "stdout",
     "output_type": "stream",
     "text": [
      "Unicode Error on file: com.chotot.vn\n"
     ]
    },
    {
     "name": "stderr",
     "output_type": "stream",
     "text": [
      " 75%|███████▍  | 439/588 [5:29:09<1:32:26, 37.22s/it]"
     ]
    },
    {
     "name": "stdout",
     "output_type": "stream",
     "text": [
      "Unicode Error on file: com.coco2games.ng\n"
     ]
    },
    {
     "name": "stderr",
     "output_type": "stream",
     "text": [
      " 75%|███████▌  | 441/588 [5:29:39<1:02:53, 25.67s/it]"
     ]
    },
    {
     "name": "stdout",
     "output_type": "stream",
     "text": [
      "Unicode Error on file: com.cocoplay.cheerleaders\n"
     ]
    },
    {
     "name": "stderr",
     "output_type": "stream",
     "text": [
      " 75%|███████▌  | 442/588 [5:29:51<52:14, 21.47s/it]  "
     ]
    },
    {
     "name": "stdout",
     "output_type": "stream",
     "text": [
      "Unicode Error on file: com.cocoplay.cocofitness\n"
     ]
    },
    {
     "name": "stderr",
     "output_type": "stream",
     "text": [
      " 75%|███████▌  | 443/588 [5:30:23<59:20, 24.56s/it]"
     ]
    },
    {
     "name": "stdout",
     "output_type": "stream",
     "text": [
      "Unicode Error on file: com.cocoplay.cocoiceprincess_googleplay\n"
     ]
    },
    {
     "name": "stderr",
     "output_type": "stream",
     "text": [
      " 76%|███████▌  | 444/588 [5:30:36<50:36, 21.09s/it]"
     ]
    },
    {
     "name": "stdout",
     "output_type": "stream",
     "text": [
      "Unicode Error on file: com.cocoplay.cocostar\n"
     ]
    },
    {
     "name": "stderr",
     "output_type": "stream",
     "text": [
      " 76%|███████▌  | 445/588 [5:30:47<43:29, 18.25s/it]"
     ]
    },
    {
     "name": "stdout",
     "output_type": "stream",
     "text": [
      "Unicode Error on file: com.cocoplay.cocosummer\n"
     ]
    },
    {
     "name": "stderr",
     "output_type": "stream",
     "text": [
      " 76%|███████▌  | 446/588 [5:30:59<38:32, 16.29s/it]"
     ]
    },
    {
     "name": "stdout",
     "output_type": "stream",
     "text": [
      "Unicode Error on file: com.cocoplay.cocosupermodel\n"
     ]
    },
    {
     "name": "stderr",
     "output_type": "stream",
     "text": [
      " 76%|███████▌  | 447/588 [5:31:11<35:07, 14.95s/it]"
     ]
    },
    {
     "name": "stdout",
     "output_type": "stream",
     "text": [
      "Unicode Error on file: com.cocoplay.dance.clash.two\n"
     ]
    },
    {
     "name": "stderr",
     "output_type": "stream",
     "text": [
      " 76%|███████▌  | 448/588 [5:31:33<40:14, 17.25s/it]"
     ]
    },
    {
     "name": "stdout",
     "output_type": "stream",
     "text": [
      "Unicode Error on file: com.cocoplay.diy.fashion\n"
     ]
    },
    {
     "name": "stderr",
     "output_type": "stream",
     "text": [
      " 76%|███████▋  | 449/588 [5:31:43<34:42, 14.98s/it]"
     ]
    },
    {
     "name": "stdout",
     "output_type": "stream",
     "text": [
      "Unicode Error on file: com.cocoplay.first.kiss\n"
     ]
    },
    {
     "name": "stderr",
     "output_type": "stream",
     "text": [
      " 77%|███████▋  | 450/588 [5:31:52<30:14, 13.15s/it]"
     ]
    },
    {
     "name": "stdout",
     "output_type": "stream",
     "text": [
      "Unicode Error on file: com.cocoplay.gymnastic.star\n"
     ]
    },
    {
     "name": "stderr",
     "output_type": "stream",
     "text": [
      " 77%|███████▋  | 451/588 [5:32:05<29:46, 13.04s/it]"
     ]
    },
    {
     "name": "stdout",
     "output_type": "stream",
     "text": [
      "Unicode Error on file: com.cocoplay.gymnastics.simulator\n"
     ]
    },
    {
     "name": "stderr",
     "output_type": "stream",
     "text": [
      " 77%|███████▋  | 452/588 [5:32:16<28:29, 12.57s/it]"
     ]
    },
    {
     "name": "stdout",
     "output_type": "stream",
     "text": [
      "Unicode Error on file: com.cocoplay.outfit.day\n"
     ]
    },
    {
     "name": "stderr",
     "output_type": "stream",
     "text": [
      " 77%|███████▋  | 453/588 [5:32:28<27:34, 12.25s/it]"
     ]
    },
    {
     "name": "stdout",
     "output_type": "stream",
     "text": [
      "Unicode Error on file: com.cocoplay.skate.girl\n"
     ]
    },
    {
     "name": "stderr",
     "output_type": "stream",
     "text": [
      " 77%|███████▋  | 454/588 [5:32:39<26:54, 12.05s/it]"
     ]
    },
    {
     "name": "stdout",
     "output_type": "stream",
     "text": [
      "Unicode Error on file: com.cocoplay.sweet.bakery\n"
     ]
    },
    {
     "name": "stderr",
     "output_type": "stream",
     "text": [
      " 77%|███████▋  | 455/588 [5:32:49<24:57, 11.26s/it]"
     ]
    },
    {
     "name": "stdout",
     "output_type": "stream",
     "text": [
      "Unicode Error on file: com.cocoplay.wedding.dance\n"
     ]
    },
    {
     "name": "stderr",
     "output_type": "stream",
     "text": [
      " 78%|███████▊  | 456/588 [5:33:01<25:35, 11.63s/it]"
     ]
    },
    {
     "name": "stdout",
     "output_type": "stream",
     "text": [
      "Unicode Error on file: com.cocoplay.weddingplanner\n"
     ]
    },
    {
     "name": "stderr",
     "output_type": "stream",
     "text": [
      " 79%|███████▊  | 462/588 [5:37:04<1:18:26, 37.35s/it]"
     ]
    },
    {
     "name": "stdout",
     "output_type": "stream",
     "text": [
      "File Not Found on file: com.codeslinger.guitarheroremix\n"
     ]
    },
    {
     "name": "stderr",
     "output_type": "stream",
     "text": [
      " 79%|███████▊  | 463/588 [5:37:23<1:06:28, 31.91s/it]"
     ]
    },
    {
     "name": "stdout",
     "output_type": "stream",
     "text": [
      "Unicode Error on file: com.codigames.idle.theme.park.tycoon\n"
     ]
    },
    {
     "name": "stderr",
     "output_type": "stream",
     "text": [
      " 79%|███████▉  | 465/588 [5:37:41<39:51, 19.44s/it]  "
     ]
    },
    {
     "name": "stdout",
     "output_type": "stream",
     "text": [
      "Unicode Error on file: com.codigames.market.idle.tycoon\n"
     ]
    },
    {
     "name": "stderr",
     "output_type": "stream",
     "text": [
      " 79%|███████▉  | 466/588 [5:37:53<34:41, 17.06s/it]"
     ]
    },
    {
     "name": "stdout",
     "output_type": "stream",
     "text": [
      "Unicode Error on file: com.coffeemeetsbagel\n"
     ]
    },
    {
     "name": "stderr",
     "output_type": "stream",
     "text": [
      " 80%|████████  | 471/588 [5:40:01<34:44, 17.81s/it]  "
     ]
    },
    {
     "name": "stdout",
     "output_type": "stream",
     "text": [
      "Unicode Error on file: com.coinbase.android\n"
     ]
    },
    {
     "name": "stderr",
     "output_type": "stream",
     "text": [
      " 80%|████████  | 472/588 [5:40:50<52:22, 27.09s/it]"
     ]
    },
    {
     "name": "stdout",
     "output_type": "stream",
     "text": [
      "Unicode Error on file: com.coinhako\n"
     ]
    },
    {
     "name": "stderr",
     "output_type": "stream",
     "text": [
      " 82%|████████▏ | 482/588 [5:49:37<1:53:44, 64.38s/it]"
     ]
    },
    {
     "name": "stdout",
     "output_type": "stream",
     "text": [
      "Unicode Error on file: com.color.by.number.paint.ly.pixel.art\n"
     ]
    },
    {
     "name": "stderr",
     "output_type": "stream",
     "text": [
      " 82%|████████▏ | 483/588 [5:49:59<1:30:50, 51.91s/it]"
     ]
    },
    {
     "name": "stdout",
     "output_type": "stream",
     "text": [
      "Unicode Error on file: com.color.call.flash.colorphone\n"
     ]
    },
    {
     "name": "stderr",
     "output_type": "stream",
     "text": [
      " 82%|████████▏ | 484/588 [5:50:22<1:14:40, 43.08s/it]"
     ]
    },
    {
     "name": "stdout",
     "output_type": "stream",
     "text": [
      "Unicode Error on file: com.color.call.flash.colorphone.theme.coolled\n"
     ]
    },
    {
     "name": "stderr",
     "output_type": "stream",
     "text": [
      " 82%|████████▏ | 485/588 [5:51:23<1:23:04, 48.39s/it]"
     ]
    },
    {
     "name": "stdout",
     "output_type": "stream",
     "text": [
      "Unicode Error on file: com.color.cars\n"
     ]
    },
    {
     "name": "stderr",
     "output_type": "stream",
     "text": [
      " 83%|████████▎ | 489/588 [5:55:11<1:30:45, 55.01s/it]"
     ]
    },
    {
     "name": "stdout",
     "output_type": "stream",
     "text": [
      "Unicode Error on file: com.coloring.girls\n"
     ]
    },
    {
     "name": "stderr",
     "output_type": "stream",
     "text": [
      " 83%|████████▎ | 490/588 [5:56:27<1:40:20, 61.43s/it]"
     ]
    },
    {
     "name": "stdout",
     "output_type": "stream",
     "text": [
      "Unicode Error on file: com.coloring.girlsfree\n"
     ]
    },
    {
     "name": "stderr",
     "output_type": "stream",
     "text": [
      " 84%|████████▍ | 493/588 [5:58:25<1:17:15, 48.79s/it]"
     ]
    },
    {
     "name": "stdout",
     "output_type": "stream",
     "text": [
      "Unicode Error on file: com.colorjoy.learn.to.draw.glow.comics\n"
     ]
    },
    {
     "name": "stderr",
     "output_type": "stream",
     "text": [
      " 84%|████████▍ | 495/588 [6:00:07<1:11:47, 46.31s/it]"
     ]
    },
    {
     "name": "stdout",
     "output_type": "stream",
     "text": [
      "Unicode Error on file: com.colorsnap\n"
     ]
    },
    {
     "name": "stderr",
     "output_type": "stream",
     "text": [
      " 84%|████████▍ | 496/588 [6:00:47<1:08:02, 44.38s/it]"
     ]
    },
    {
     "name": "stdout",
     "output_type": "stream",
     "text": [
      "Unicode Error on file: com.colorswitch.switch2\n"
     ]
    },
    {
     "name": "stderr",
     "output_type": "stream",
     "text": [
      " 85%|████████▍ | 497/588 [6:01:59<1:19:42, 52.56s/it]"
     ]
    },
    {
     "name": "stdout",
     "output_type": "stream",
     "text": [
      "Unicode Error on file: com.colorup.game\n"
     ]
    },
    {
     "name": "stderr",
     "output_type": "stream",
     "text": [
      " 85%|████████▌ | 502/588 [6:08:54<1:57:47, 82.18s/it]"
     ]
    },
    {
     "name": "stdout",
     "output_type": "stream",
     "text": [
      "File Not Found on file: com.cometdocs.pdftoword\n"
     ]
    },
    {
     "name": "stderr",
     "output_type": "stream",
     "text": [
      " 86%|████████▌ | 503/588 [6:09:59<1:49:00, 76.95s/it]"
     ]
    },
    {
     "name": "stdout",
     "output_type": "stream",
     "text": [
      "Unicode Error on file: com.comfun.mobile.ludo.gpas\n"
     ]
    },
    {
     "name": "stderr",
     "output_type": "stream",
     "text": [
      " 86%|████████▋ | 508/588 [6:14:48<1:12:22, 54.28s/it]"
     ]
    },
    {
     "name": "stdout",
     "output_type": "stream",
     "text": [
      "File Not Found on file: com.COMICSMART.GANMA\n"
     ]
    },
    {
     "name": "stderr",
     "output_type": "stream",
     "text": [
      " 87%|████████▋ | 510/588 [6:18:17<1:41:47, 78.30s/it]"
     ]
    },
    {
     "name": "stdout",
     "output_type": "stream",
     "text": [
      "Unicode Error on file: com.company.betswall\n"
     ]
    },
    {
     "name": "stderr",
     "output_type": "stream",
     "text": [
      " 87%|████████▋ | 513/588 [6:21:46<1:33:04, 74.46s/it]"
     ]
    },
    {
     "name": "stdout",
     "output_type": "stream",
     "text": [
      "File Not Found on file: com.comquas.ornagai\n"
     ]
    },
    {
     "name": "stderr",
     "output_type": "stream",
     "text": [
      " 87%|████████▋ | 514/588 [6:23:09<1:35:00, 77.03s/it]"
     ]
    },
    {
     "name": "stdout",
     "output_type": "stream",
     "text": [
      "File Not Found on file: com.conceptworks.spontacts\n"
     ]
    },
    {
     "name": "stderr",
     "output_type": "stream",
     "text": [
      " 88%|████████▊ | 515/588 [6:23:45<1:18:28, 64.50s/it]"
     ]
    },
    {
     "name": "stdout",
     "output_type": "stream",
     "text": [
      "Unicode Error on file: com.concretesoftware.spades_demobuynow\n"
     ]
    },
    {
     "name": "stderr",
     "output_type": "stream",
     "text": [
      " 88%|████████▊ | 516/588 [6:24:41<1:14:31, 62.11s/it]"
     ]
    },
    {
     "name": "stdout",
     "output_type": "stream",
     "text": [
      "File Not Found on file: com.concur.breeze\n"
     ]
    },
    {
     "name": "stderr",
     "output_type": "stream",
     "text": [
      " 88%|████████▊ | 518/588 [6:25:30<50:28, 43.26s/it]  "
     ]
    },
    {
     "name": "stdout",
     "output_type": "stream",
     "text": [
      "Unicode Error on file: com.connected2.ozzy.c2m\n"
     ]
    },
    {
     "name": "stderr",
     "output_type": "stream",
     "text": [
      " 89%|████████▉ | 523/588 [6:28:38<44:01, 40.64s/it]"
     ]
    },
    {
     "name": "stdout",
     "output_type": "stream",
     "text": [
      "Unicode Error on file: com.contentsfirst.tappytoon\n"
     ]
    },
    {
     "name": "stderr",
     "output_type": "stream",
     "text": [
      " 91%|█████████ | 533/588 [6:38:00<46:25, 50.64s/it]  "
     ]
    },
    {
     "name": "stdout",
     "output_type": "stream",
     "text": [
      "Unicode Error on file: com.cookingchef.kitchen.free\n"
     ]
    },
    {
     "name": "stderr",
     "output_type": "stream",
     "text": [
      " 91%|█████████ | 534/588 [6:38:27<39:06, 43.46s/it]"
     ]
    },
    {
     "name": "stdout",
     "output_type": "stream",
     "text": [
      "File Not Found on file: com.cookpad.android.activities\n"
     ]
    },
    {
     "name": "stderr",
     "output_type": "stream",
     "text": [
      " 92%|█████████▏| 540/588 [6:42:36<26:56, 33.68s/it]"
     ]
    },
    {
     "name": "stdout",
     "output_type": "stream",
     "text": [
      "Unicode Error on file: com.coolfishgame.nk\n"
     ]
    },
    {
     "name": "stderr",
     "output_type": "stream",
     "text": [
      " 93%|█████████▎| 549/588 [6:49:15<30:52, 47.50s/it]"
     ]
    },
    {
     "name": "stdout",
     "output_type": "stream",
     "text": [
      "Unicode Error on file: com.cootek.smartinputv5\n"
     ]
    },
    {
     "name": "stderr",
     "output_type": "stream",
     "text": [
      " 94%|█████████▎| 550/588 [6:49:27<23:20, 36.87s/it]"
     ]
    },
    {
     "name": "stdout",
     "output_type": "stream",
     "text": [
      "Unicode Error on file: com.cootek.smartinputv5.skin.keyboard_theme_live_red_neon_heart_new\n"
     ]
    },
    {
     "name": "stderr",
     "output_type": "stream",
     "text": [
      " 94%|█████████▎| 551/588 [6:49:38<17:53, 29.01s/it]"
     ]
    },
    {
     "name": "stdout",
     "output_type": "stream",
     "text": [
      "Unicode Error on file: com.cootek.smartinputv5.skin.keyboard_theme_neon_butterfly_keyboard\n"
     ]
    },
    {
     "name": "stderr",
     "output_type": "stream",
     "text": [
      " 94%|█████████▍| 552/588 [6:49:48<14:05, 23.50s/it]"
     ]
    },
    {
     "name": "stdout",
     "output_type": "stream",
     "text": [
      "Unicode Error on file: com.cootek.smartinputv5.skin.keyboard_theme_sparkling_heart\n"
     ]
    },
    {
     "name": "stderr",
     "output_type": "stream",
     "text": [
      " 94%|█████████▍| 553/588 [6:50:08<13:03, 22.39s/it]"
     ]
    },
    {
     "name": "stdout",
     "output_type": "stream",
     "text": [
      "Unicode Error on file: com.cootek.smartinputv5.skin.theme_free_ios7\n"
     ]
    },
    {
     "name": "stderr",
     "output_type": "stream",
     "text": [
      " 94%|█████████▍| 555/588 [6:51:46<19:47, 35.98s/it]"
     ]
    },
    {
     "name": "stdout",
     "output_type": "stream",
     "text": [
      "File Not Found on file: com.coppel.dasarolloapps.coppelcon\n"
     ]
    },
    {
     "name": "stderr",
     "output_type": "stream",
     "text": [
      " 95%|█████████▍| 558/588 [6:53:49<20:55, 41.84s/it]"
     ]
    },
    {
     "name": "stdout",
     "output_type": "stream",
     "text": [
      "Unicode Error on file: com.cosmo.candybomb.free\n"
     ]
    },
    {
     "name": "stderr",
     "output_type": "stream",
     "text": [
      " 95%|█████████▌| 559/588 [6:54:58<24:10, 50.01s/it]"
     ]
    },
    {
     "name": "stdout",
     "output_type": "stream",
     "text": [
      "File Not Found on file: com.cotewa.nearme\n"
     ]
    },
    {
     "name": "stderr",
     "output_type": "stream",
     "text": [
      " 95%|█████████▌| 560/588 [6:55:44<22:45, 48.77s/it]"
     ]
    },
    {
     "name": "stdout",
     "output_type": "stream",
     "text": [
      "File Not Found on file: com.couchsurfing.mobile.android\n"
     ]
    },
    {
     "name": "stderr",
     "output_type": "stream",
     "text": [
      " 96%|█████████▌| 562/588 [6:57:08<20:02, 46.26s/it]"
     ]
    },
    {
     "name": "stdout",
     "output_type": "stream",
     "text": [
      "Unicode Error on file: com.counter.terrorists.swat.attack\n"
     ]
    },
    {
     "name": "stderr",
     "output_type": "stream",
     "text": [
      " 96%|█████████▌| 563/588 [6:58:40<25:05, 60.20s/it]"
     ]
    },
    {
     "name": "stdout",
     "output_type": "stream",
     "text": [
      "File Not Found on file: com.coupang.mobile\n"
     ]
    },
    {
     "name": "stderr",
     "output_type": "stream",
     "text": [
      " 97%|█████████▋| 569/588 [7:01:55<12:35, 39.77s/it]"
     ]
    },
    {
     "name": "stdout",
     "output_type": "stream",
     "text": [
      "Unicode Error on file: com.cradley.pool.party.fps\n"
     ]
    },
    {
     "name": "stderr",
     "output_type": "stream",
     "text": [
      " 97%|█████████▋| 570/588 [7:02:44<12:45, 42.54s/it]"
     ]
    },
    {
     "name": "stdout",
     "output_type": "stream",
     "text": [
      "Unicode Error on file: com.cradley.prison.escape.casino.robbery\n"
     ]
    },
    {
     "name": "stderr",
     "output_type": "stream",
     "text": [
      " 97%|█████████▋| 571/588 [7:03:35<12:49, 45.24s/it]"
     ]
    },
    {
     "name": "stdout",
     "output_type": "stream",
     "text": [
      "Unicode Error on file: com.cradley.tiger.robot.transforming.games\n"
     ]
    },
    {
     "name": "stderr",
     "output_type": "stream",
     "text": [
      " 98%|█████████▊| 577/588 [7:08:34<07:07, 38.83s/it]"
     ]
    },
    {
     "name": "stdout",
     "output_type": "stream",
     "text": [
      "Unicode Error on file: com.crazylabs.geniustom\n"
     ]
    },
    {
     "name": "stderr",
     "output_type": "stream",
     "text": [
      " 98%|█████████▊| 579/588 [7:09:50<06:15, 41.69s/it]"
     ]
    },
    {
     "name": "stdout",
     "output_type": "stream",
     "text": [
      "Unicode Error on file: com.crazylabs.lady.bug\n"
     ]
    },
    {
     "name": "stderr",
     "output_type": "stream",
     "text": [
      " 99%|█████████▉| 581/588 [7:11:31<05:39, 48.55s/it]"
     ]
    },
    {
     "name": "stdout",
     "output_type": "stream",
     "text": [
      "Unicode Error on file: com.crazylabs.monster.high\n"
     ]
    },
    {
     "name": "stderr",
     "output_type": "stream",
     "text": [
      " 99%|█████████▉| 582/588 [7:12:01<04:18, 43.12s/it]"
     ]
    },
    {
     "name": "stdout",
     "output_type": "stream",
     "text": [
      "Unicode Error on file: com.crazylabs.sausage.run\n"
     ]
    },
    {
     "name": "stderr",
     "output_type": "stream",
     "text": [
      " 99%|█████████▉| 583/588 [7:12:38<03:25, 41.08s/it]"
     ]
    },
    {
     "name": "stdout",
     "output_type": "stream",
     "text": [
      "Unicode Error on file: com.crazyplex.chinesefoodrecipe\n"
     ]
    },
    {
     "name": "stderr",
     "output_type": "stream",
     "text": [
      " 99%|█████████▉| 584/588 [7:13:17<02:42, 40.55s/it]"
     ]
    },
    {
     "name": "stdout",
     "output_type": "stream",
     "text": [
      "Unicode Error on file: com.crazyplex.streetfoodcookinggame\n"
     ]
    },
    {
     "name": "stderr",
     "output_type": "stream",
     "text": [
      "100%|█████████▉| 586/588 [7:14:59<01:30, 45.12s/it]"
     ]
    },
    {
     "name": "stdout",
     "output_type": "stream",
     "text": [
      "Unicode Error on file: com.creative.Learn.to.draw.comics\n"
     ]
    },
    {
     "name": "stderr",
     "output_type": "stream",
     "text": [
      "100%|█████████▉| 587/588 [7:16:27<00:57, 57.98s/it]"
     ]
    },
    {
     "name": "stdout",
     "output_type": "stream",
     "text": [
      "File Not Found on file: com.creative.Learn.to.draw.flowers\n"
     ]
    },
    {
     "name": "stderr",
     "output_type": "stream",
     "text": [
      "100%|██████████| 588/588 [7:17:12<00:00, 44.61s/it]"
     ]
    },
    {
     "name": "stdout",
     "output_type": "stream",
     "text": [
      "Unicode Error on file: com.creative.Learn.to.draw.princess\n",
      "..done! Saved to csv.\n"
     ]
    },
    {
     "name": "stderr",
     "output_type": "stream",
     "text": [
      "\n"
     ]
    }
   ],
   "source": [
    "#This line will clear the DF (call if needed)\n",
    "df = df.iloc[0:0]\n",
    "\n",
    "direc = \"C:\\\\Users\\\\Vin\\\\Desktop\\\\python-ransomware-analyzer\\\\decompiled_benign\"\n",
    "lim_counter = 0\n",
    "#   Limits the number of APKs\n",
    "LIMIT = 2300\n",
    "\n",
    "#   Here, filename means folder\n",
    "#   The tqdm is the loading bar library\n",
    "for filename in tqdm(os.listdir(direc)):\n",
    "\n",
    "    if(lim_counter < LIMIT):\n",
    "        try:\n",
    "            #   If this line does not work, check to see if path is correct\n",
    "            runAnalysis(os.path.join(direc, filename), filename[4:])\n",
    "\n",
    "            #   Increase lim_counter\n",
    "            lim_counter += 1\n",
    "        except UnicodeDecodeError:\n",
    "            print(\"Unicode Error on file: \" + filename[4:])\n",
    "        except FileNotFoundError:\n",
    "            print(\"File Not Found on file: \" + filename[4:])\n",
    "\n",
    "saveToFile(df)\n",
    "print(\"..done! Saved to csv.\")"
   ]
  },
  {
   "cell_type": "code",
   "execution_count": 13,
   "metadata": {},
   "outputs": [
    {
     "name": "stdout",
     "output_type": "stream",
     "text": [
      "..done! Saved to csv.\n"
     ]
    }
   ],
   "source": [
    "saveToFile(df)\n",
    "print(\"..done! Saved to csv.\")"
   ]
  },
  {
   "cell_type": "code",
   "execution_count": 14,
   "metadata": {},
   "outputs": [
    {
     "data": {
      "text/html": [
       "<div>\n",
       "<style scoped>\n",
       "    .dataframe tbody tr th:only-of-type {\n",
       "        vertical-align: middle;\n",
       "    }\n",
       "\n",
       "    .dataframe tbody tr th {\n",
       "        vertical-align: top;\n",
       "    }\n",
       "\n",
       "    .dataframe thead th {\n",
       "        text-align: right;\n",
       "    }\n",
       "</style>\n",
       "<table border=\"1\" class=\"dataframe\">\n",
       "  <thead>\n",
       "    <tr style=\"text-align: right;\">\n",
       "      <th></th>\n",
       "      <th>READ_CALENDAR</th>\n",
       "      <th>WRITE_CALENDAR</th>\n",
       "      <th>CAMERA</th>\n",
       "      <th>READ_CONTACTS</th>\n",
       "      <th>WRITE_CONTACTS</th>\n",
       "      <th>GET_ACCOUNTS</th>\n",
       "      <th>ACCESS_FINE_LOCATION</th>\n",
       "      <th>ACCESS_COARSE_LOCATION</th>\n",
       "      <th>RECORD_AUDIO</th>\n",
       "      <th>READ_PHONE_STATE</th>\n",
       "      <th>...</th>\n",
       "      <th>shareIntent</th>\n",
       "      <th>readPhoneNumber</th>\n",
       "      <th>FileInputStream</th>\n",
       "      <th>getSharedPreferences</th>\n",
       "      <th>telephony</th>\n",
       "      <th>getMessageBody</th>\n",
       "      <th>getDisplayOriginatingAddress</th>\n",
       "      <th>wallpaper</th>\n",
       "      <th>crypto</th>\n",
       "      <th>Name</th>\n",
       "    </tr>\n",
       "  </thead>\n",
       "  <tbody>\n",
       "    <tr>\n",
       "      <th>0</th>\n",
       "      <td>0</td>\n",
       "      <td>0</td>\n",
       "      <td>0</td>\n",
       "      <td>0</td>\n",
       "      <td>0</td>\n",
       "      <td>0</td>\n",
       "      <td>0</td>\n",
       "      <td>0</td>\n",
       "      <td>0</td>\n",
       "      <td>1</td>\n",
       "      <td>...</td>\n",
       "      <td>0</td>\n",
       "      <td>0</td>\n",
       "      <td>67</td>\n",
       "      <td>68</td>\n",
       "      <td>29</td>\n",
       "      <td>0</td>\n",
       "      <td>0</td>\n",
       "      <td>0</td>\n",
       "      <td>74</td>\n",
       "      <td>com.banca</td>\n",
       "    </tr>\n",
       "    <tr>\n",
       "      <th>1</th>\n",
       "      <td>0</td>\n",
       "      <td>0</td>\n",
       "      <td>1</td>\n",
       "      <td>0</td>\n",
       "      <td>0</td>\n",
       "      <td>0</td>\n",
       "      <td>0</td>\n",
       "      <td>0</td>\n",
       "      <td>0</td>\n",
       "      <td>1</td>\n",
       "      <td>...</td>\n",
       "      <td>0</td>\n",
       "      <td>0</td>\n",
       "      <td>60</td>\n",
       "      <td>17</td>\n",
       "      <td>3</td>\n",
       "      <td>0</td>\n",
       "      <td>0</td>\n",
       "      <td>0</td>\n",
       "      <td>39</td>\n",
       "      <td>com.bandai.zakstorm</td>\n",
       "    </tr>\n",
       "    <tr>\n",
       "      <th>2</th>\n",
       "      <td>0</td>\n",
       "      <td>0</td>\n",
       "      <td>0</td>\n",
       "      <td>0</td>\n",
       "      <td>0</td>\n",
       "      <td>0</td>\n",
       "      <td>0</td>\n",
       "      <td>0</td>\n",
       "      <td>0</td>\n",
       "      <td>0</td>\n",
       "      <td>...</td>\n",
       "      <td>0</td>\n",
       "      <td>0</td>\n",
       "      <td>66</td>\n",
       "      <td>49</td>\n",
       "      <td>27</td>\n",
       "      <td>0</td>\n",
       "      <td>0</td>\n",
       "      <td>0</td>\n",
       "      <td>87</td>\n",
       "      <td>com.bandainamcoent.narutoblazingna</td>\n",
       "    </tr>\n",
       "    <tr>\n",
       "      <th>3</th>\n",
       "      <td>0</td>\n",
       "      <td>0</td>\n",
       "      <td>0</td>\n",
       "      <td>0</td>\n",
       "      <td>0</td>\n",
       "      <td>0</td>\n",
       "      <td>0</td>\n",
       "      <td>0</td>\n",
       "      <td>0</td>\n",
       "      <td>0</td>\n",
       "      <td>...</td>\n",
       "      <td>0</td>\n",
       "      <td>0</td>\n",
       "      <td>42</td>\n",
       "      <td>12</td>\n",
       "      <td>5</td>\n",
       "      <td>0</td>\n",
       "      <td>0</td>\n",
       "      <td>0</td>\n",
       "      <td>24</td>\n",
       "      <td>com.bandainamcoent.ninjavoltage_app</td>\n",
       "    </tr>\n",
       "    <tr>\n",
       "      <th>4</th>\n",
       "      <td>0</td>\n",
       "      <td>0</td>\n",
       "      <td>0</td>\n",
       "      <td>0</td>\n",
       "      <td>0</td>\n",
       "      <td>0</td>\n",
       "      <td>0</td>\n",
       "      <td>0</td>\n",
       "      <td>0</td>\n",
       "      <td>0</td>\n",
       "      <td>...</td>\n",
       "      <td>0</td>\n",
       "      <td>0</td>\n",
       "      <td>78</td>\n",
       "      <td>75</td>\n",
       "      <td>5</td>\n",
       "      <td>0</td>\n",
       "      <td>0</td>\n",
       "      <td>0</td>\n",
       "      <td>83</td>\n",
       "      <td>com.bandainamcogames.dbzdokkanww</td>\n",
       "    </tr>\n",
       "    <tr>\n",
       "      <th>...</th>\n",
       "      <td>...</td>\n",
       "      <td>...</td>\n",
       "      <td>...</td>\n",
       "      <td>...</td>\n",
       "      <td>...</td>\n",
       "      <td>...</td>\n",
       "      <td>...</td>\n",
       "      <td>...</td>\n",
       "      <td>...</td>\n",
       "      <td>...</td>\n",
       "      <td>...</td>\n",
       "      <td>...</td>\n",
       "      <td>...</td>\n",
       "      <td>...</td>\n",
       "      <td>...</td>\n",
       "      <td>...</td>\n",
       "      <td>...</td>\n",
       "      <td>...</td>\n",
       "      <td>...</td>\n",
       "      <td>...</td>\n",
       "      <td>...</td>\n",
       "    </tr>\n",
       "    <tr>\n",
       "      <th>380</th>\n",
       "      <td>0</td>\n",
       "      <td>0</td>\n",
       "      <td>0</td>\n",
       "      <td>0</td>\n",
       "      <td>0</td>\n",
       "      <td>0</td>\n",
       "      <td>0</td>\n",
       "      <td>0</td>\n",
       "      <td>0</td>\n",
       "      <td>1</td>\n",
       "      <td>...</td>\n",
       "      <td>0</td>\n",
       "      <td>0</td>\n",
       "      <td>30</td>\n",
       "      <td>19</td>\n",
       "      <td>3</td>\n",
       "      <td>0</td>\n",
       "      <td>0</td>\n",
       "      <td>0</td>\n",
       "      <td>24</td>\n",
       "      <td>com.CrazyDiamond.LoveBeatMobile_Global</td>\n",
       "    </tr>\n",
       "    <tr>\n",
       "      <th>381</th>\n",
       "      <td>0</td>\n",
       "      <td>0</td>\n",
       "      <td>0</td>\n",
       "      <td>1</td>\n",
       "      <td>0</td>\n",
       "      <td>0</td>\n",
       "      <td>0</td>\n",
       "      <td>0</td>\n",
       "      <td>0</td>\n",
       "      <td>0</td>\n",
       "      <td>...</td>\n",
       "      <td>0</td>\n",
       "      <td>0</td>\n",
       "      <td>118</td>\n",
       "      <td>50</td>\n",
       "      <td>12</td>\n",
       "      <td>0</td>\n",
       "      <td>0</td>\n",
       "      <td>0</td>\n",
       "      <td>24</td>\n",
       "      <td>com.crazygame.inputmethod.keyboard7</td>\n",
       "    </tr>\n",
       "    <tr>\n",
       "      <th>382</th>\n",
       "      <td>1</td>\n",
       "      <td>1</td>\n",
       "      <td>1</td>\n",
       "      <td>0</td>\n",
       "      <td>0</td>\n",
       "      <td>1</td>\n",
       "      <td>0</td>\n",
       "      <td>0</td>\n",
       "      <td>1</td>\n",
       "      <td>1</td>\n",
       "      <td>...</td>\n",
       "      <td>0</td>\n",
       "      <td>0</td>\n",
       "      <td>54</td>\n",
       "      <td>6</td>\n",
       "      <td>13</td>\n",
       "      <td>0</td>\n",
       "      <td>0</td>\n",
       "      <td>0</td>\n",
       "      <td>79</td>\n",
       "      <td>com.crazylabs.hotel.transylvania.adventure</td>\n",
       "    </tr>\n",
       "    <tr>\n",
       "      <th>383</th>\n",
       "      <td>0</td>\n",
       "      <td>0</td>\n",
       "      <td>1</td>\n",
       "      <td>1</td>\n",
       "      <td>0</td>\n",
       "      <td>0</td>\n",
       "      <td>1</td>\n",
       "      <td>0</td>\n",
       "      <td>0</td>\n",
       "      <td>0</td>\n",
       "      <td>...</td>\n",
       "      <td>0</td>\n",
       "      <td>0</td>\n",
       "      <td>233</td>\n",
       "      <td>136</td>\n",
       "      <td>108</td>\n",
       "      <td>0</td>\n",
       "      <td>0</td>\n",
       "      <td>0</td>\n",
       "      <td>218</td>\n",
       "      <td>com.crazylabs.light.it.up</td>\n",
       "    </tr>\n",
       "    <tr>\n",
       "      <th>384</th>\n",
       "      <td>0</td>\n",
       "      <td>0</td>\n",
       "      <td>1</td>\n",
       "      <td>0</td>\n",
       "      <td>0</td>\n",
       "      <td>0</td>\n",
       "      <td>0</td>\n",
       "      <td>0</td>\n",
       "      <td>1</td>\n",
       "      <td>0</td>\n",
       "      <td>...</td>\n",
       "      <td>0</td>\n",
       "      <td>0</td>\n",
       "      <td>426</td>\n",
       "      <td>230</td>\n",
       "      <td>129</td>\n",
       "      <td>0</td>\n",
       "      <td>0</td>\n",
       "      <td>0</td>\n",
       "      <td>427</td>\n",
       "      <td>com.creative.colorfit.mandala.coloring.book</td>\n",
       "    </tr>\n",
       "  </tbody>\n",
       "</table>\n",
       "<p>385 rows × 62 columns</p>\n",
       "</div>"
      ],
      "text/plain": [
       "    READ_CALENDAR WRITE_CALENDAR CAMERA READ_CONTACTS WRITE_CONTACTS  \\\n",
       "0               0              0      0             0              0   \n",
       "1               0              0      1             0              0   \n",
       "2               0              0      0             0              0   \n",
       "3               0              0      0             0              0   \n",
       "4               0              0      0             0              0   \n",
       "..            ...            ...    ...           ...            ...   \n",
       "380             0              0      0             0              0   \n",
       "381             0              0      0             1              0   \n",
       "382             1              1      1             0              0   \n",
       "383             0              0      1             1              0   \n",
       "384             0              0      1             0              0   \n",
       "\n",
       "    GET_ACCOUNTS ACCESS_FINE_LOCATION ACCESS_COARSE_LOCATION RECORD_AUDIO  \\\n",
       "0              0                    0                      0            0   \n",
       "1              0                    0                      0            0   \n",
       "2              0                    0                      0            0   \n",
       "3              0                    0                      0            0   \n",
       "4              0                    0                      0            0   \n",
       "..           ...                  ...                    ...          ...   \n",
       "380            0                    0                      0            0   \n",
       "381            0                    0                      0            0   \n",
       "382            1                    0                      0            1   \n",
       "383            0                    1                      0            0   \n",
       "384            0                    0                      0            1   \n",
       "\n",
       "    READ_PHONE_STATE  ... shareIntent readPhoneNumber FileInputStream  \\\n",
       "0                  1  ...           0               0              67   \n",
       "1                  1  ...           0               0              60   \n",
       "2                  0  ...           0               0              66   \n",
       "3                  0  ...           0               0              42   \n",
       "4                  0  ...           0               0              78   \n",
       "..               ...  ...         ...             ...             ...   \n",
       "380                1  ...           0               0              30   \n",
       "381                0  ...           0               0             118   \n",
       "382                1  ...           0               0              54   \n",
       "383                0  ...           0               0             233   \n",
       "384                0  ...           0               0             426   \n",
       "\n",
       "    getSharedPreferences telephony getMessageBody  \\\n",
       "0                     68        29              0   \n",
       "1                     17         3              0   \n",
       "2                     49        27              0   \n",
       "3                     12         5              0   \n",
       "4                     75         5              0   \n",
       "..                   ...       ...            ...   \n",
       "380                   19         3              0   \n",
       "381                   50        12              0   \n",
       "382                    6        13              0   \n",
       "383                  136       108              0   \n",
       "384                  230       129              0   \n",
       "\n",
       "    getDisplayOriginatingAddress wallpaper crypto  \\\n",
       "0                              0         0     74   \n",
       "1                              0         0     39   \n",
       "2                              0         0     87   \n",
       "3                              0         0     24   \n",
       "4                              0         0     83   \n",
       "..                           ...       ...    ...   \n",
       "380                            0         0     24   \n",
       "381                            0         0     24   \n",
       "382                            0         0     79   \n",
       "383                            0         0    218   \n",
       "384                            0         0    427   \n",
       "\n",
       "                                            Name  \n",
       "0                                      com.banca  \n",
       "1                            com.bandai.zakstorm  \n",
       "2             com.bandainamcoent.narutoblazingna  \n",
       "3            com.bandainamcoent.ninjavoltage_app  \n",
       "4               com.bandainamcogames.dbzdokkanww  \n",
       "..                                           ...  \n",
       "380       com.CrazyDiamond.LoveBeatMobile_Global  \n",
       "381          com.crazygame.inputmethod.keyboard7  \n",
       "382   com.crazylabs.hotel.transylvania.adventure  \n",
       "383                    com.crazylabs.light.it.up  \n",
       "384  com.creative.colorfit.mandala.coloring.book  \n",
       "\n",
       "[385 rows x 62 columns]"
      ]
     },
     "execution_count": 14,
     "metadata": {},
     "output_type": "execute_result"
    }
   ],
   "source": [
    "df"
   ]
  },
  {
   "cell_type": "code",
   "execution_count": 15,
   "metadata": {},
   "outputs": [],
   "source": [
    "#This line will clear the DF (call if needed)\n",
    "#df = df.iloc[0:0]\n",
    "\n",
    "#TODO: Add a way to stop/resume analysis"
   ]
  }
 ],
 "metadata": {
  "interpreter": {
   "hash": "f8a4220264a22d692c2e3132ffee74066f7b7c05c532ec5d92c4520053df6773"
  },
  "kernelspec": {
   "display_name": "Python 3.7.9 64-bit",
   "name": "python3"
  },
  "language_info": {
   "codemirror_mode": {
    "name": "ipython",
    "version": 3
   },
   "file_extension": ".py",
   "mimetype": "text/x-python",
   "name": "python",
   "nbconvert_exporter": "python",
   "pygments_lexer": "ipython3",
   "version": "3.7.9"
  }
 },
 "nbformat": 4,
 "nbformat_minor": 2
}
