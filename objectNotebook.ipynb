{
 "cells": [
  {
   "cell_type": "markdown",
   "metadata": {},
   "source": [
    "## Smali & Manifest File Analysis\n",
    "\n",
    "This notebook will try to analyze a directory and its SMALI and MANIFEST files. The analysis will find and print sensitive methods and packages used by the program. "
   ]
  },
  {
   "cell_type": "code",
   "execution_count": 2,
   "metadata": {},
   "outputs": [],
   "source": [
    "from os import walk\n",
    "import pandas as pd"
   ]
  },
  {
   "cell_type": "markdown",
   "metadata": {},
   "source": [
    "## Initially, we declare the lists, and read csvs into the dataframe."
   ]
  },
  {
   "cell_type": "code",
   "execution_count": 3,
   "metadata": {},
   "outputs": [],
   "source": [
    "methods_to_find = []\n",
    "perms_to_find = []\n",
    "found_perms = []\n",
    "found_lines = []\n",
    "\n",
    "#read file using pandas\n",
    "df = pd.read_csv('functions.csv', engine='python')\n",
    "methods_to_find = df.functions\n",
    "df = pd.read_csv('perms.csv', engine='python')\n",
    "perms_to_find   = df.perms"
   ]
  },
  {
   "cell_type": "code",
   "execution_count": 4,
   "metadata": {},
   "outputs": [],
   "source": [
    "class obj:\n",
    "    def __init__(self, name):\n",
    "        self.name = name\n",
    "        self.count = 0\n",
    "    def print(self):\n",
    "        print(self.name + \": \" + str(self.count))"
   ]
  },
  {
   "cell_type": "code",
   "execution_count": 5,
   "metadata": {},
   "outputs": [],
   "source": [
    "myList = []\n",
    "fakeList = []\n",
    "\n",
    "for i in perms_to_find:\n",
    "    myList.append(obj(i))\n",
    "    fakeList.append(i)\n",
    "\n",
    "for i in methods_to_find:\n",
    "    myList.append(obj(i))\n",
    "    fakeList.append(i)\n",
    "\n",
    "def printList():\n",
    "    for i in range(len(myList)):\n",
    "        myList[i].print()"
   ]
  },
  {
   "cell_type": "code",
   "execution_count": 6,
   "metadata": {},
   "outputs": [],
   "source": [
    "def findFunctionsInDir(dir, list=0, verbose = True):\n",
    "    #for each directory, and files\n",
    "    for dirpath, dirnames, files in walk(dir):\n",
    "\n",
    "        #skip the res folder, too many subfolders, slows.\n",
    "        if('res' in dirpath): continue\n",
    "\n",
    "        if(verbose == True): print(f'Found directory: {dirpath}')\n",
    "        for file_name in files:\n",
    "\n",
    "            #if it is a smali file\n",
    "            if('.smali' in file_name):\n",
    "                \n",
    "                #print file name\n",
    "                if(verbose == True): print(file_name)\n",
    "\n",
    "                #open file and print line number and contents\n",
    "                with open(dirpath + \"\\\\\" + file_name) as myFile:\n",
    "                    for num, line in enumerate(myFile, 1):\n",
    "                        for i in methods_to_find:\n",
    "                            if(i in line and 'invoke' in line):\n",
    "                                #print the harmful line\n",
    "                                \n",
    "                                myList[fakeList.index(i)].count += 1\n",
    "                                if(line.strip() not in found_lines):\n",
    "                                    if(verbose == True): print(num, \": \", line)\n",
    "                                    found_lines.append(line.strip())\n",
    "\n",
    "            #if it is a manifest file\n",
    "            if('.xml' in file_name and 'anifest' in file_name):\n",
    "                \n",
    "                #print file name\n",
    "                if(verbose == True): print(file_name)\n",
    "\n",
    "                #open file and print line number and contents\n",
    "                #I had to use latin encoding here or it would simply not work.\n",
    "                with open(dirpath + \"\\\\\" + file_name, encoding=\"latin-1\") as myFile:\n",
    "                    for num, line in enumerate(myFile, 1):\n",
    "                        for i in perms_to_find:\n",
    "                            if(i in line and ('<uses-permission android:name=' in line)\n",
    "                                         or  ('<action android:name=\"android.app.action') in line):\n",
    "                                \n",
    "                                #print the harmful line\n",
    "                                myList[fakeList.index(i)].count += 1\n",
    "                                \n",
    "                                if(line.strip() not in found_perms):\n",
    "                                    if(verbose == True): print(num, \": \", line)\n",
    "                                    found_perms.append(line.strip())"
   ]
  },
  {
   "cell_type": "code",
   "execution_count": 7,
   "metadata": {},
   "outputs": [
    {
     "name": "stdout",
     "output_type": "stream",
     "text": [
      "READ_CALENDAR: 0\n",
      "WRITE_CALENDAR: 0\n",
      "CAMERA: 0\n",
      "READ_CONTACTS: 0\n",
      "WRITE_CONTACTS: 0\n",
      "GET_ACCOUNTS: 0\n",
      "ACCESS_FINE_LOCATION: 0\n",
      "ACCESS_COARSE_LOCATION: 0\n",
      "RECORD_AUDIO: 0\n",
      "READ_PHONE_STATE: 1\n",
      "READ_PHONE_NUMBERS: 0\n",
      "CALL_PHONE: 0\n",
      "ANSWER_PHONE_CALLS: 0\n",
      "READ_CALL_LOG: 0\n",
      "WRITE_CALL_LOG: 0\n",
      "ADD_VOICEMAIL: 0\n",
      "USE_SIP: 0\n",
      "PROCESS_OUTGOING_CALLS: 0\n",
      "BODY_SENSORS: 0\n",
      "SEND_SMS: 0\n",
      "RECEIVE_SMS: 0\n",
      "READ_SMS: 0\n",
      "RECEIVE_WAP_PUSH: 0\n",
      "RECEIVE_MMS: 0\n",
      "READ_EXTERNAL_STORAGE: 1\n",
      "WRITE_EXTERNAL_STORAGE: 1\n",
      "CALL_LOG: 0\n",
      "DEVICE_ADMIN_ENABLED: 0\n",
      "SET_WALLPAPER: 1\n",
      "USER_PRESENT: 0\n",
      "QUICKBOOT_POWERON: 0\n",
      "BOOT_COMPLETED: 0\n",
      "REBOOT: 0\n",
      "SYSTEM_ALERT_WINDOW: 0\n",
      "GET_TASKS: 1\n",
      "MOUNT_UNMOUNT_FILESYSTEMS: 1\n",
      "sendTextMessage: 0\n",
      "sendDataMessage: 0\n",
      "sendMultimediaMessage: 0\n",
      "sendMultipartTextMessage: 0\n",
      "setReadOnly: 0\n",
      "setReadable: 0\n",
      "setWritable: 0\n",
      "Cipher: 22\n",
      "execSQL: 0\n",
      "SQLiteDatabase: 0\n",
      "bindSocket: 0\n",
      "openConnection: 1\n",
      "getFilesDir: 1\n",
      "getCacheDir: 1\n",
      "getExternalFilesDir: 4\n",
      "getExternalCacheDir: 4\n",
      "shareIntent: 0\n",
      "readPhoneNumber: 0\n",
      "FileInputStream: 19\n",
      "getSharedPreferences: 8\n",
      "telephony: 0\n",
      "getMessageBody: 0\n",
      "getDisplayOriginatingAddress: 0\n",
      "wallpaper: 0\n",
      "crypto: 37\n"
     ]
    }
   ],
   "source": [
    "directory = \"C:\\\\Users\\\\Vin\\\\Desktop\\\\apktool\\\\Sample1-WannaLocker\\\\sample1\"\n",
    "\n",
    "findFunctionsInDir(dir=directory, verbose=False)\n",
    "printList()"
   ]
  },
  {
   "cell_type": "code",
   "execution_count": 8,
   "metadata": {},
   "outputs": [],
   "source": [
    "def saveToFile():\n",
    "    file1 = open(\"output2.csv\",\"a\")\n",
    "    for i in range(len(myList)):\n",
    "        file1.write(myList[i].name + \",\" + str(myList[i].count) + \",\\n\")\n",
    "    file1.close()"
   ]
  },
  {
   "cell_type": "code",
   "execution_count": 9,
   "metadata": {},
   "outputs": [],
   "source": [
    "saveToFile()"
   ]
  },
  {
   "cell_type": "code",
   "execution_count": 10,
   "metadata": {},
   "outputs": [
    {
     "data": {
      "text/html": [
       "<div>\n",
       "<style scoped>\n",
       "    .dataframe tbody tr th:only-of-type {\n",
       "        vertical-align: middle;\n",
       "    }\n",
       "\n",
       "    .dataframe tbody tr th {\n",
       "        vertical-align: top;\n",
       "    }\n",
       "\n",
       "    .dataframe thead th {\n",
       "        text-align: right;\n",
       "    }\n",
       "</style>\n",
       "<table border=\"1\" class=\"dataframe\">\n",
       "  <thead>\n",
       "    <tr style=\"text-align: right;\">\n",
       "      <th></th>\n",
       "      <th>READ_CALENDAR</th>\n",
       "      <th>WRITE_CALENDAR</th>\n",
       "      <th>CAMERA</th>\n",
       "      <th>READ_CONTACTS</th>\n",
       "      <th>WRITE_CONTACTS</th>\n",
       "      <th>GET_ACCOUNTS</th>\n",
       "      <th>ACCESS_FINE_LOCATION</th>\n",
       "      <th>ACCESS_COARSE_LOCATION</th>\n",
       "      <th>RECORD_AUDIO</th>\n",
       "      <th>READ_PHONE_STATE</th>\n",
       "      <th>...</th>\n",
       "      <th>getExternalCacheDir</th>\n",
       "      <th>shareIntent</th>\n",
       "      <th>readPhoneNumber</th>\n",
       "      <th>FileInputStream</th>\n",
       "      <th>getSharedPreferences</th>\n",
       "      <th>telephony</th>\n",
       "      <th>getMessageBody</th>\n",
       "      <th>getDisplayOriginatingAddress</th>\n",
       "      <th>wallpaper</th>\n",
       "      <th>crypto</th>\n",
       "    </tr>\n",
       "  </thead>\n",
       "  <tbody>\n",
       "  </tbody>\n",
       "</table>\n",
       "<p>0 rows × 61 columns</p>\n",
       "</div>"
      ],
      "text/plain": [
       "Empty DataFrame\n",
       "Columns: [READ_CALENDAR, WRITE_CALENDAR, CAMERA, READ_CONTACTS, WRITE_CONTACTS, GET_ACCOUNTS, ACCESS_FINE_LOCATION, ACCESS_COARSE_LOCATION, RECORD_AUDIO, READ_PHONE_STATE, READ_PHONE_NUMBERS, CALL_PHONE, ANSWER_PHONE_CALLS, READ_CALL_LOG, WRITE_CALL_LOG, ADD_VOICEMAIL, USE_SIP, PROCESS_OUTGOING_CALLS, BODY_SENSORS, SEND_SMS, RECEIVE_SMS, READ_SMS, RECEIVE_WAP_PUSH, RECEIVE_MMS, READ_EXTERNAL_STORAGE, WRITE_EXTERNAL_STORAGE, CALL_LOG, DEVICE_ADMIN_ENABLED, SET_WALLPAPER, USER_PRESENT, QUICKBOOT_POWERON, BOOT_COMPLETED, REBOOT, SYSTEM_ALERT_WINDOW, GET_TASKS, MOUNT_UNMOUNT_FILESYSTEMS, sendTextMessage, sendDataMessage, sendMultimediaMessage, sendMultipartTextMessage, setReadOnly, setReadable, setWritable, Cipher, execSQL, SQLiteDatabase, bindSocket, openConnection, getFilesDir, getCacheDir, getExternalFilesDir, getExternalCacheDir, shareIntent, readPhoneNumber, FileInputStream, getSharedPreferences, telephony, getMessageBody, getDisplayOriginatingAddress, wallpaper, crypto]\n",
       "Index: []\n",
       "\n",
       "[0 rows x 61 columns]"
      ]
     },
     "execution_count": 10,
     "metadata": {},
     "output_type": "execute_result"
    }
   ],
   "source": [
    "df = pd.DataFrame(columns=fakeList)\n",
    "df"
   ]
  },
  {
   "cell_type": "code",
   "execution_count": 22,
   "metadata": {},
   "outputs": [
    {
     "name": "stderr",
     "output_type": "stream",
     "text": [
      "C:\\Users\\Vin\\AppData\\Local\\Packages\\PythonSoftwareFoundation.Python.3.7_qbz5n2kfra8p0\\LocalCache\\local-packages\\Python37\\site-packages\\pandas\\core\\indexing.py:723: SettingWithCopyWarning: \n",
      "A value is trying to be set on a copy of a slice from a DataFrame\n",
      "\n",
      "See the caveats in the documentation: https://pandas.pydata.org/pandas-docs/stable/user_guide/indexing.html#returning-a-view-versus-a-copy\n",
      "  iloc._setitem_with_indexer(indexer, value, self.name)\n"
     ]
    },
    {
     "data": {
      "text/html": [
       "<div>\n",
       "<style scoped>\n",
       "    .dataframe tbody tr th:only-of-type {\n",
       "        vertical-align: middle;\n",
       "    }\n",
       "\n",
       "    .dataframe tbody tr th {\n",
       "        vertical-align: top;\n",
       "    }\n",
       "\n",
       "    .dataframe thead th {\n",
       "        text-align: right;\n",
       "    }\n",
       "</style>\n",
       "<table border=\"1\" class=\"dataframe\">\n",
       "  <thead>\n",
       "    <tr style=\"text-align: right;\">\n",
       "      <th></th>\n",
       "      <th>READ_CALENDAR</th>\n",
       "      <th>WRITE_CALENDAR</th>\n",
       "      <th>CAMERA</th>\n",
       "      <th>READ_CONTACTS</th>\n",
       "      <th>WRITE_CONTACTS</th>\n",
       "      <th>GET_ACCOUNTS</th>\n",
       "      <th>ACCESS_FINE_LOCATION</th>\n",
       "      <th>ACCESS_COARSE_LOCATION</th>\n",
       "      <th>RECORD_AUDIO</th>\n",
       "      <th>READ_PHONE_STATE</th>\n",
       "      <th>...</th>\n",
       "      <th>getExternalCacheDir</th>\n",
       "      <th>shareIntent</th>\n",
       "      <th>readPhoneNumber</th>\n",
       "      <th>FileInputStream</th>\n",
       "      <th>getSharedPreferences</th>\n",
       "      <th>telephony</th>\n",
       "      <th>getMessageBody</th>\n",
       "      <th>getDisplayOriginatingAddress</th>\n",
       "      <th>wallpaper</th>\n",
       "      <th>crypto</th>\n",
       "    </tr>\n",
       "  </thead>\n",
       "  <tbody>\n",
       "    <tr>\n",
       "      <th>0</th>\n",
       "      <td>0</td>\n",
       "      <td>0</td>\n",
       "      <td>0</td>\n",
       "      <td>0</td>\n",
       "      <td>0</td>\n",
       "      <td>0</td>\n",
       "      <td>0</td>\n",
       "      <td>0</td>\n",
       "      <td>0</td>\n",
       "      <td>1</td>\n",
       "      <td>...</td>\n",
       "      <td>4</td>\n",
       "      <td>0</td>\n",
       "      <td>0</td>\n",
       "      <td>19</td>\n",
       "      <td>8</td>\n",
       "      <td>0</td>\n",
       "      <td>0</td>\n",
       "      <td>0</td>\n",
       "      <td>0</td>\n",
       "      <td>37</td>\n",
       "    </tr>\n",
       "  </tbody>\n",
       "</table>\n",
       "<p>1 rows × 61 columns</p>\n",
       "</div>"
      ],
      "text/plain": [
       "  READ_CALENDAR WRITE_CALENDAR CAMERA READ_CONTACTS WRITE_CONTACTS  \\\n",
       "0             0              0      0             0              0   \n",
       "\n",
       "  GET_ACCOUNTS ACCESS_FINE_LOCATION ACCESS_COARSE_LOCATION RECORD_AUDIO  \\\n",
       "0            0                    0                      0            0   \n",
       "\n",
       "  READ_PHONE_STATE  ... getExternalCacheDir shareIntent readPhoneNumber  \\\n",
       "0                1  ...                   4           0               0   \n",
       "\n",
       "  FileInputStream getSharedPreferences telephony getMessageBody  \\\n",
       "0              19                    8         0              0   \n",
       "\n",
       "  getDisplayOriginatingAddress wallpaper crypto  \n",
       "0                            0         0     37  \n",
       "\n",
       "[1 rows x 61 columns]"
      ]
     },
     "execution_count": 22,
     "metadata": {},
     "output_type": "execute_result"
    }
   ],
   "source": [
    "listOfCount = []\n",
    "for i in range(len(myList)):\n",
    "    listOfCount.append(myList[i].count)\n",
    "\n",
    "df.loc[len(df.index)] = listOfCount\n",
    "df"
   ]
  },
  {
   "cell_type": "code",
   "execution_count": 19,
   "metadata": {},
   "outputs": [],
   "source": [
    "df = df.iloc[0:0]"
   ]
  }
 ],
 "metadata": {
  "interpreter": {
   "hash": "320ac9d7d90cb04b1d605a796df630f2fa27669b38d4922559081428401cacbd"
  },
  "kernelspec": {
   "display_name": "Python 3.7.9 64-bit (windows store)",
   "name": "python3"
  },
  "language_info": {
   "codemirror_mode": {
    "name": "ipython",
    "version": 3
   },
   "file_extension": ".py",
   "mimetype": "text/x-python",
   "name": "python",
   "nbconvert_exporter": "python",
   "pygments_lexer": "ipython3",
   "version": "3.7.9"
  }
 },
 "nbformat": 4,
 "nbformat_minor": 2
}
