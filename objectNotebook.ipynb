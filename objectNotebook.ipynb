{
 "cells": [
  {
   "cell_type": "markdown",
   "source": [
    "# Smali & Manifest File Analysis\r\n",
    "\r\n",
    "# This notebook will try to analyze a directory and its SMALI and MANIFEST files. The analysis will find and print sensitive methods and packages used by the program.\r\n",
    "\r\n",
    "# This particular notebook only does 1 directory at a time."
   ],
   "metadata": {}
  },
  {
   "cell_type": "code",
   "execution_count": 43,
   "source": [
    "from os import walk\r\n",
    "import pandas as pd\r\n",
    "import os"
   ],
   "outputs": [],
   "metadata": {}
  },
  {
   "cell_type": "code",
   "execution_count": 44,
   "source": [
    "def decompileAll():\r\n",
    "\r\n",
    "    # 1: Traverse all APKs in the folder:\r\n",
    "    dir = 'C:\\\\Users\\\\Vin\\\\Desktop\\\\python-ransomware-analyzer\\\\ransomware'\r\n",
    "\r\n",
    "    for filename in os.listdir(dir):\r\n",
    "        if filename.endswith('.apk'):\r\n",
    "            print(\"decompiling: \"+ filename)\r\n",
    "            \r\n",
    "            #set output directory (removing .apk from the end)\r\n",
    "            foldername = 'out_' + filename[:-4]\r\n",
    "            var1 = r'C:\\Users\\Vin\\Desktop\\python-ransomware-analyzer\\decompiledApks\\\\' + foldername\r\n",
    "        \r\n",
    "            #set input apk\r\n",
    "            var2 = r'C:\\Users\\Vin\\Desktop\\python-ransomware-analyzer\\ransomware\\\\' + filename\r\n",
    "\r\n",
    "            #convert python vars to batch vars\r\n",
    "            os.putenv(\"VAR1\", var1)\r\n",
    "            os.putenv(\"VAR2\", var2)\r\n",
    "\r\n",
    "            #call the run.bat for the apktool\r\n",
    "            os.system(\"run.bat\")\r\n",
    "    print(\"...Done!\")"
   ],
   "outputs": [],
   "metadata": {}
  },
  {
   "cell_type": "code",
   "execution_count": 45,
   "source": [
    "#create empty lists\r\n",
    "methods_to_find = []\r\n",
    "perms_to_find = []\r\n",
    "\r\n",
    "#read file using pandas\r\n",
    "df = pd.read_csv('functions.csv', engine='python')\r\n",
    "methods_to_find = df.functions\r\n",
    "\r\n",
    "df = pd.read_csv('perms.csv', engine='python')\r\n",
    "perms_to_find   = df.perms"
   ],
   "outputs": [],
   "metadata": {}
  },
  {
   "cell_type": "code",
   "execution_count": 46,
   "source": [
    "#Create class object to be used in the lists\r\n",
    "class obj:\r\n",
    "    def __init__(self, name):\r\n",
    "        self.name = name\r\n",
    "        self.count = 0\r\n",
    "    def print(self):\r\n",
    "        print(self.name + \": \" + str(self.count))"
   ],
   "outputs": [],
   "metadata": {}
  },
  {
   "cell_type": "code",
   "execution_count": 47,
   "source": [
    "#Initialize empty lists\r\n",
    "myList = []\r\n",
    "fakeList = []\r\n",
    "\r\n",
    "#Fill lists with permissions and functions\r\n",
    "for i in perms_to_find:\r\n",
    "    myList.append(obj(i))\r\n",
    "    fakeList.append(i)\r\n",
    "\r\n",
    "for i in methods_to_find:\r\n",
    "    myList.append(obj(i))\r\n",
    "    fakeList.append(i)\r\n",
    "\r\n",
    "#self print function for list\r\n",
    "def printList():\r\n",
    "    for i in range(len(myList)):\r\n",
    "        myList[i].print()"
   ],
   "outputs": [],
   "metadata": {}
  },
  {
   "cell_type": "code",
   "execution_count": 48,
   "source": [
    "#Create empty dataframe\r\n",
    "df = pd.DataFrame(columns=fakeList)\r\n",
    "df.to_csv('my_csv.csv', mode='w', header=True)"
   ],
   "outputs": [],
   "metadata": {}
  },
  {
   "cell_type": "code",
   "execution_count": 49,
   "source": [
    "def findFunctionsInDir(direct, list=0, verbose = True):\r\n",
    "\r\n",
    "    #for each directory, and files\r\n",
    "    for dirpath, dirnames, files in walk(direct):\r\n",
    "\r\n",
    "        #skip the res folder, too many subfolders, slows.\r\n",
    "        #if('res' in dirpath): continue\r\n",
    "\r\n",
    "        if(verbose == True): print(f'Found directory: {dirpath}')\r\n",
    "        for file_name in files:\r\n",
    "\r\n",
    "            #if it is a smali file\r\n",
    "            if('.smali' in file_name):\r\n",
    "                \r\n",
    "                #print file name\r\n",
    "                if(verbose == True): print(file_name)\r\n",
    "\r\n",
    "                #open file and print line number and contents\r\n",
    "                with open(dirpath + \"\\\\\" + file_name) as myFile:\r\n",
    "                    for num, line in enumerate(myFile, 1):\r\n",
    "                        for i in methods_to_find:\r\n",
    "                            if(i in line and 'invoke' in line):\r\n",
    "\r\n",
    "                                #Increase counter for found item\r\n",
    "                                myList[fakeList.index(i)].count += 1\r\n",
    "\r\n",
    "            #if it is a manifest file\r\n",
    "            if('.xml' in file_name and 'anifest' in file_name):\r\n",
    "                \r\n",
    "                #print file name\r\n",
    "                if(verbose == True): print(file_name)\r\n",
    "\r\n",
    "                #open file and print line number and contents\r\n",
    "                #I had to use latin encoding here or it would simply not work.\r\n",
    "                with open(dirpath + \"\\\\\" + file_name, encoding=\"latin-1\") as myFile:\r\n",
    "                    for num, line in enumerate(myFile, 1):\r\n",
    "                        for i in perms_to_find:\r\n",
    "                            if(i in line and ('<uses-permission android:name=' in line)\r\n",
    "                                         or  ('<action android:name=\"android.app.action') in line):\r\n",
    "                                \r\n",
    "                                #Set permission found to 1\r\n",
    "                                myList[fakeList.index(i)].count += 1"
   ],
   "outputs": [],
   "metadata": {}
  },
  {
   "cell_type": "code",
   "execution_count": 50,
   "source": [
    "#function saves to csv file\r\n",
    "def saveToFile(df):\r\n",
    "    df.to_csv('my_csv.csv', mode='a', header=False)  "
   ],
   "outputs": [],
   "metadata": {}
  },
  {
   "cell_type": "code",
   "execution_count": 51,
   "source": [
    "def appendToDF(myList, df):\r\n",
    "    #initialize empty list for the counts only.\r\n",
    "    listOfCount = []\r\n",
    "\r\n",
    "    #fill such list\r\n",
    "    for i in range(len(myList)):\r\n",
    "        listOfCount.append(myList[i].count)\r\n",
    "\r\n",
    "    #append the list to the dataframe\r\n",
    "    df.loc[len(df.index)] = listOfCount"
   ],
   "outputs": [],
   "metadata": {}
  },
  {
   "cell_type": "code",
   "execution_count": 52,
   "source": [
    "#for the passed directory, do: CALL FIND FUNCTIONS, APPEND THE RESULTING myList to the df, save.\r\n",
    "def runAnalysis(filename):\r\n",
    "    findFunctionsInDir(direct=filename, verbose=False)\r\n",
    "\r\n",
    "    #see if list checks out:\r\n",
    "    #printList()\r\n",
    "\r\n",
    "    appendToDF(myList, df)"
   ],
   "outputs": [],
   "metadata": {}
  },
  {
   "cell_type": "code",
   "execution_count": 53,
   "source": [
    "#decompile all of the APKs in folder (hardcoded)\r\n",
    "decompileAll()\r\n",
    "\r\n",
    "#This line will clear the DF (call if needed)\r\n",
    "df = df.iloc[0:0]\r\n",
    "\r\n",
    "direc = \"C:\\\\Users\\\\Vin\\\\Desktop\\\\python-ransomware-analyzer\\\\decompiledApks\"\r\n",
    "\r\n",
    "# Here, filename means folder.\r\n",
    "for filename in os.listdir(direc):\r\n",
    "    print(\"Analyzing: \" + filename)\r\n",
    "\r\n",
    "    #IF THINGS DONT WORK, CHECK IF THE PATH IS CORRECT:\r\n",
    "    runAnalysis(os.path.join(direc, filename))\r\n",
    "\r\n",
    "saveToFile(df)\r\n",
    "print(\"..done! Saved to csv.\")"
   ],
   "outputs": [
    {
     "output_type": "stream",
     "name": "stdout",
     "text": [
      "Analyzing: sample1\n",
      "..done! Saved to csv.\n"
     ]
    }
   ],
   "metadata": {}
  },
  {
   "cell_type": "code",
   "execution_count": 54,
   "source": [
    "df"
   ],
   "outputs": [
    {
     "output_type": "execute_result",
     "data": {
      "text/html": [
       "<div>\n",
       "<style scoped>\n",
       "    .dataframe tbody tr th:only-of-type {\n",
       "        vertical-align: middle;\n",
       "    }\n",
       "\n",
       "    .dataframe tbody tr th {\n",
       "        vertical-align: top;\n",
       "    }\n",
       "\n",
       "    .dataframe thead th {\n",
       "        text-align: right;\n",
       "    }\n",
       "</style>\n",
       "<table border=\"1\" class=\"dataframe\">\n",
       "  <thead>\n",
       "    <tr style=\"text-align: right;\">\n",
       "      <th></th>\n",
       "      <th>READ_CALENDAR</th>\n",
       "      <th>WRITE_CALENDAR</th>\n",
       "      <th>CAMERA</th>\n",
       "      <th>READ_CONTACTS</th>\n",
       "      <th>WRITE_CONTACTS</th>\n",
       "      <th>GET_ACCOUNTS</th>\n",
       "      <th>ACCESS_FINE_LOCATION</th>\n",
       "      <th>ACCESS_COARSE_LOCATION</th>\n",
       "      <th>RECORD_AUDIO</th>\n",
       "      <th>READ_PHONE_STATE</th>\n",
       "      <th>...</th>\n",
       "      <th>getExternalCacheDir</th>\n",
       "      <th>shareIntent</th>\n",
       "      <th>readPhoneNumber</th>\n",
       "      <th>FileInputStream</th>\n",
       "      <th>getSharedPreferences</th>\n",
       "      <th>telephony</th>\n",
       "      <th>getMessageBody</th>\n",
       "      <th>getDisplayOriginatingAddress</th>\n",
       "      <th>wallpaper</th>\n",
       "      <th>crypto</th>\n",
       "    </tr>\n",
       "  </thead>\n",
       "  <tbody>\n",
       "    <tr>\n",
       "      <th>0</th>\n",
       "      <td>0</td>\n",
       "      <td>0</td>\n",
       "      <td>0</td>\n",
       "      <td>0</td>\n",
       "      <td>0</td>\n",
       "      <td>0</td>\n",
       "      <td>0</td>\n",
       "      <td>0</td>\n",
       "      <td>0</td>\n",
       "      <td>1</td>\n",
       "      <td>...</td>\n",
       "      <td>4</td>\n",
       "      <td>0</td>\n",
       "      <td>0</td>\n",
       "      <td>19</td>\n",
       "      <td>8</td>\n",
       "      <td>0</td>\n",
       "      <td>0</td>\n",
       "      <td>0</td>\n",
       "      <td>0</td>\n",
       "      <td>37</td>\n",
       "    </tr>\n",
       "  </tbody>\n",
       "</table>\n",
       "<p>1 rows × 61 columns</p>\n",
       "</div>"
      ],
      "text/plain": [
       "  READ_CALENDAR WRITE_CALENDAR CAMERA READ_CONTACTS WRITE_CONTACTS  \\\n",
       "0             0              0      0             0              0   \n",
       "\n",
       "  GET_ACCOUNTS ACCESS_FINE_LOCATION ACCESS_COARSE_LOCATION RECORD_AUDIO  \\\n",
       "0            0                    0                      0            0   \n",
       "\n",
       "  READ_PHONE_STATE  ... getExternalCacheDir shareIntent readPhoneNumber  \\\n",
       "0                1  ...                   4           0               0   \n",
       "\n",
       "  FileInputStream getSharedPreferences telephony getMessageBody  \\\n",
       "0              19                    8         0              0   \n",
       "\n",
       "  getDisplayOriginatingAddress wallpaper crypto  \n",
       "0                            0         0     37  \n",
       "\n",
       "[1 rows x 61 columns]"
      ]
     },
     "metadata": {},
     "execution_count": 54
    }
   ],
   "metadata": {}
  },
  {
   "cell_type": "code",
   "execution_count": 55,
   "source": [
    "#This line will clear the DF (call if needed)\r\n",
    "df = df.iloc[0:0]"
   ],
   "outputs": [],
   "metadata": {}
  }
 ],
 "metadata": {
  "interpreter": {
   "hash": "f8a4220264a22d692c2e3132ffee74066f7b7c05c532ec5d92c4520053df6773"
  },
  "kernelspec": {
   "name": "python3",
   "display_name": "Python 3.7.9 64-bit"
  },
  "language_info": {
   "codemirror_mode": {
    "name": "ipython",
    "version": 3
   },
   "file_extension": ".py",
   "mimetype": "text/x-python",
   "name": "python",
   "nbconvert_exporter": "python",
   "pygments_lexer": "ipython3",
   "version": "3.7.9"
  }
 },
 "nbformat": 4,
 "nbformat_minor": 2
}